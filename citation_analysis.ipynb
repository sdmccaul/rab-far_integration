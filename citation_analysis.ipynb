{
 "cells": [
  {
   "cell_type": "code",
   "execution_count": 1,
   "metadata": {},
   "outputs": [],
   "source": [
    "import pandas as pd\n",
    "from collections import namedtuple, defaultdict"
   ]
  },
  {
   "cell_type": "code",
   "execution_count": 14,
   "metadata": {},
   "outputs": [
    {
     "data": {
      "text/plain": [
       "['http://vivo.brown.edu/ontology/citation#date',\n",
       " 'http://vivo.brown.edu/ontology/citation#volume',\n",
       " 'http://www.w3.org/1999/02/22-rdf-syntax-ns#type',\n",
       " 'http://vivo.brown.edu/ontology/citation#hasContributor',\n",
       " 'http://vitro.mannlib.cornell.edu/ns/vitro/0.7#mostSpecificType',\n",
       " 'http://vivo.brown.edu/ontology/citation#authorList',\n",
       " 'http://vivo.brown.edu/ontology/citation#pmid',\n",
       " 'http://vivo.brown.edu/ontology/citation#issue',\n",
       " 'http://vivo.brown.edu/ontology/citation#doi',\n",
       " 'http://vivo.brown.edu/ontology/citation#hasVenue',\n",
       " 'http://vivo.brown.edu/ontology/citation#pages',\n",
       " 'http://www.w3.org/2000/01/rdf-schema#label',\n",
       " 'http://vivo.brown.edu/ontology/citation#pmcid',\n",
       " 'http://vivo.brown.edu/ontology/citation#issn',\n",
       " 'http://vivo.brown.edu/ontology/citation#venueFor',\n",
       " 'http://vivo.brown.edu/ontology/citation#eissn',\n",
       " 'http://vivo.brown.edu/ontology/citation#publishedIn',\n",
       " 'http://vivo.brown.edu/ontology/citation#book',\n",
       " 'http://vivo.brown.edu/ontology/citation#hasLocation',\n",
       " 'http://vivo.brown.edu/ontology/citation#editorList',\n",
       " 'http://vivo.brown.edu/ontology/citation#chapter',\n",
       " 'http://vivo.brown.edu/ontology/citation#hasPublisher',\n",
       " 'http://vivo.brown.edu/ontology/citation#isbn',\n",
       " 'http://vivo.brown.edu/ontology/citation#url',\n",
       " 'http://vivo.brown.edu/ontology/citation#hasConferenceLocation',\n",
       " 'http://vivo.brown.edu/ontology/citation#conferenceDate',\n",
       " 'http://vivo.brown.edu/ontology/citation#hasConference',\n",
       " 'http://vivo.brown.edu/ontology/citation#reviewOf',\n",
       " 'http://vivo.brown.edu/ontology/citation#title',\n",
       " 'http://vivo.brown.edu/ontology/citation#number',\n",
       " 'http://vivo.brown.edu/ontology/citation#version',\n",
       " 'http://vivo.brown.edu/ontology/citation#hasAssignee',\n",
       " 'http://vivo.brown.edu/ontology/citation#hasCountry',\n",
       " 'http://vivo.brown.edu/ontology/citation#hasAuthority',\n",
       " 'http://vivo.brown.edu/ontology/citation#patentNumber',\n",
       " 'http://vitro.mannlib.cornell.edu/ns/vitro/public#filename',\n",
       " 'http://vitro.mannlib.cornell.edu/ns/vitro/public#downloadLocation',\n",
       " 'http://vitro.mannlib.cornell.edu/ns/vitro/public#modTime',\n",
       " 'http://vitro.mannlib.cornell.edu/ns/vitro/public#mimeType']"
      ]
     },
     "execution_count": 14,
     "metadata": {},
     "output_type": "execute_result"
    }
   ],
   "source": [
    "with open('data/cite_properties.csv') as f:\n",
    "    data = f.readlines()\n",
    "    # skip header, strip trailing whitespace\n",
    "    cite_props = [ d.strip() for d in data[1:] ]\n",
    "\n",
    "cite_props"
   ]
  },
  {
   "cell_type": "code",
   "execution_count": 15,
   "metadata": {},
   "outputs": [
    {
     "data": {
      "text/plain": [
       "dict_values(['date', 'volume', 'hasContributor', 'authorList', 'pmid', 'issue', 'doi', 'hasVenue', 'pages', 'pmcid', 'issn', 'venueFor', 'eissn', 'publishedIn', 'book', 'hasLocation', 'editorList', 'chapter', 'hasPublisher', 'isbn', 'url', 'hasConferenceLocation', 'conferenceDate', 'hasConference', 'reviewOf', 'title', 'number', 'version', 'hasAssignee', 'hasCountry', 'hasAuthority', 'patentNumber', 'rabid'])"
      ]
     },
     "execution_count": 15,
     "metadata": {},
     "output_type": "execute_result"
    }
   ],
   "source": [
    "cite_prop_map = { c: c[40:] for c in cite_props if c.startswith('http://vivo.brown.edu/ontology/citation#') }\n",
    "cite_prop_map['rabid'] = 'rabid'\n",
    "cite_prop_map.values()"
   ]
  },
  {
   "cell_type": "code",
   "execution_count": 37,
   "metadata": {},
   "outputs": [],
   "source": [
    "RABCitation = namedtuple('RABCitation', sorted(cite_prop_map.values()))"
   ]
  },
  {
   "cell_type": "code",
   "execution_count": 38,
   "metadata": {},
   "outputs": [],
   "source": [
    "with open('data/cite_data.nt') as f:\n",
    "    data = f.readlines()"
   ]
  },
  {
   "cell_type": "code",
   "execution_count": 39,
   "metadata": {},
   "outputs": [],
   "source": [
    "def clean_data_prop(oData):\n",
    "    return oData.rsplit('\"^^<http://www.w3.org/2001/XMLSchema#', maxsplit=1)[0].strip('\\\"\\n .<>')"
   ]
  },
  {
   "cell_type": "code",
   "execution_count": 40,
   "metadata": {},
   "outputs": [],
   "source": [
    "def parse_triple(rawRow):\n",
    "    s,p,o = rawRow.split(' ',maxsplit=2)\n",
    "    s = s.strip('<>')\n",
    "    p = p.strip('<>')\n",
    "    o = clean_data_prop(o)\n",
    "    return (s,p,o)"
   ]
  },
  {
   "cell_type": "code",
   "execution_count": 41,
   "metadata": {},
   "outputs": [
    {
     "data": {
      "text/plain": [
       "('http://vivo.brown.edu/individual/n5c6cae127059414ca258636cd3dc482b',\n",
       " 'http://www.w3.org/2000/01/rdf-schema#label',\n",
       " 'Erratum to: Global magnetic confinement for the 1.5D Vlasov-Maxwell system')"
      ]
     },
     "execution_count": 41,
     "metadata": {},
     "output_type": "execute_result"
    }
   ],
   "source": [
    "cite_triples = []\n",
    "for t in data:\n",
    "    cite_triples.append(parse_triple(t))\n",
    "\n",
    "cite_triples[0]"
   ]
  },
  {
   "cell_type": "code",
   "execution_count": 42,
   "metadata": {},
   "outputs": [],
   "source": [
    "cite_dicts = defaultdict(dict)\n",
    "for t in cite_triples:\n",
    "    if t[1] in cite_prop_map:\n",
    "        cite_dicts[t[0]][cite_prop_map[t[1]]] = t[2]"
   ]
  },
  {
   "cell_type": "code",
   "execution_count": 43,
   "metadata": {},
   "outputs": [
    {
     "name": "stdout",
     "output_type": "stream",
     "text": [
      "RABCitation(authorList='Nguyen, Toan T., Nguyen, Truyen V., Strauss, Walter A', book='', chapter='', conferenceDate='', date='2015-06-01', doi='10.3934/krm.2015.8.615', editorList='', eissn='', hasAssignee='', hasAuthority='', hasConference='', hasConferenceLocation='', hasContributor='http://vivo.brown.edu/individual/wstrauss', hasCountry='', hasLocation='', hasPublisher='', hasVenue='http://vivo.brown.edu/individual/n6086eb8fe7824cad9423547d403a958d', isbn='', issn='', issue='3', number='', pages='615-616', patentNumber='', pmcid='', pmid='', publishedIn='Kinetic and Related Models', rabid='http://vivo.brown.edu/individual/n5c6cae127059414ca258636cd3dc482b', reviewOf='', title='', url='', venueFor='', version='', volume='8')\n",
      "RABCitation(authorList='Li, Jin', book='', chapter='', conferenceDate='', date='2004-01-01', doi='10.1037/0012-1649.40.4.595', editorList='', eissn='', hasAssignee='', hasAuthority='', hasConference='', hasConferenceLocation='', hasContributor='http://vivo.brown.edu/individual/jili', hasCountry='', hasLocation='', hasPublisher='', hasVenue='http://vivo.brown.edu/individual/n60865', isbn='', issn='', issue='4', number='', pages='595-605', patentNumber='', pmcid='', pmid='15238046', publishedIn='', rabid='http://vivo.brown.edu/individual/n52747', reviewOf='', title='', url='', venueFor='', version='', volume='40')\n",
      "RABCitation(authorList='Brown JL, Sales JM, DiClemente RJ, Salazar LF, Vanable PA, Carey MP, Brown LK, Romer D, Valois RF, Stanton B', book='', chapter='', conferenceDate='', date='2012-08-01', doi='10.1007/s10461-012-0163-8', editorList='', eissn='', hasAssignee='', hasAuthority='', hasConference='', hasConferenceLocation='', hasContributor='http://vivo.brown.edu/individual/lbrownmd', hasCountry='', hasLocation='', hasPublisher='', hasVenue='http://vivo.brown.edu/individual/n79279', isbn='', issn='', issue='6', number='', pages='1491-500', patentNumber='', pmcid='PMC3471653', pmid='22323006', publishedIn='', rabid='http://vivo.brown.edu/individual/n8301', reviewOf='', title='', url='', venueFor='', version='', volume='16')\n",
      "RABCitation(authorList='Sears WL, Goto-Mandeville R, Mirapuri M, Braun L', book='', chapter='', conferenceDate='', date='1995-07-01', doi='10.1002/mc.2940130304', editorList='', eissn='', hasAssignee='', hasAuthority='', hasConference='', hasConferenceLocation='', hasContributor='http://vivo.brown.edu/individual/lbraun', hasCountry='', hasLocation='', hasPublisher='', hasVenue='http://vivo.brown.edu/individual/n82319', isbn='', issn='', issue='3', number='', pages='146-56', patentNumber='', pmcid='', pmid='7619217', publishedIn='', rabid='http://vivo.brown.edu/individual/n98528', reviewOf='', title='', url='', venueFor='', version='', volume='13')\n",
      "RABCitation(authorList='Graves, Hannah, Hernandez, Lynn, Kahler, Christopher, Spirito, Anthony', book='', chapter='', conferenceDate='', date='2015-01-01', doi='10.1016/j.drugalcdep.2014.09.265', editorList='', eissn='', hasAssignee='', hasAuthority='', hasConference='', hasConferenceLocation='', hasContributor='http://vivo.brown.edu/individual/lh15', hasCountry='', hasLocation='', hasPublisher='', hasVenue='http://vivo.brown.edu/individual/n48368', isbn='', issn='', issue='', number='', pages='e127-e128', patentNumber='', pmcid='', pmid='', publishedIn='', rabid='http://vivo.brown.edu/individual/n52835', reviewOf='', title='', url='', venueFor='', version='', volume='146')\n"
     ]
    }
   ],
   "source": [
    "empty_row = { cite_prop_map[p]: '' for p in cite_prop_map }\n",
    "rab_rows = []\n",
    "for c in cite_dicts:\n",
    "    d = cite_dicts[c]\n",
    "    d['rabid'] = c\n",
    "    row = empty_row.copy()\n",
    "    row.update(d)\n",
    "    rab_rows.append(RABCitation(**row))\n",
    "\n",
    "for r in rab_rows[:5]:\n",
    "    print(r)"
   ]
  },
  {
   "cell_type": "code",
   "execution_count": 44,
   "metadata": {},
   "outputs": [
    {
     "data": {
      "text/html": [
       "<div>\n",
       "<style scoped>\n",
       "    .dataframe tbody tr th:only-of-type {\n",
       "        vertical-align: middle;\n",
       "    }\n",
       "\n",
       "    .dataframe tbody tr th {\n",
       "        vertical-align: top;\n",
       "    }\n",
       "\n",
       "    .dataframe thead th {\n",
       "        text-align: right;\n",
       "    }\n",
       "</style>\n",
       "<table border=\"1\" class=\"dataframe\">\n",
       "  <thead>\n",
       "    <tr style=\"text-align: right;\">\n",
       "      <th></th>\n",
       "      <th>authorList</th>\n",
       "      <th>book</th>\n",
       "      <th>chapter</th>\n",
       "      <th>conferenceDate</th>\n",
       "      <th>date</th>\n",
       "      <th>doi</th>\n",
       "      <th>editorList</th>\n",
       "      <th>eissn</th>\n",
       "      <th>hasAssignee</th>\n",
       "      <th>hasAuthority</th>\n",
       "      <th>...</th>\n",
       "      <th>pmcid</th>\n",
       "      <th>pmid</th>\n",
       "      <th>publishedIn</th>\n",
       "      <th>rabid</th>\n",
       "      <th>reviewOf</th>\n",
       "      <th>title</th>\n",
       "      <th>url</th>\n",
       "      <th>venueFor</th>\n",
       "      <th>version</th>\n",
       "      <th>volume</th>\n",
       "    </tr>\n",
       "  </thead>\n",
       "  <tbody>\n",
       "    <tr>\n",
       "      <th>0</th>\n",
       "      <td>Nguyen, Toan T., Nguyen, Truyen V., Strauss, W...</td>\n",
       "      <td></td>\n",
       "      <td></td>\n",
       "      <td></td>\n",
       "      <td>2015-06-01</td>\n",
       "      <td>10.3934/krm.2015.8.615</td>\n",
       "      <td></td>\n",
       "      <td></td>\n",
       "      <td></td>\n",
       "      <td></td>\n",
       "      <td>...</td>\n",
       "      <td></td>\n",
       "      <td></td>\n",
       "      <td>Kinetic and Related Models</td>\n",
       "      <td>http://vivo.brown.edu/individual/n5c6cae127059...</td>\n",
       "      <td></td>\n",
       "      <td></td>\n",
       "      <td></td>\n",
       "      <td></td>\n",
       "      <td></td>\n",
       "      <td>8</td>\n",
       "    </tr>\n",
       "    <tr>\n",
       "      <th>1</th>\n",
       "      <td>Li, Jin</td>\n",
       "      <td></td>\n",
       "      <td></td>\n",
       "      <td></td>\n",
       "      <td>2004-01-01</td>\n",
       "      <td>10.1037/0012-1649.40.4.595</td>\n",
       "      <td></td>\n",
       "      <td></td>\n",
       "      <td></td>\n",
       "      <td></td>\n",
       "      <td>...</td>\n",
       "      <td></td>\n",
       "      <td>15238046</td>\n",
       "      <td></td>\n",
       "      <td>http://vivo.brown.edu/individual/n52747</td>\n",
       "      <td></td>\n",
       "      <td></td>\n",
       "      <td></td>\n",
       "      <td></td>\n",
       "      <td></td>\n",
       "      <td>40</td>\n",
       "    </tr>\n",
       "    <tr>\n",
       "      <th>2</th>\n",
       "      <td>Brown JL, Sales JM, DiClemente RJ, Salazar LF,...</td>\n",
       "      <td></td>\n",
       "      <td></td>\n",
       "      <td></td>\n",
       "      <td>2012-08-01</td>\n",
       "      <td>10.1007/s10461-012-0163-8</td>\n",
       "      <td></td>\n",
       "      <td></td>\n",
       "      <td></td>\n",
       "      <td></td>\n",
       "      <td>...</td>\n",
       "      <td>PMC3471653</td>\n",
       "      <td>22323006</td>\n",
       "      <td></td>\n",
       "      <td>http://vivo.brown.edu/individual/n8301</td>\n",
       "      <td></td>\n",
       "      <td></td>\n",
       "      <td></td>\n",
       "      <td></td>\n",
       "      <td></td>\n",
       "      <td>16</td>\n",
       "    </tr>\n",
       "    <tr>\n",
       "      <th>3</th>\n",
       "      <td>Sears WL, Goto-Mandeville R, Mirapuri M, Braun L</td>\n",
       "      <td></td>\n",
       "      <td></td>\n",
       "      <td></td>\n",
       "      <td>1995-07-01</td>\n",
       "      <td>10.1002/mc.2940130304</td>\n",
       "      <td></td>\n",
       "      <td></td>\n",
       "      <td></td>\n",
       "      <td></td>\n",
       "      <td>...</td>\n",
       "      <td></td>\n",
       "      <td>7619217</td>\n",
       "      <td></td>\n",
       "      <td>http://vivo.brown.edu/individual/n98528</td>\n",
       "      <td></td>\n",
       "      <td></td>\n",
       "      <td></td>\n",
       "      <td></td>\n",
       "      <td></td>\n",
       "      <td>13</td>\n",
       "    </tr>\n",
       "    <tr>\n",
       "      <th>4</th>\n",
       "      <td>Graves, Hannah, Hernandez, Lynn, Kahler, Chris...</td>\n",
       "      <td></td>\n",
       "      <td></td>\n",
       "      <td></td>\n",
       "      <td>2015-01-01</td>\n",
       "      <td>10.1016/j.drugalcdep.2014.09.265</td>\n",
       "      <td></td>\n",
       "      <td></td>\n",
       "      <td></td>\n",
       "      <td></td>\n",
       "      <td>...</td>\n",
       "      <td></td>\n",
       "      <td></td>\n",
       "      <td></td>\n",
       "      <td>http://vivo.brown.edu/individual/n52835</td>\n",
       "      <td></td>\n",
       "      <td></td>\n",
       "      <td></td>\n",
       "      <td></td>\n",
       "      <td></td>\n",
       "      <td>146</td>\n",
       "    </tr>\n",
       "  </tbody>\n",
       "</table>\n",
       "<p>5 rows × 33 columns</p>\n",
       "</div>"
      ],
      "text/plain": [
       "                                          authorList book chapter  \\\n",
       "0  Nguyen, Toan T., Nguyen, Truyen V., Strauss, W...                \n",
       "1                                            Li, Jin                \n",
       "2  Brown JL, Sales JM, DiClemente RJ, Salazar LF,...                \n",
       "3   Sears WL, Goto-Mandeville R, Mirapuri M, Braun L                \n",
       "4  Graves, Hannah, Hernandez, Lynn, Kahler, Chris...                \n",
       "\n",
       "  conferenceDate        date                               doi editorList  \\\n",
       "0                 2015-06-01            10.3934/krm.2015.8.615              \n",
       "1                 2004-01-01        10.1037/0012-1649.40.4.595              \n",
       "2                 2012-08-01         10.1007/s10461-012-0163-8              \n",
       "3                 1995-07-01             10.1002/mc.2940130304              \n",
       "4                 2015-01-01  10.1016/j.drugalcdep.2014.09.265              \n",
       "\n",
       "  eissn hasAssignee hasAuthority  ...       pmcid      pmid  \\\n",
       "0                                 ...                         \n",
       "1                                 ...              15238046   \n",
       "2                                 ...  PMC3471653  22323006   \n",
       "3                                 ...               7619217   \n",
       "4                                 ...                         \n",
       "\n",
       "                  publishedIn  \\\n",
       "0  Kinetic and Related Models   \n",
       "1                               \n",
       "2                               \n",
       "3                               \n",
       "4                               \n",
       "\n",
       "                                               rabid reviewOf title url  \\\n",
       "0  http://vivo.brown.edu/individual/n5c6cae127059...                      \n",
       "1            http://vivo.brown.edu/individual/n52747                      \n",
       "2             http://vivo.brown.edu/individual/n8301                      \n",
       "3            http://vivo.brown.edu/individual/n98528                      \n",
       "4            http://vivo.brown.edu/individual/n52835                      \n",
       "\n",
       "  venueFor version volume  \n",
       "0                       8  \n",
       "1                      40  \n",
       "2                      16  \n",
       "3                      13  \n",
       "4                     146  \n",
       "\n",
       "[5 rows x 33 columns]"
      ]
     },
     "execution_count": 44,
     "metadata": {},
     "output_type": "execute_result"
    }
   ],
   "source": [
    "rc_df = pd.DataFrame(rab_rows)\n",
    "rc_df.head()"
   ]
  },
  {
   "cell_type": "code",
   "execution_count": null,
   "metadata": {},
   "outputs": [],
   "source": []
  }
 ],
 "metadata": {
  "kernelspec": {
   "display_name": "Python 3",
   "language": "python",
   "name": "python3"
  },
  "language_info": {
   "codemirror_mode": {
    "name": "ipython",
    "version": 3
   },
   "file_extension": ".py",
   "mimetype": "text/x-python",
   "name": "python",
   "nbconvert_exporter": "python",
   "pygments_lexer": "ipython3",
   "version": "3.7.5"
  }
 },
 "nbformat": 4,
 "nbformat_minor": 2
}
