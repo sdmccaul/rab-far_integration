{
 "cells": [
  {
   "cell_type": "markdown",
   "metadata": {},
   "source": [
    "# FAR-VIVO Citation Data Analysis"
   ]
  },
  {
   "cell_type": "code",
   "execution_count": 114,
   "metadata": {},
   "outputs": [],
   "source": [
    "import csv\n",
    "import os\n",
    "\n",
    "import requests\n",
    "import pandas as pd\n",
    "import numpy as np\n",
    "\n",
    "from collections import namedtuple, defaultdict, Counter\n",
    "from functools import reduce\n",
    "\n",
    "vprod = %env VIVO_PRODUCTION\n",
    "vstage = %env VIVO_STAGING\n",
    "vuser = %env VIVO_USER\n",
    "vpass = %env VIVO_PASSWORD"
   ]
  },
  {
   "cell_type": "markdown",
   "metadata": {},
   "source": [
    "## Contents\n",
    "* [Acquire](#Acquire)\n",
    "* [Load FAR Data](#FAR-Publication-Data)\n",
    "* [Load VIVO Data](#VIVO-Data)"
   ]
  },
  {
   "cell_type": "markdown",
   "metadata": {},
   "source": [
    "# Acquire\n",
    "[back](#Contents)"
   ]
  },
  {
   "cell_type": "code",
   "execution_count": 2,
   "metadata": {},
   "outputs": [],
   "source": [
    "def get_citation_properties(endpoint):\n",
    "    query = \"\"\"\n",
    "    SELECT DISTINCT ?prop\n",
    "    WHERE {{\n",
    "        ?cite a <http://vivo.brown.edu/ontology/citation#Citation> .\n",
    "        ?cite ?prop ?o.\n",
    "    }}\n",
    "    \"\"\"\n",
    "    data = { 'email': vuser, 'password': vpass, 'query': query }\n",
    "    headers = { 'Accept': 'text/csv', 'charset': 'utf-8' }\n",
    "    resp = requests.post(endpoint, data=data, headers=headers)\n",
    "    if resp.status_code == 200:\n",
    "        return resp.text\n",
    "    else:\n",
    "        print(resp.text)\n",
    "        return False"
   ]
  },
  {
   "cell_type": "code",
   "execution_count": 3,
   "metadata": {},
   "outputs": [],
   "source": [
    "with open('data/rab/query_properties.csv','w+') as f:\n",
    "    f.write(get_citation_properties(vstage))"
   ]
  },
  {
   "cell_type": "code",
   "execution_count": 4,
   "metadata": {},
   "outputs": [],
   "source": [
    "def get_citation_data(endpoint):\n",
    "    query = \"\"\"\n",
    "    DESCRIBE ?cite\n",
    "    WHERE {{ ?cite a <http://vivo.brown.edu/ontology/citation#Citation> .}}\n",
    "    \"\"\"\n",
    "    data = { 'email': vuser, 'password': vpass, 'query': query }\n",
    "    headers = { 'Accept': 'text/plain', 'charset': 'utf-8' }\n",
    "    resp = requests.post(endpoint, data=data, headers=headers)\n",
    "    if resp.status_code == 200:\n",
    "        return resp.text\n",
    "    else:\n",
    "        print(resp.text)\n",
    "        return False"
   ]
  },
  {
   "cell_type": "code",
   "execution_count": 5,
   "metadata": {},
   "outputs": [],
   "source": [
    "with open('data/rab/query_citations.nt', 'w+') as f:\n",
    "    f.write(get_citation_data(vstage))"
   ]
  },
  {
   "cell_type": "markdown",
   "metadata": {},
   "source": [
    "## FAR Publication Data\n",
    "[back](#Contents)"
   ]
  },
  {
   "cell_type": "code",
   "execution_count": 112,
   "metadata": {},
   "outputs": [],
   "source": [
    "def wrap_far_row(row, dtype, idIdx):\n",
    "    row[idIdx] = dtype + '_' + row[idIdx]\n",
    "    row.append(dtype)\n",
    "    return row"
   ]
  },
  {
   "cell_type": "code",
   "execution_count": 117,
   "metadata": {},
   "outputs": [],
   "source": [
    "def make_far_df(dtype, fname):\n",
    "    with open(os.path.join('data/far/',fname)) as f:\n",
    "        rdr = csv.reader(f, escapechar='\\\\')\n",
    "        header = next(rdr)\n",
    "        assert dtype not in header  \n",
    "        header.append(dtype)\n",
    "        id_idx = header.index('id')\n",
    "        rows = [ wrap_far_row(r, dtype, id_idx) for r in rdr ]\n",
    "    return pd.DataFrame(rows, columns=header)"
   ]
  },
  {
   "cell_type": "code",
   "execution_count": 144,
   "metadata": {},
   "outputs": [
    {
     "data": {
      "text/html": [
       "<div>\n",
       "<style scoped>\n",
       "    .dataframe tbody tr th:only-of-type {\n",
       "        vertical-align: middle;\n",
       "    }\n",
       "\n",
       "    .dataframe tbody tr th {\n",
       "        vertical-align: top;\n",
       "    }\n",
       "\n",
       "    .dataframe thead th {\n",
       "        text-align: right;\n",
       "    }\n",
       "</style>\n",
       "<table border=\"1\" class=\"dataframe\">\n",
       "  <thead>\n",
       "    <tr style=\"text-align: right;\">\n",
       "      <th></th>\n",
       "      <th>id</th>\n",
       "      <th>activity_report_id</th>\n",
       "      <th>article_type_id</th>\n",
       "      <th>identifier</th>\n",
       "      <th>created_at</th>\n",
       "      <th>updated_at</th>\n",
       "      <th>title</th>\n",
       "      <th>journal</th>\n",
       "      <th>number</th>\n",
       "      <th>volume</th>\n",
       "      <th>...</th>\n",
       "      <th>other</th>\n",
       "      <th>conference</th>\n",
       "      <th>paper_date</th>\n",
       "      <th>patent_status_id</th>\n",
       "      <th>patent_number</th>\n",
       "      <th>patent_title</th>\n",
       "      <th>patent_date</th>\n",
       "      <th>presentation_type_id</th>\n",
       "      <th>abstract_date</th>\n",
       "      <th>type</th>\n",
       "    </tr>\n",
       "  </thead>\n",
       "  <tbody>\n",
       "    <tr>\n",
       "      <th>0</th>\n",
       "      <td>article_6</td>\n",
       "      <td>15</td>\n",
       "      <td>PEER</td>\n",
       "      <td>10.1117/1.nph.2.3.031202</td>\n",
       "      <td>2016-01-07 16:51:12</td>\n",
       "      <td>2016-01-07 16:51:12</td>\n",
       "      <td>Modified toolbox for optogenetics in the nonhu...</td>\n",
       "      <td>Neurophotonics</td>\n",
       "      <td>3</td>\n",
       "      <td>2</td>\n",
       "      <td>...</td>\n",
       "      <td>NaN</td>\n",
       "      <td>NaN</td>\n",
       "      <td>NaN</td>\n",
       "      <td>NaN</td>\n",
       "      <td>NaN</td>\n",
       "      <td>NaN</td>\n",
       "      <td>NaN</td>\n",
       "      <td>NaN</td>\n",
       "      <td>NaN</td>\n",
       "      <td>article</td>\n",
       "    </tr>\n",
       "    <tr>\n",
       "      <th>1</th>\n",
       "      <td>article_7</td>\n",
       "      <td>25</td>\n",
       "      <td>PEER</td>\n",
       "      <td>10.1162/neco_a_00681</td>\n",
       "      <td>2016-01-07 17:07:06</td>\n",
       "      <td>2016-01-07 17:07:58</td>\n",
       "      <td>Spatiotemporal Conditional Inference and Hypot...</td>\n",
       "      <td>Neural Computation</td>\n",
       "      <td>1</td>\n",
       "      <td>27</td>\n",
       "      <td>...</td>\n",
       "      <td>NaN</td>\n",
       "      <td>NaN</td>\n",
       "      <td>NaN</td>\n",
       "      <td>NaN</td>\n",
       "      <td>NaN</td>\n",
       "      <td>NaN</td>\n",
       "      <td>NaN</td>\n",
       "      <td>NaN</td>\n",
       "      <td>NaN</td>\n",
       "      <td>article</td>\n",
       "    </tr>\n",
       "    <tr>\n",
       "      <th>2</th>\n",
       "      <td>article_9</td>\n",
       "      <td>760</td>\n",
       "      <td>PEER</td>\n",
       "      <td>10.1038/nature14105</td>\n",
       "      <td>2016-01-07 17:08:08</td>\n",
       "      <td>2016-01-07 17:08:08</td>\n",
       "      <td>Impact jetting as the origin of chondrules</td>\n",
       "      <td>Nature</td>\n",
       "      <td>7534</td>\n",
       "      <td>517</td>\n",
       "      <td>...</td>\n",
       "      <td>NaN</td>\n",
       "      <td>NaN</td>\n",
       "      <td>NaN</td>\n",
       "      <td>NaN</td>\n",
       "      <td>NaN</td>\n",
       "      <td>NaN</td>\n",
       "      <td>NaN</td>\n",
       "      <td>NaN</td>\n",
       "      <td>NaN</td>\n",
       "      <td>article</td>\n",
       "    </tr>\n",
       "    <tr>\n",
       "      <th>3</th>\n",
       "      <td>article_10</td>\n",
       "      <td>760</td>\n",
       "      <td>PEER</td>\n",
       "      <td>10.1002/2015gl065022</td>\n",
       "      <td>2016-01-07 17:08:19</td>\n",
       "      <td>2016-01-07 17:10:52</td>\n",
       "      <td>The fractured Moon: Production and saturation ...</td>\n",
       "      <td>Geophysical Research Letters</td>\n",
       "      <td>17</td>\n",
       "      <td>42</td>\n",
       "      <td>...</td>\n",
       "      <td>NaN</td>\n",
       "      <td>NaN</td>\n",
       "      <td>NaN</td>\n",
       "      <td>NaN</td>\n",
       "      <td>NaN</td>\n",
       "      <td>NaN</td>\n",
       "      <td>NaN</td>\n",
       "      <td>NaN</td>\n",
       "      <td>NaN</td>\n",
       "      <td>article</td>\n",
       "    </tr>\n",
       "    <tr>\n",
       "      <th>4</th>\n",
       "      <td>article_11</td>\n",
       "      <td>25</td>\n",
       "      <td>PEER</td>\n",
       "      <td>10.1073/pnas.1506400112</td>\n",
       "      <td>2016-01-07 17:08:37</td>\n",
       "      <td>2016-01-07 17:08:50</td>\n",
       "      <td>Ambiguity and nonidentifiability in the statis...</td>\n",
       "      <td>Proc Natl Acad Sci USA</td>\n",
       "      <td>20</td>\n",
       "      <td>112</td>\n",
       "      <td>...</td>\n",
       "      <td>NaN</td>\n",
       "      <td>NaN</td>\n",
       "      <td>NaN</td>\n",
       "      <td>NaN</td>\n",
       "      <td>NaN</td>\n",
       "      <td>NaN</td>\n",
       "      <td>NaN</td>\n",
       "      <td>NaN</td>\n",
       "      <td>NaN</td>\n",
       "      <td>article</td>\n",
       "    </tr>\n",
       "  </tbody>\n",
       "</table>\n",
       "<p>5 rows × 33 columns</p>\n",
       "</div>"
      ],
      "text/plain": [
       "           id activity_report_id article_type_id                identifier  \\\n",
       "0   article_6                 15            PEER  10.1117/1.nph.2.3.031202   \n",
       "1   article_7                 25            PEER      10.1162/neco_a_00681   \n",
       "2   article_9                760            PEER       10.1038/nature14105   \n",
       "3  article_10                760            PEER      10.1002/2015gl065022   \n",
       "4  article_11                 25            PEER   10.1073/pnas.1506400112   \n",
       "\n",
       "            created_at           updated_at  \\\n",
       "0  2016-01-07 16:51:12  2016-01-07 16:51:12   \n",
       "1  2016-01-07 17:07:06  2016-01-07 17:07:58   \n",
       "2  2016-01-07 17:08:08  2016-01-07 17:08:08   \n",
       "3  2016-01-07 17:08:19  2016-01-07 17:10:52   \n",
       "4  2016-01-07 17:08:37  2016-01-07 17:08:50   \n",
       "\n",
       "                                               title  \\\n",
       "0  Modified toolbox for optogenetics in the nonhu...   \n",
       "1  Spatiotemporal Conditional Inference and Hypot...   \n",
       "2         Impact jetting as the origin of chondrules   \n",
       "3  The fractured Moon: Production and saturation ...   \n",
       "4  Ambiguity and nonidentifiability in the statis...   \n",
       "\n",
       "                        journal number volume  ... other conference  \\\n",
       "0                Neurophotonics      3      2  ...   NaN        NaN   \n",
       "1            Neural Computation      1     27  ...   NaN        NaN   \n",
       "2                        Nature   7534    517  ...   NaN        NaN   \n",
       "3  Geophysical Research Letters     17     42  ...   NaN        NaN   \n",
       "4        Proc Natl Acad Sci USA     20    112  ...   NaN        NaN   \n",
       "\n",
       "  paper_date patent_status_id patent_number patent_title patent_date  \\\n",
       "0        NaN              NaN           NaN          NaN         NaN   \n",
       "1        NaN              NaN           NaN          NaN         NaN   \n",
       "2        NaN              NaN           NaN          NaN         NaN   \n",
       "3        NaN              NaN           NaN          NaN         NaN   \n",
       "4        NaN              NaN           NaN          NaN         NaN   \n",
       "\n",
       "  presentation_type_id abstract_date     type  \n",
       "0                  NaN           NaN  article  \n",
       "1                  NaN           NaN  article  \n",
       "2                  NaN           NaN  article  \n",
       "3                  NaN           NaN  article  \n",
       "4                  NaN           NaN  article  \n",
       "\n",
       "[5 rows x 33 columns]"
      ]
     },
     "execution_count": 144,
     "metadata": {},
     "output_type": "execute_result"
    }
   ],
   "source": [
    "far_files = [ ('article', 'articles.csv'), ('book', 'books.csv'),\n",
    "             ('chapter', 'chapters.csv'), ('review', 'critical_reviews.csv'),\n",
    "             ('paper', 'papers.csv'), ('patent', 'patents.csv'),\n",
    "             ('abstract', 'ph_abstracts.csv') ]\n",
    "dtypes = [ f[0] for f in far_files ]\n",
    "\n",
    "df_cites_far = pd.concat(\n",
    "    [ make_far_df(*f) for f in far_files ], axis=0, ignore_index=True,sort=False)\n",
    "melted = pd.melt(df_cites_far, id_vars=['id'], value_vars=dtypes,\n",
    "                var_name='drop_me', value_name='type')\n",
    "df_cites_far = df_cites_far.join(\n",
    "    melted.dropna().drop(columns='drop_me').set_index('id'), on='id')\n",
    "df_cites_far.drop(columns=dtypes, inplace=True)\n",
    "df_cites_far.head()"
   ]
  },
  {
   "cell_type": "code",
   "execution_count": 145,
   "metadata": {},
   "outputs": [
    {
     "name": "stdout",
     "output_type": "stream",
     "text": [
      "<class 'pandas.core.frame.DataFrame'>\n",
      "RangeIndex: 9689 entries, 0 to 9688\n",
      "Data columns (total 33 columns):\n",
      "id                      9689 non-null object\n",
      "activity_report_id      9689 non-null object\n",
      "article_type_id         6392 non-null object\n",
      "identifier              6392 non-null object\n",
      "created_at              9689 non-null object\n",
      "updated_at              9689 non-null object\n",
      "title                   9593 non-null object\n",
      "journal                 6429 non-null object\n",
      "number                  6392 non-null object\n",
      "volume                  6392 non-null object\n",
      "date                    6392 non-null object\n",
      "coauthors               8281 non-null object\n",
      "book_status_id          7871 non-null object\n",
      "article_id_type_id      6392 non-null object\n",
      "page_numbers            6392 non-null object\n",
      "book_type_id            467 non-null object\n",
      "press                   1479 non-null object\n",
      "doi                     1479 non-null object\n",
      "book_role_id            467 non-null object\n",
      "book_title              1012 non-null object\n",
      "editor                  1012 non-null object\n",
      "author                  37 non-null object\n",
      "review_date             37 non-null object\n",
      "other                   37 non-null object\n",
      "conference              1685 non-null object\n",
      "paper_date              1371 non-null object\n",
      "patent_status_id        96 non-null object\n",
      "patent_number           96 non-null object\n",
      "patent_title            96 non-null object\n",
      "patent_date             96 non-null object\n",
      "presentation_type_id    314 non-null object\n",
      "abstract_date           314 non-null object\n",
      "type                    9689 non-null object\n",
      "dtypes: object(33)\n",
      "memory usage: 2.4+ MB\n"
     ]
    }
   ],
   "source": [
    "df_cites_far.info()"
   ]
  },
  {
   "cell_type": "markdown",
   "metadata": {},
   "source": [
    "## VIVO Data\n",
    "[back](#Contents)"
   ]
  },
  {
   "cell_type": "code",
   "execution_count": 3,
   "metadata": {},
   "outputs": [],
   "source": [
    "with open('data/rab/query_properties.csv') as f:\n",
    "    data = f.readlines()\n",
    "    # skip header, strip trailing whitespace\n",
    "    fin_cite_props = [ d.strip() for d in data[1:] ]"
   ]
  },
  {
   "cell_type": "code",
   "execution_count": 4,
   "metadata": {},
   "outputs": [],
   "source": [
    "with open('data/rab/query_citations.nt') as f:\n",
    "    fin_rab_cites = f.readlines()"
   ]
  },
  {
   "cell_type": "code",
   "execution_count": 62,
   "metadata": {},
   "outputs": [
    {
     "data": {
      "text/plain": [
       "dict_values(['date', 'volume', 'hasContributor', 'authorList', 'pmid', 'issue', 'doi', 'hasVenue', 'pages', 'pmcid', 'publishedIn', 'book', 'hasLocation', 'editorList', 'chapter', 'hasPublisher', 'isbn', 'url', 'hasConferenceLocation', 'conferenceDate', 'hasConference', 'issn', 'reviewOf', 'title', 'number', 'version', 'hasAssignee', 'hasCountry', 'hasAuthority', 'patentNumber', 'venueFor', 'rabid', 'label', 'type'])"
      ]
     },
     "execution_count": 62,
     "metadata": {},
     "output_type": "execute_result"
    }
   ],
   "source": [
    "cite_prop_map = { c: c[40:] for c in fin_cite_props if c.startswith('http://vivo.brown.edu/ontology/citation#') }\n",
    "cite_prop_map['rabid'] = 'rabid'\n",
    "cite_prop_map['http://www.w3.org/2000/01/rdf-schema#label'] = 'label'\n",
    "cite_prop_map['http://vitro.mannlib.cornell.edu/ns/vitro/0.7#mostSpecificType'] = 'type'\n",
    "cite_prop_map.values()"
   ]
  },
  {
   "cell_type": "code",
   "execution_count": 63,
   "metadata": {},
   "outputs": [],
   "source": [
    "RABCitation = namedtuple('RABCitation', sorted(cite_prop_map.values()))"
   ]
  },
  {
   "cell_type": "code",
   "execution_count": 64,
   "metadata": {},
   "outputs": [],
   "source": [
    "def clean_data_prop(oData):\n",
    "    return oData.rsplit('\"^^<http://www.w3.org/2001/XMLSchema#', maxsplit=1)[0].strip('\\\"\\n .<>')"
   ]
  },
  {
   "cell_type": "code",
   "execution_count": 65,
   "metadata": {},
   "outputs": [],
   "source": [
    "def parse_triple(rawRow):\n",
    "    s,p,o = rawRow.split(' ',maxsplit=2)\n",
    "    s = s.strip('<>')\n",
    "    p = p.strip('<>')\n",
    "    o = clean_data_prop(o)\n",
    "    return (s,p,o)"
   ]
  },
  {
   "cell_type": "code",
   "execution_count": 66,
   "metadata": {},
   "outputs": [
    {
     "data": {
      "text/plain": [
       "('http://vivo.brown.edu/individual/n5c6cae127059414ca258636cd3dc482b',\n",
       " 'http://www.w3.org/2000/01/rdf-schema#label',\n",
       " 'Erratum to: Global magnetic confinement for the 1.5D Vlasov-Maxwell system')"
      ]
     },
     "execution_count": 66,
     "metadata": {},
     "output_type": "execute_result"
    }
   ],
   "source": [
    "cite_triples = []\n",
    "for t in fin_rab_cites:\n",
    "    cite_triples.append(parse_triple(t))\n",
    "\n",
    "cite_triples[0]"
   ]
  },
  {
   "cell_type": "code",
   "execution_count": 67,
   "metadata": {},
   "outputs": [
    {
     "name": "stdout",
     "output_type": "stream",
     "text": [
      "With NoID:  ['http://vivo.brown.edu/ontology/citation#Citation']\n",
      "With NoID:  ['http://vivo.brown.edu/ontology/citation#Abstract']\n",
      "With NoID:  ['http://vivo.brown.edu/ontology/citation#Book']\n",
      "With NoID:  ['http://vivo.brown.edu/ontology/citation#ConferencePaper']\n",
      "With NoID:  ['http://vivo.brown.edu/ontology/citation#Review']\n",
      "With NoID:  ['http://vivo.brown.edu/ontology/citation#Patent']\n",
      "With NoID:  ['http://vivo.brown.edu/ontology/citation#Article']\n",
      "With NoID:  ['http://vivo.brown.edu/ontology/citation#BookSection']\n",
      "With NoID:  ['http://vivo.brown.edu/ontology/citation#WorkingPaper']\n"
     ]
    }
   ],
   "source": [
    "# Analyzing citations with more than 1 most specific type\n",
    "\n",
    "no_ids = [ c for c in cite_triples\n",
    "          if c[1] == 'http://vitro.mannlib.cornell.edu/ns/vitro/0.7#mostSpecificType' \n",
    "          and c[2] == 'http://vivo.brown.edu/ontology/citation#NoID' ]\n",
    "msts = defaultdict(set)\n",
    "for c in cite_triples:\n",
    "    if c[1] == 'http://vitro.mannlib.cornell.edu/ns/vitro/0.7#mostSpecificType':\n",
    "        msts[c[0]].add(c[2])\n",
    "mlts = set()\n",
    "for m,v in msts.items():\n",
    "    if len(v) != 1:\n",
    "        mlts.add(frozenset(v))\n",
    "\n",
    "no_id = 'http://vivo.brown.edu/ontology/citation#NoID'        \n",
    "for m in mlts:\n",
    "    if no_id in m:\n",
    "        print(\"With NoID: \", [ a for a in m if a != no_id])\n",
    "    else:\n",
    "        print(\"Redundant types: \". sorted(list(m)))"
   ]
  },
  {
   "cell_type": "code",
   "execution_count": 68,
   "metadata": {},
   "outputs": [],
   "source": [
    "def triple_match(triple, prop=None, obj=None):\n",
    "    if prop and obj:\n",
    "        return triple[1] == prop and triple[2] == obj\n",
    "    if prop:\n",
    "        return triple[1] == prop\n",
    "    if obj:\n",
    "        return triple[2] == obj\n",
    "    return True"
   ]
  },
  {
   "cell_type": "code",
   "execution_count": 69,
   "metadata": {},
   "outputs": [],
   "source": [
    "def filter_mst_no_id(triple):\n",
    "    return not triple_match(triple,\n",
    "                            'http://vitro.mannlib.cornell.edu/ns/vitro/0.7#mostSpecificType',\n",
    "                            'http://vivo.brown.edu/ontology/citation#NoID')\n",
    "\n",
    "good_triple = ('foo', 'http://vitro.mannlib.cornell.edu/ns/vitro/0.7#mostSpecificType', 'bar')\n",
    "bad_triple = ('foo', 'http://vitro.mannlib.cornell.edu/ns/vitro/0.7#mostSpecificType',\n",
    "              'http://vivo.brown.edu/ontology/citation#NoID')\n",
    "assert filter_mst_no_id(good_triple) == True\n",
    "assert filter_mst_no_id(bad_triple) == False"
   ]
  },
  {
   "cell_type": "code",
   "execution_count": 70,
   "metadata": {},
   "outputs": [],
   "source": [
    "strip_msts = [ t for t in cite_triples if filter_mst_no_id(t) ]"
   ]
  },
  {
   "cell_type": "code",
   "execution_count": 71,
   "metadata": {},
   "outputs": [],
   "source": [
    "cite_dicts = defaultdict(dict)\n",
    "for t in strip_msts:\n",
    "    if t[1] in cite_prop_map:\n",
    "        cite_dicts[t[0]][cite_prop_map[t[1]]] = t[2]"
   ]
  },
  {
   "cell_type": "code",
   "execution_count": 72,
   "metadata": {},
   "outputs": [
    {
     "name": "stdout",
     "output_type": "stream",
     "text": [
      "RABCitation(authorList='Nguyen, Toan T., Nguyen, Truyen V., Strauss, Walter A', book='', chapter='', conferenceDate='', date='2015-06-01', doi='10.3934/krm.2015.8.615', editorList='', hasAssignee='', hasAuthority='', hasConference='', hasConferenceLocation='', hasContributor='http://vivo.brown.edu/individual/wstrauss', hasCountry='', hasLocation='', hasPublisher='', hasVenue='http://vivo.brown.edu/individual/n6086eb8fe7824cad9423547d403a958d', isbn='', issn='', issue='3', label='Erratum to: Global magnetic confinement for the 1.5D Vlasov-Maxwell system', number='', pages='615-616', patentNumber='', pmcid='', pmid='', publishedIn='Kinetic and Related Models', rabid='http://vivo.brown.edu/individual/n5c6cae127059414ca258636cd3dc482b', reviewOf='', title='', type='http://vivo.brown.edu/ontology/citation#Article', url='', venueFor='', version='', volume='8')\n"
     ]
    }
   ],
   "source": [
    "empty_row = { cite_prop_map[p]: '' for p in cite_prop_map }\n",
    "rab_rows = []\n",
    "for c in cite_dicts:\n",
    "    d = cite_dicts[c]\n",
    "    d['rabid'] = c\n",
    "    row = empty_row.copy()\n",
    "    row.update(d)\n",
    "    rab_rows.append(RABCitation(**row))\n",
    "\n",
    "print(rab_rows[0])"
   ]
  },
  {
   "cell_type": "code",
   "execution_count": 81,
   "metadata": {},
   "outputs": [
    {
     "data": {
      "text/html": [
       "<div>\n",
       "<style scoped>\n",
       "    .dataframe tbody tr th:only-of-type {\n",
       "        vertical-align: middle;\n",
       "    }\n",
       "\n",
       "    .dataframe tbody tr th {\n",
       "        vertical-align: top;\n",
       "    }\n",
       "\n",
       "    .dataframe thead th {\n",
       "        text-align: right;\n",
       "    }\n",
       "</style>\n",
       "<table border=\"1\" class=\"dataframe\">\n",
       "  <thead>\n",
       "    <tr style=\"text-align: right;\">\n",
       "      <th></th>\n",
       "      <th>rabid</th>\n",
       "      <th>type</th>\n",
       "      <th>label</th>\n",
       "      <th>doi</th>\n",
       "      <th>pmid</th>\n",
       "      <th>pmcid</th>\n",
       "      <th>isbn</th>\n",
       "      <th>issn</th>\n",
       "      <th>date</th>\n",
       "      <th>authorList</th>\n",
       "      <th>...</th>\n",
       "      <th>version</th>\n",
       "      <th>hasContributor</th>\n",
       "      <th>hasVenue</th>\n",
       "      <th>hasConference</th>\n",
       "      <th>hasConferenceLocation</th>\n",
       "      <th>hasCountry</th>\n",
       "      <th>hasLocation</th>\n",
       "      <th>hasPublisher</th>\n",
       "      <th>hasAssignee</th>\n",
       "      <th>hasAuthority</th>\n",
       "    </tr>\n",
       "  </thead>\n",
       "  <tbody>\n",
       "    <tr>\n",
       "      <th>0</th>\n",
       "      <td>http://vivo.brown.edu/individual/n5c6cae127059...</td>\n",
       "      <td>Article</td>\n",
       "      <td>Erratum to: Global magnetic confinement for th...</td>\n",
       "      <td>10.3934/krm.2015.8.615</td>\n",
       "      <td>NaN</td>\n",
       "      <td>NaN</td>\n",
       "      <td>NaN</td>\n",
       "      <td>NaN</td>\n",
       "      <td>2015-06-01</td>\n",
       "      <td>Nguyen, Toan T., Nguyen, Truyen V., Strauss, W...</td>\n",
       "      <td>...</td>\n",
       "      <td>NaN</td>\n",
       "      <td>http://vivo.brown.edu/individual/wstrauss</td>\n",
       "      <td>http://vivo.brown.edu/individual/n6086eb8fe782...</td>\n",
       "      <td>NaN</td>\n",
       "      <td>NaN</td>\n",
       "      <td>NaN</td>\n",
       "      <td>NaN</td>\n",
       "      <td>NaN</td>\n",
       "      <td>NaN</td>\n",
       "      <td>NaN</td>\n",
       "    </tr>\n",
       "    <tr>\n",
       "      <th>1</th>\n",
       "      <td>http://vivo.brown.edu/individual/n52747</td>\n",
       "      <td>Article</td>\n",
       "      <td>Learning as a Task or a Virtue: U.S. and Chine...</td>\n",
       "      <td>10.1037/0012-1649.40.4.595</td>\n",
       "      <td>15238046</td>\n",
       "      <td>NaN</td>\n",
       "      <td>NaN</td>\n",
       "      <td>NaN</td>\n",
       "      <td>2004-01-01</td>\n",
       "      <td>Li, Jin</td>\n",
       "      <td>...</td>\n",
       "      <td>NaN</td>\n",
       "      <td>http://vivo.brown.edu/individual/jili</td>\n",
       "      <td>http://vivo.brown.edu/individual/n60865</td>\n",
       "      <td>NaN</td>\n",
       "      <td>NaN</td>\n",
       "      <td>NaN</td>\n",
       "      <td>NaN</td>\n",
       "      <td>NaN</td>\n",
       "      <td>NaN</td>\n",
       "      <td>NaN</td>\n",
       "    </tr>\n",
       "    <tr>\n",
       "      <th>2</th>\n",
       "      <td>http://vivo.brown.edu/individual/n8301</td>\n",
       "      <td>Article</td>\n",
       "      <td>Predicting discordance between self-reports of...</td>\n",
       "      <td>10.1007/s10461-012-0163-8</td>\n",
       "      <td>22323006</td>\n",
       "      <td>PMC3471653</td>\n",
       "      <td>NaN</td>\n",
       "      <td>NaN</td>\n",
       "      <td>2012-08-01</td>\n",
       "      <td>Brown JL, Sales JM, DiClemente RJ, Salazar LF,...</td>\n",
       "      <td>...</td>\n",
       "      <td>NaN</td>\n",
       "      <td>http://vivo.brown.edu/individual/lbrownmd</td>\n",
       "      <td>http://vivo.brown.edu/individual/n79279</td>\n",
       "      <td>NaN</td>\n",
       "      <td>NaN</td>\n",
       "      <td>NaN</td>\n",
       "      <td>NaN</td>\n",
       "      <td>NaN</td>\n",
       "      <td>NaN</td>\n",
       "      <td>NaN</td>\n",
       "    </tr>\n",
       "    <tr>\n",
       "      <th>3</th>\n",
       "      <td>http://vivo.brown.edu/individual/n98528</td>\n",
       "      <td>Article</td>\n",
       "      <td>Effects of 12-O-tetradecanoylphorbol-13-acetat...</td>\n",
       "      <td>10.1002/mc.2940130304</td>\n",
       "      <td>7619217</td>\n",
       "      <td>NaN</td>\n",
       "      <td>NaN</td>\n",
       "      <td>NaN</td>\n",
       "      <td>1995-07-01</td>\n",
       "      <td>Sears WL, Goto-Mandeville R, Mirapuri M, Braun L</td>\n",
       "      <td>...</td>\n",
       "      <td>NaN</td>\n",
       "      <td>http://vivo.brown.edu/individual/lbraun</td>\n",
       "      <td>http://vivo.brown.edu/individual/n82319</td>\n",
       "      <td>NaN</td>\n",
       "      <td>NaN</td>\n",
       "      <td>NaN</td>\n",
       "      <td>NaN</td>\n",
       "      <td>NaN</td>\n",
       "      <td>NaN</td>\n",
       "      <td>NaN</td>\n",
       "    </tr>\n",
       "    <tr>\n",
       "      <th>4</th>\n",
       "      <td>http://vivo.brown.edu/individual/n52835</td>\n",
       "      <td>Article</td>\n",
       "      <td>Daily co-occurrences of marijuana use, alcohol...</td>\n",
       "      <td>10.1016/j.drugalcdep.2014.09.265</td>\n",
       "      <td>NaN</td>\n",
       "      <td>NaN</td>\n",
       "      <td>NaN</td>\n",
       "      <td>NaN</td>\n",
       "      <td>2015-01-01</td>\n",
       "      <td>Graves, Hannah, Hernandez, Lynn, Kahler, Chris...</td>\n",
       "      <td>...</td>\n",
       "      <td>NaN</td>\n",
       "      <td>http://vivo.brown.edu/individual/lh15</td>\n",
       "      <td>http://vivo.brown.edu/individual/n48368</td>\n",
       "      <td>NaN</td>\n",
       "      <td>NaN</td>\n",
       "      <td>NaN</td>\n",
       "      <td>NaN</td>\n",
       "      <td>NaN</td>\n",
       "      <td>NaN</td>\n",
       "      <td>NaN</td>\n",
       "    </tr>\n",
       "  </tbody>\n",
       "</table>\n",
       "<p>5 rows × 34 columns</p>\n",
       "</div>"
      ],
      "text/plain": [
       "                                               rabid     type  \\\n",
       "0  http://vivo.brown.edu/individual/n5c6cae127059...  Article   \n",
       "1            http://vivo.brown.edu/individual/n52747  Article   \n",
       "2             http://vivo.brown.edu/individual/n8301  Article   \n",
       "3            http://vivo.brown.edu/individual/n98528  Article   \n",
       "4            http://vivo.brown.edu/individual/n52835  Article   \n",
       "\n",
       "                                               label  \\\n",
       "0  Erratum to: Global magnetic confinement for th...   \n",
       "1  Learning as a Task or a Virtue: U.S. and Chine...   \n",
       "2  Predicting discordance between self-reports of...   \n",
       "3  Effects of 12-O-tetradecanoylphorbol-13-acetat...   \n",
       "4  Daily co-occurrences of marijuana use, alcohol...   \n",
       "\n",
       "                                doi      pmid       pmcid isbn issn  \\\n",
       "0            10.3934/krm.2015.8.615       NaN         NaN  NaN  NaN   \n",
       "1        10.1037/0012-1649.40.4.595  15238046         NaN  NaN  NaN   \n",
       "2         10.1007/s10461-012-0163-8  22323006  PMC3471653  NaN  NaN   \n",
       "3             10.1002/mc.2940130304   7619217         NaN  NaN  NaN   \n",
       "4  10.1016/j.drugalcdep.2014.09.265       NaN         NaN  NaN  NaN   \n",
       "\n",
       "         date                                         authorList  ... version  \\\n",
       "0  2015-06-01  Nguyen, Toan T., Nguyen, Truyen V., Strauss, W...  ...     NaN   \n",
       "1  2004-01-01                                            Li, Jin  ...     NaN   \n",
       "2  2012-08-01  Brown JL, Sales JM, DiClemente RJ, Salazar LF,...  ...     NaN   \n",
       "3  1995-07-01   Sears WL, Goto-Mandeville R, Mirapuri M, Braun L  ...     NaN   \n",
       "4  2015-01-01  Graves, Hannah, Hernandez, Lynn, Kahler, Chris...  ...     NaN   \n",
       "\n",
       "                              hasContributor  \\\n",
       "0  http://vivo.brown.edu/individual/wstrauss   \n",
       "1      http://vivo.brown.edu/individual/jili   \n",
       "2  http://vivo.brown.edu/individual/lbrownmd   \n",
       "3    http://vivo.brown.edu/individual/lbraun   \n",
       "4      http://vivo.brown.edu/individual/lh15   \n",
       "\n",
       "                                            hasVenue hasConference  \\\n",
       "0  http://vivo.brown.edu/individual/n6086eb8fe782...           NaN   \n",
       "1            http://vivo.brown.edu/individual/n60865           NaN   \n",
       "2            http://vivo.brown.edu/individual/n79279           NaN   \n",
       "3            http://vivo.brown.edu/individual/n82319           NaN   \n",
       "4            http://vivo.brown.edu/individual/n48368           NaN   \n",
       "\n",
       "  hasConferenceLocation hasCountry hasLocation hasPublisher hasAssignee  \\\n",
       "0                   NaN        NaN         NaN          NaN         NaN   \n",
       "1                   NaN        NaN         NaN          NaN         NaN   \n",
       "2                   NaN        NaN         NaN          NaN         NaN   \n",
       "3                   NaN        NaN         NaN          NaN         NaN   \n",
       "4                   NaN        NaN         NaN          NaN         NaN   \n",
       "\n",
       "  hasAuthority  \n",
       "0          NaN  \n",
       "1          NaN  \n",
       "2          NaN  \n",
       "3          NaN  \n",
       "4          NaN  \n",
       "\n",
       "[5 rows x 34 columns]"
      ]
     },
     "execution_count": 81,
     "metadata": {},
     "output_type": "execute_result"
    }
   ],
   "source": [
    "df_cites_rab = pd.DataFrame(rab_rows)\n",
    "\n",
    "cols = df_cites_rab.columns.tolist()\n",
    "id_atts = [ 'rabid','type','label','doi','pmid','pmcid','isbn','issn' ]\n",
    "common_atts = [ 'date','authorList','pages','issue','volume' ]\n",
    "has_atts = ['hasContributor','hasVenue','hasConference','hasConferenceLocation',\n",
    "            'hasCountry','hasLocation','hasPublisher','hasAssignee','hasAuthority']\n",
    "grouped_atts = id_atts + common_atts + has_atts\n",
    "cols = [ c for c in cols if c not in grouped_atts ]\n",
    "cols = id_atts + common_atts + cols + has_atts\n",
    "df_cites_rab = df_cites_rab[ cols ]\n",
    "df_cites_rab.type = df_cites_rab.type.str.rsplit('#').str.get(1)\n",
    "df_cites_rab.replace(r'^$', np.nan, inplace=True, regex=True)\n",
    "df_cites_rab.head()"
   ]
  },
  {
   "cell_type": "code",
   "execution_count": 82,
   "metadata": {},
   "outputs": [
    {
     "name": "stdout",
     "output_type": "stream",
     "text": [
      "<class 'pandas.core.frame.DataFrame'>\n",
      "RangeIndex: 49044 entries, 0 to 49043\n",
      "Data columns (total 34 columns):\n",
      "rabid                    49044 non-null object\n",
      "type                     49044 non-null object\n",
      "label                    49004 non-null object\n",
      "doi                      43349 non-null object\n",
      "pmid                     36381 non-null object\n",
      "pmcid                    13399 non-null object\n",
      "isbn                     683 non-null object\n",
      "issn                     16 non-null object\n",
      "date                     49034 non-null object\n",
      "authorList               47600 non-null object\n",
      "pages                    44188 non-null object\n",
      "issue                    39882 non-null object\n",
      "volume                   44166 non-null object\n",
      "book                     744 non-null object\n",
      "chapter                  148 non-null object\n",
      "conferenceDate           36 non-null object\n",
      "editorList               713 non-null object\n",
      "number                   17 non-null object\n",
      "patentNumber             9 non-null object\n",
      "publishedIn              6395 non-null object\n",
      "reviewOf                 48 non-null object\n",
      "title                    10 non-null object\n",
      "url                      1027 non-null object\n",
      "venueFor                 2 non-null object\n",
      "version                  3 non-null object\n",
      "hasContributor           48514 non-null object\n",
      "hasVenue                 47519 non-null object\n",
      "hasConference            68 non-null object\n",
      "hasConferenceLocation    50 non-null object\n",
      "hasCountry               8 non-null object\n",
      "hasLocation              528 non-null object\n",
      "hasPublisher             1225 non-null object\n",
      "hasAssignee              3 non-null object\n",
      "hasAuthority             6 non-null object\n",
      "dtypes: object(34)\n",
      "memory usage: 12.7+ MB\n"
     ]
    }
   ],
   "source": [
    "df_cites_rab.info()"
   ]
  },
  {
   "cell_type": "markdown",
   "metadata": {},
   "source": [
    "## 3rd-party IDs"
   ]
  },
  {
   "cell_type": "code",
   "execution_count": 78,
   "metadata": {},
   "outputs": [
    {
     "data": {
      "text/plain": [
       "Article            42700\n",
       "Citation            3708\n",
       "ConferencePaper      930\n",
       "BookSection          774\n",
       "Book                 520\n",
       "Review               245\n",
       "Abstract             128\n",
       "WorkingPaper          30\n",
       "Patent                 9\n",
       "Name: type, dtype: int64"
      ]
     },
     "execution_count": 78,
     "metadata": {},
     "output_type": "execute_result"
    }
   ],
   "source": [
    "df_cites_rab.type.value_counts()"
   ]
  },
  {
   "cell_type": "code",
   "execution_count": 80,
   "metadata": {},
   "outputs": [
    {
     "data": {
      "text/plain": [
       "46799"
      ]
     },
     "execution_count": 80,
     "metadata": {},
     "output_type": "execute_result"
    }
   ],
   "source": [
    "len(df_cites_rab[ ((df_cites_rab.pmid.notnull()) | (df_cites_rab.doi.notnull())) ])"
   ]
  },
  {
   "cell_type": "code",
   "execution_count": 83,
   "metadata": {},
   "outputs": [
    {
     "data": {
      "text/plain": [
       "BookSection        678\n",
       "Article            644\n",
       "Book               461\n",
       "Abstract           118\n",
       "Review             115\n",
       "Citation           101\n",
       "ConferencePaper     92\n",
       "WorkingPaper        27\n",
       "Patent               9\n",
       "Name: type, dtype: int64"
      ]
     },
     "execution_count": 83,
     "metadata": {},
     "output_type": "execute_result"
    }
   ],
   "source": [
    "df_cites_rab[ ((df_cites_rab.pmid.isna()) & (df_cites_rab.doi.isna())) ].type.value_counts()"
   ]
  },
  {
   "cell_type": "code",
   "execution_count": 84,
   "metadata": {},
   "outputs": [
    {
     "data": {
      "text/plain": [
       "Book           452\n",
       "BookSection    224\n",
       "Article          7\n",
       "Name: type, dtype: int64"
      ]
     },
     "execution_count": 84,
     "metadata": {},
     "output_type": "execute_result"
    }
   ],
   "source": [
    "df_cites_rab[ df_cites_rab.isbn.notnull() ].type.value_counts()"
   ]
  },
  {
   "cell_type": "code",
   "execution_count": 39,
   "metadata": {},
   "outputs": [
    {
     "data": {
      "text/plain": [
       "Article            42700\n",
       "Citation            3708\n",
       "ConferencePaper      930\n",
       "BookSection          774\n",
       "Book                 520\n",
       "Review               245\n",
       "Abstract             128\n",
       "WorkingPaper          30\n",
       "Patent                 9\n",
       "Name: type, dtype: int64"
      ]
     },
     "execution_count": 39,
     "metadata": {},
     "output_type": "execute_result"
    }
   ],
   "source": [
    "df_cites_rab.type.value_counts()"
   ]
  },
  {
   "cell_type": "code",
   "execution_count": 29,
   "metadata": {},
   "outputs": [
    {
     "ename": "NameError",
     "evalue": "name 'df_cites_far' is not defined",
     "output_type": "error",
     "traceback": [
      "\u001b[0;31m---------------------------------------------------------------------------\u001b[0m",
      "\u001b[0;31mNameError\u001b[0m                                 Traceback (most recent call last)",
      "\u001b[0;32m<ipython-input-29-b30c8e046b86>\u001b[0m in \u001b[0;36m<module>\u001b[0;34m\u001b[0m\n\u001b[0;32m----> 1\u001b[0;31m \u001b[0mdf_cites_far\u001b[0m\u001b[0;34m.\u001b[0m\u001b[0minfo\u001b[0m\u001b[0;34m(\u001b[0m\u001b[0;34m)\u001b[0m\u001b[0;34m\u001b[0m\u001b[0;34m\u001b[0m\u001b[0m\n\u001b[0m",
      "\u001b[0;31mNameError\u001b[0m: name 'df_cites_far' is not defined"
     ]
    }
   ],
   "source": [
    "df_cites_far.info()"
   ]
  },
  {
   "cell_type": "code",
   "execution_count": 30,
   "metadata": {},
   "outputs": [
    {
     "data": {
      "text/plain": [
       "1830"
      ]
     },
     "execution_count": 30,
     "metadata": {},
     "output_type": "execute_result"
    }
   ],
   "source": [
    "len(set(df_cites_rab[ (df_cites_rab.type=='Article') | (df_cites_rab.type=='Citation')].doi) & set(df_articles_far[ df_articles_far.article_id_type_id == 'DOI' ].identifier))"
   ]
  },
  {
   "cell_type": "code",
   "execution_count": 31,
   "metadata": {},
   "outputs": [
    {
     "data": {
      "text/plain": [
       "Citation           3361\n",
       "ConferencePaper     838\n",
       "Review              110\n",
       "BookSection          90\n",
       "Book                 32\n",
       "Abstract             10\n",
       "WorkingPaper          3\n",
       "Name: type, dtype: int64"
      ]
     },
     "execution_count": 31,
     "metadata": {},
     "output_type": "execute_result"
    }
   ],
   "source": [
    "df_cites_rab[ (df_cites_rab.type !='Article') & (df_cites_rab.doi != '') ].type.value_counts()"
   ]
  },
  {
   "cell_type": "code",
   "execution_count": 32,
   "metadata": {},
   "outputs": [
    {
     "data": {
      "text/plain": [
       "Article            42354\n",
       "Citation            3661\n",
       "ConferencePaper      882\n",
       "NoID                 843\n",
       "BookSection          528\n",
       "Book                 499\n",
       "Review               177\n",
       "Abstract              72\n",
       "WorkingPaper          24\n",
       "Patent                 4\n",
       "Name: type, dtype: int64"
      ]
     },
     "execution_count": 32,
     "metadata": {},
     "output_type": "execute_result"
    }
   ],
   "source": [
    "df_cites_rab.type.value_counts()"
   ]
  },
  {
   "cell_type": "code",
   "execution_count": null,
   "metadata": {},
   "outputs": [],
   "source": []
  }
 ],
 "metadata": {
  "kernelspec": {
   "display_name": "Python 3",
   "language": "python",
   "name": "python3"
  },
  "language_info": {
   "codemirror_mode": {
    "name": "ipython",
    "version": 3
   },
   "file_extension": ".py",
   "mimetype": "text/x-python",
   "name": "python",
   "nbconvert_exporter": "python",
   "pygments_lexer": "ipython3",
   "version": "3.7.5"
  }
 },
 "nbformat": 4,
 "nbformat_minor": 2
}
