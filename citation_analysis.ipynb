{
 "cells": [
  {
   "cell_type": "code",
   "execution_count": 73,
   "metadata": {},
   "outputs": [],
   "source": [
    "import csv\n",
    "\n",
    "import pandas as pd\n",
    "\n",
    "from collections import namedtuple, defaultdict\n",
    "from functools import reduce"
   ]
  },
  {
   "cell_type": "code",
   "execution_count": 52,
   "metadata": {},
   "outputs": [],
   "source": [
    "with open('data/rab/cite_properties.csv') as f:\n",
    "    data = f.readlines()\n",
    "    # skip header, strip trailing whitespace\n",
    "    fin_cite_props = [ d.strip() for d in data[1:] ]"
   ]
  },
  {
   "cell_type": "code",
   "execution_count": 53,
   "metadata": {},
   "outputs": [],
   "source": [
    "with open('data/rab/cite_data.nt') as f:\n",
    "    fin_rab_cites = f.readlines()"
   ]
  },
  {
   "cell_type": "code",
   "execution_count": 82,
   "metadata": {},
   "outputs": [
    {
     "data": {
      "text/plain": [
       "6392"
      ]
     },
     "execution_count": 82,
     "metadata": {},
     "output_type": "execute_result"
    }
   ],
   "source": [
    "with open('data/far/articles.csv') as f:\n",
    "    rdr = csv.reader(f)\n",
    "    header = next(rdr)\n",
    "    fin_far_arts = [ r for r in rdr ]\n",
    "len(fin_far_arts)"
   ]
  },
  {
   "cell_type": "code",
   "execution_count": 79,
   "metadata": {},
   "outputs": [
    {
     "data": {
      "text/plain": [
       "20"
      ]
     },
     "execution_count": 79,
     "metadata": {},
     "output_type": "execute_result"
    }
   ],
   "source": [
    "reduce(lambda x, y: x if len(y) < x else len(y), fin_far_arts, 0)"
   ]
  },
  {
   "cell_type": "code",
   "execution_count": 84,
   "metadata": {},
   "outputs": [
    {
     "name": "stdout",
     "output_type": "stream",
     "text": [
      "[(153, ['174', '781', 'BOOK', '', '2016-01-09 17:25:02', '2016-01-09 17:25:02', '\\\\Repairable Men\\\\\"', ' by John Carr Walker\"', 'Rain Taxi Review of Books', '', '', '0000-00-00', '', 'PUB', 'OTHER', '']), (154, ['175', '781', 'BOOK', '', '2016-01-09 17:26:30', '2016-01-09 17:26:30', '\\\\No Stones in Heaven', '\\\\\" by Arlene Swift Jones\"', 'Friends Journal', '', '', '0000-00-00', '', 'PUB', 'OTHER', '']), (155, ['176', '781', 'BOOK', '', '2016-01-09 17:27:48', '2016-01-09 17:27:48', '\\\\By Faith and By Love: Martin and Mabel’s Journey', '\\\\\" by Beverly England Williams\"', 'Friends Journal', '', '', '0000-00-00', '', 'PUB', 'OTHER', '']), (267, ['292', '353', 'CONF', '', '2016-01-11 15:15:19', '2016-01-11 15:16:33', '  \\\\Vitality and Obsolescence in the Theatres of the Humanities: Or', ' #SandraBland and Hamlet.\\\\\"\"', 'Humanities Futures, http://humanitiesfutures.org/papers/vitality-and-obsolesence-in-the-theatre-of-the-humanities-or-sandrabland-and-hamlet/', '', '', '0000-00-00', '', 'PRESS', 'OTHER', '']), (535, ['590', '285', 'NONPEER', '', '2016-01-15 09:19:40', '2016-01-15 09:19:40', '\\\\History is harsh\\\\\": Prime Minister Abe', ' the Joint Session of Congress', ' and World War II    \"', 'Asia Pacific Journal (online)', '', '', '0000-00-00', '', 'PUB', 'OTHER', '']), (540, ['595', '691', 'OTHER', '', '2016-01-15 12:20:18', '2016-01-15 12:20:18', '\\\\Freedom of Religion in the Contemporary Middle East: Unsatisfactory Answers to the Wrong Questions', '\\\\\"\"', 'Perspectives on History, the Newsmagazine of the American Historical Association', '', '', '0000-00-00', '', 'PUB', 'OTHER', '']), (542, ['597', '691', 'PEER', '', '2016-01-15 12:22:00', '2016-01-15 12:22:00', \"\\\\Early Islamic History Re-Imagined: The Biography of 'Umar ibn 'Abd al-'Azīz in Ibn 'Asākir's Tārīkh Madīnat Dimashq\", '\\\\\"\"', 'Journal of the American Oriental Society', '134', '3', '0000-00-00', '', 'PUB', 'OTHER', '1-21']), (607, ['664', '549', 'PEER', '', '2016-01-17 09:01:15', '2016-01-17 09:01:15', \"\\\\The Debt of Inheritance Revisited: Heidegger's Mortgage\", ' Derrida\\'s Appraisal\\\\\"\"', 'Oxford Literary Review', '37', '1', '0000-00-00', '', 'PUB', 'OTHER', '67-91']), (694, ['754', '589', 'PEER', '', '2016-01-19 18:45:25', '2016-01-19 18:45:25', '“What are Human Rights?”', 'a special issue: \\\\Media/Utopia', '\\\\\" (eds. Arvind Rajagopal and Anupama Rao) in Comparative Studies in South Asia', ' Africa and the Middle East Comparative Studies of South Asia', ' Africa and the Middle East (CSSAAME)\"', '1', 'Vol 35', '0000-00-00', '', 'PUB', 'OTHER', '8-20']), (1130, ['1216', '417', 'OTHER', '', '2016-01-25 11:02:28', '2016-01-25 11:16:06', '\\\\Amore E Scelta', ' Collezione della Fondazione Pablo Atchugarry.\\\\\"\"', 'Piero Atchugarry Gallery (artist catalogue)', '', '', '0000-00-00', 'Atchugarry, Pablo \\\\\\n', 'PUB', 'OTHER', '']), (1206, ['1294', '603', 'NONPEER', '', '2016-01-26 09:32:47', '2016-01-26 09:32:47', '\\\\China', ' high tech', ' and the \\'high tempo cost out\\' revolution\"', \"Brooking's Tech Tank\", '', '', '0000-00-00', '', 'PUB', 'OTHER', '']), (1313, ['1405', '275', 'PEER', '', '2016-01-26 17:24:07', '2016-01-26 17:24:07', '\\\\Avignon', ' A Trifle or Entremet', ' for my Better Half', ' Pending...\\\\\"\"', 'Denver Quarterly', '', '', '0000-00-00', '', 'PUB', 'OTHER', '']), (1521, ['1621', '489', 'PEER', '', '2016-01-28 14:41:38', '2016-01-28 14:41:38', '\\\\Does Citizenship Abate Class?  Evidence from Bangalore', ' India\"', 'Economic and Political Weekly', '', '', '0000-00-00', 'Bertorelli, Ebony, Patrick Heller, Siddharth Swaminathan and Ashutosh Varshney', 'SUBMITTED', 'OTHER', '']), (1554, ['1655', '554', 'PEER', '', '2016-01-28 17:33:45', '2016-01-28 17:33:45', 'Four poems: \\\\Thoreau', '\\\\\" \\\\\"Blake', '\\\\\" \\\\\"De Quincey', '\\\\\" & \\\\\"Nerval\\\\\"\"', 'The Kenyon Review', '6', 'XXXVII', '0000-00-00', '', 'PUB', 'OTHER', '5']), (1557, ['1658', '554', 'PEER', '', '2016-01-28 17:36:57', '2016-01-28 17:36:57', 'Two poems: \\\\Debord', '\\\\\" & \\\\\"Sinclair\\\\\"\"', 'Prelude ', '1', '1', '0000-00-00', '', 'PUB', 'OTHER', '2']), (1571, ['1672', '554', 'PEER', '', '2016-01-28 18:09:04', '2016-01-28 18:09:04', 'Three poems: \\\\Humboldt', '\\\\\" \\\\\"Dickens', '\\\\\" & \\\\\"Herzog\\\\\"\"', 'The Chicago Review', '1', '59', '0000-00-00', '', 'PUB', 'OTHER', '3']), (1574, ['1676', '554', 'PEER', '', '2016-01-28 18:22:12', '2016-01-28 18:22:12', 'Two Poems: \\\\Wordsworth', ' Dorothy\\\\\" & \\\\\"Wordsworth', ' William\\\\\"\"', 'The Boston Review', '', '', '0000-00-00', '', 'PUB', 'OTHER', '2']), (1583, ['1685', '554', 'PEER', '', '2016-01-28 18:47:01', '2016-01-28 18:47:01', '\\\\Chaïm Soutine: The Errant Road', ' 1939\"', 'The Academy of American Poets Poem-a-Day', '', '', '0000-00-00', '', 'PRESS', 'OTHER', '']), (1605, ['1714', '554', 'PEER', '', '2016-01-28 20:27:10', '2016-01-29 18:15:33', 'Translation: 15 pg. excerpt from \\\\Calm Down', ' Lison\\\\\" by Jean Frémon\"', 'Lana Turner', '8', '', '0000-00-00', '', 'PUB', 'OTHER', '253-258']), (1622, ['1731', '668', 'PEER', '', '2016-01-28 22:35:32', '2016-01-28 22:35:32', '\\\\Haphazard Archive: The Epistemological', ' Aesthetic', ' and Political Contradictions of U.S. Television\\\\\" \"', 'Journal of e-Media Studies ', '4', '1', '0000-00-00', '', 'PUB', 'OTHER', '12']), (1668, ['1781', '554', 'OTHER', '', '2016-01-29 09:30:21', '2016-01-29 09:30:21', 'Tranlsaiton: \\\\The Art of Being There\\\\\" catalogue essay by Jean Frémon\"', 'Catalogue for the painting exhibition \\\\Etel\\\\\" Adnan at the Galerie Lelong', ' Paris\"', '', '', '0000-00-00', '', 'PUB', 'OTHER', '']), (1670, ['1783', '554', 'PEER', '', '2016-01-29 09:34:18', '2016-01-29 09:34:18', 'Five poems from \\\\On Walking On\\\\\"\"', '\\\\Walking Sculpture\\\\\" art catalogue for the exhibition \\\\\"Walking Sculpture', '\\\\\" deCordova Sculpture Park', ' Lincoln', ' MA\"', '', '', '0000-00-00', '', 'PUB', 'OTHER', '']), (1866, ['1996', '651', 'PEER', '', '2016-01-29 16:48:25', '2016-01-29 16:48:25', 'The Dangers that Surround the Child\\\\: Race', ' Gender and Infant Mortality in Post-Independence Havana\"', 'Cuban Studies/Estudios Cubanos', '1', '45', '0000-00-00', '', 'PRESS', 'OTHER', '']), (2005, ['2141', '772', 'PEER', '', '2016-01-30 11:33:48', '2016-01-30 11:37:59', 'Portugueses em Angola, angolanos em Portugal: traumas e trânsitos identitários em \\\\Os Pretos de Pousaflores\\\\\"', ' de Aida Gomes\"', 'Configurações', '17', '', '0000-00-00', '', 'REVIEW', 'OTHER', '']), (3280, ['3543', '1340', 'PEER', '', '2017-01-09 16:02:17', '2017-01-09 16:48:56', '\\\\What Happened: Or', ' Finishing Live.\\\\\" \"', 'Representations (UC Berkeley)', '136', '', '2017-10-01', 'Rebecca Schneider', '\\\\N', '\\\\N', '']), (3281, ['3545', '1340', 'CONF', '', '2017-01-09 16:09:39', '2017-01-09 16:50:47', '\\\\Vitality and Obsolescence in the Theatres of the Humanities: Or', ' #SandraBland and Hamlet\\\\\"\"', 'Humanities Futures (Duke University) I am not sure this is a \\\\publication\\\\\" though it was presented to me as such. It has been published online as part of the Franklin Humanites Institute at Duke University. It was uploaded in 2016.  Disregard if not appor\"', 'https://humanitiesfutures.org/papers/vitality-and-obsolesence-in-the-theatre-of-the-humanities-or-sandrabland-and-hamlet/', '', '2017-01-01', 'Rebecca Schneider  ', '\\\\N', '\\\\N', '']), (3343, ['3611', '1474', 'BOOK', '', '2017-01-10 12:45:15', '2017-01-10 12:50:35', '\\\\The Land Beneath Our Feet', '\\\\\" by Gregg Mitman (film review)\"', 'Environmental History', 'forthcoming', '', '\\\\N', '', '\\\\N', '\\\\N', '']), (3522, ['3798', '1167', 'PEER', '', '2017-01-15 07:52:09', '2017-01-15 07:52:09', '\\\\Too Much', ' Too Little: Of Brevity\\\\\"\"', 'Critical Praxis', '', '', '2016-05-02', 'Jacques Khalip and David L. Clark', '\\\\N', '\\\\N', '']), (4421, ['4753', '1325', 'OTHER', '', '2017-01-30 15:10:16', '2017-01-30 15:10:16', '11/13\\\\', ' \\\\\"11/14\\\\\"', ' \\\\\"11/16\\\\\"', ' \\\\\"11/17\\\\\"', ' \\\\\"11/18\\\\\"', ' \\\\\"11/20\\\\\" and \\\\\"11/23.\\\\\" \"', 'The Wanderer', '', '', '\\\\N', 'Kate Schapira', 'PUB', '\\\\N', '']), (4422, ['4754', '1325', 'OTHER', '', '2017-01-30 15:10:45', '2017-01-30 15:10:45', '\\\\12/23\\\\\"', ' \\\\\"12/25\\\\\" and \\\\\"12/26.\\\\\" \"', 'Poor Claudia', '', '', '\\\\N', 'Kate Schapira', 'PUB', '\\\\N', '']), (4689, ['5025', '1452', 'PEER', '', '2017-01-31 20:42:37', '2017-01-31 20:42:37', '\\\\\\\\\"The Dangers that Surround the Child\\\\\": Race', ' Gender and Infant Mortality in Post-Independence Havana”\"', 'Cuban Studies/Estudios Cubanos', '1', '44', '\\\\N', 'Daniel A. Rodriguez', 'PRESS', '\\\\N', '']), (4838, ['5251', '1107', 'PEER', '', '2017-02-03 20:30:32', '2017-02-03 20:30:32', 'Poem: \\\\Chaïm Soutine: The Errant Road', ' 1939\"', 'The Academy of American Poets \\\\Poem-A-Day\\\\\" \"', '', '', '2016-03-22', 'Cole Swensen', 'PUB', '\\\\N', '']), (4842, ['5255', '1107', 'PEER', '', '2017-02-03 20:46:56', '2017-02-03 20:46:56', 'Critical Article: \\\\Experimental', ' Then and Now\\\\\"\"', 'American Book Review', '5', '37', '2016-10-01', 'Cole Swensen', 'PUB', '\\\\N', '']), (4851, ['5265', '1107', 'PEER', '', '2017-02-04 10:40:30', '2017-02-04 10:40:30', 'Two poems: \\\\Soutine', ' Flailing Trees\\\\\" and \\\\\"Soutine', ' Le Vieux moulin\\\\\"\"', 'Colorado Review', '', '', '2017-07-01', 'Cole Swensen', 'PRESS', '\\\\N', '']), (4853, ['5267', '1107', 'PEER', '', '2017-02-04 10:42:49', '2017-02-04 10:42:49', 'Three poems: \\\\Collected Anonymous Lakes', '\\\\\" \\\\\"Collected Anonymous Snow', '\\\\\" and \\\\\"Collected Anonymity\\\\\"\"', 'American Journal of Poetry', '', '', '2017-02-01', 'Cole Swensen', 'PRESS', '\\\\N', '']), (4859, ['5273', '1278', 'NONPEER', '', '2017-02-04 20:39:01', '2017-02-04 20:39:01', '\\\\Lloyd and Susanne Rudolph: A Tribute\\\\\"', ' \"', 'Economic and Political Weekly', '11', '51', '2016-03-12', 'Ashutosh Varshney', 'PUB', '\\\\N', '']), (5691, ['6360', '1162', 'PEER', '', '2017-02-19 09:58:42', '2017-02-19 09:58:42', '\\\\Into a Heartbreak So Blue', '\\\\\"  from THE BAY OF ANGELS', ' a novel in progress.\"', 'La Presa', 'Number 1', 'Volume 1', '2016-10-12', 'Maso', 'PUB', '\\\\N', ''])]\n"
     ]
    }
   ],
   "source": [
    "extra = [ (e, l) for e, l in enumerate(fin_far_arts) if len(l) > 15 ]\n",
    "print(extra)"
   ]
  },
  {
   "cell_type": "code",
   "execution_count": 54,
   "metadata": {},
   "outputs": [
    {
     "data": {
      "text/plain": [
       "dict_values(['date', 'volume', 'hasContributor', 'authorList', 'pmid', 'issue', 'doi', 'hasVenue', 'pages', 'pmcid', 'issn', 'venueFor', 'eissn', 'publishedIn', 'book', 'hasLocation', 'editorList', 'chapter', 'hasPublisher', 'isbn', 'url', 'hasConferenceLocation', 'conferenceDate', 'hasConference', 'reviewOf', 'title', 'number', 'version', 'hasAssignee', 'hasCountry', 'hasAuthority', 'patentNumber', 'rabid'])"
      ]
     },
     "execution_count": 54,
     "metadata": {},
     "output_type": "execute_result"
    }
   ],
   "source": [
    "cite_prop_map = { c: c[40:] for c in fin_cite_props if c.startswith('http://vivo.brown.edu/ontology/citation#') }\n",
    "cite_prop_map['rabid'] = 'rabid'\n",
    "cite_prop_map.values()"
   ]
  },
  {
   "cell_type": "code",
   "execution_count": 55,
   "metadata": {},
   "outputs": [],
   "source": [
    "RABCitation = namedtuple('RABCitation', sorted(cite_prop_map.values()))"
   ]
  },
  {
   "cell_type": "code",
   "execution_count": 56,
   "metadata": {},
   "outputs": [],
   "source": [
    "def clean_data_prop(oData):\n",
    "    return oData.rsplit('\"^^<http://www.w3.org/2001/XMLSchema#', maxsplit=1)[0].strip('\\\"\\n .<>')"
   ]
  },
  {
   "cell_type": "code",
   "execution_count": 57,
   "metadata": {},
   "outputs": [],
   "source": [
    "def parse_triple(rawRow):\n",
    "    s,p,o = rawRow.split(' ',maxsplit=2)\n",
    "    s = s.strip('<>')\n",
    "    p = p.strip('<>')\n",
    "    o = clean_data_prop(o)\n",
    "    return (s,p,o)"
   ]
  },
  {
   "cell_type": "code",
   "execution_count": 58,
   "metadata": {},
   "outputs": [
    {
     "data": {
      "text/plain": [
       "('http://vivo.brown.edu/individual/n5c6cae127059414ca258636cd3dc482b',\n",
       " 'http://www.w3.org/2000/01/rdf-schema#label',\n",
       " 'Erratum to: Global magnetic confinement for the 1.5D Vlasov-Maxwell system')"
      ]
     },
     "execution_count": 58,
     "metadata": {},
     "output_type": "execute_result"
    }
   ],
   "source": [
    "cite_triples = []\n",
    "for t in fin_rab_cites:\n",
    "    cite_triples.append(parse_triple(t))\n",
    "\n",
    "cite_triples[0]"
   ]
  },
  {
   "cell_type": "code",
   "execution_count": 59,
   "metadata": {},
   "outputs": [],
   "source": [
    "cite_dicts = defaultdict(dict)\n",
    "for t in cite_triples:\n",
    "    if t[1] in cite_prop_map:\n",
    "        cite_dicts[t[0]][cite_prop_map[t[1]]] = t[2]"
   ]
  },
  {
   "cell_type": "code",
   "execution_count": 61,
   "metadata": {},
   "outputs": [
    {
     "name": "stdout",
     "output_type": "stream",
     "text": [
      "RABCitation(authorList='Nguyen, Toan T., Nguyen, Truyen V., Strauss, Walter A', book='', chapter='', conferenceDate='', date='2015-06-01', doi='10.3934/krm.2015.8.615', editorList='', eissn='', hasAssignee='', hasAuthority='', hasConference='', hasConferenceLocation='', hasContributor='http://vivo.brown.edu/individual/wstrauss', hasCountry='', hasLocation='', hasPublisher='', hasVenue='http://vivo.brown.edu/individual/n6086eb8fe7824cad9423547d403a958d', isbn='', issn='', issue='3', number='', pages='615-616', patentNumber='', pmcid='', pmid='', publishedIn='Kinetic and Related Models', rabid='http://vivo.brown.edu/individual/n5c6cae127059414ca258636cd3dc482b', reviewOf='', title='', url='', venueFor='', version='', volume='8')\n"
     ]
    }
   ],
   "source": [
    "empty_row = { cite_prop_map[p]: '' for p in cite_prop_map }\n",
    "rab_rows = []\n",
    "for c in cite_dicts:\n",
    "    d = cite_dicts[c]\n",
    "    d['rabid'] = c\n",
    "    row = empty_row.copy()\n",
    "    row.update(d)\n",
    "    rab_rows.append(RABCitation(**row))\n",
    "\n",
    "print(rab_rows[0])"
   ]
  },
  {
   "cell_type": "code",
   "execution_count": 62,
   "metadata": {},
   "outputs": [
    {
     "data": {
      "text/html": [
       "<div>\n",
       "<style scoped>\n",
       "    .dataframe tbody tr th:only-of-type {\n",
       "        vertical-align: middle;\n",
       "    }\n",
       "\n",
       "    .dataframe tbody tr th {\n",
       "        vertical-align: top;\n",
       "    }\n",
       "\n",
       "    .dataframe thead th {\n",
       "        text-align: right;\n",
       "    }\n",
       "</style>\n",
       "<table border=\"1\" class=\"dataframe\">\n",
       "  <thead>\n",
       "    <tr style=\"text-align: right;\">\n",
       "      <th></th>\n",
       "      <th>rabid</th>\n",
       "      <th>doi</th>\n",
       "      <th>pmid</th>\n",
       "      <th>pmcid</th>\n",
       "      <th>issn</th>\n",
       "      <th>eissn</th>\n",
       "      <th>authorList</th>\n",
       "      <th>book</th>\n",
       "      <th>chapter</th>\n",
       "      <th>conferenceDate</th>\n",
       "      <th>...</th>\n",
       "      <th>number</th>\n",
       "      <th>pages</th>\n",
       "      <th>patentNumber</th>\n",
       "      <th>publishedIn</th>\n",
       "      <th>reviewOf</th>\n",
       "      <th>title</th>\n",
       "      <th>url</th>\n",
       "      <th>venueFor</th>\n",
       "      <th>version</th>\n",
       "      <th>volume</th>\n",
       "    </tr>\n",
       "  </thead>\n",
       "  <tbody>\n",
       "    <tr>\n",
       "      <th>0</th>\n",
       "      <td>http://vivo.brown.edu/individual/n5c6cae127059...</td>\n",
       "      <td>10.3934/krm.2015.8.615</td>\n",
       "      <td></td>\n",
       "      <td></td>\n",
       "      <td></td>\n",
       "      <td></td>\n",
       "      <td>Nguyen, Toan T., Nguyen, Truyen V., Strauss, W...</td>\n",
       "      <td></td>\n",
       "      <td></td>\n",
       "      <td></td>\n",
       "      <td>...</td>\n",
       "      <td></td>\n",
       "      <td>615-616</td>\n",
       "      <td></td>\n",
       "      <td>Kinetic and Related Models</td>\n",
       "      <td></td>\n",
       "      <td></td>\n",
       "      <td></td>\n",
       "      <td></td>\n",
       "      <td></td>\n",
       "      <td>8</td>\n",
       "    </tr>\n",
       "    <tr>\n",
       "      <th>1</th>\n",
       "      <td>http://vivo.brown.edu/individual/n52747</td>\n",
       "      <td>10.1037/0012-1649.40.4.595</td>\n",
       "      <td>15238046</td>\n",
       "      <td></td>\n",
       "      <td></td>\n",
       "      <td></td>\n",
       "      <td>Li, Jin</td>\n",
       "      <td></td>\n",
       "      <td></td>\n",
       "      <td></td>\n",
       "      <td>...</td>\n",
       "      <td></td>\n",
       "      <td>595-605</td>\n",
       "      <td></td>\n",
       "      <td></td>\n",
       "      <td></td>\n",
       "      <td></td>\n",
       "      <td></td>\n",
       "      <td></td>\n",
       "      <td></td>\n",
       "      <td>40</td>\n",
       "    </tr>\n",
       "    <tr>\n",
       "      <th>2</th>\n",
       "      <td>http://vivo.brown.edu/individual/n8301</td>\n",
       "      <td>10.1007/s10461-012-0163-8</td>\n",
       "      <td>22323006</td>\n",
       "      <td>PMC3471653</td>\n",
       "      <td></td>\n",
       "      <td></td>\n",
       "      <td>Brown JL, Sales JM, DiClemente RJ, Salazar LF,...</td>\n",
       "      <td></td>\n",
       "      <td></td>\n",
       "      <td></td>\n",
       "      <td>...</td>\n",
       "      <td></td>\n",
       "      <td>1491-500</td>\n",
       "      <td></td>\n",
       "      <td></td>\n",
       "      <td></td>\n",
       "      <td></td>\n",
       "      <td></td>\n",
       "      <td></td>\n",
       "      <td></td>\n",
       "      <td>16</td>\n",
       "    </tr>\n",
       "    <tr>\n",
       "      <th>3</th>\n",
       "      <td>http://vivo.brown.edu/individual/n98528</td>\n",
       "      <td>10.1002/mc.2940130304</td>\n",
       "      <td>7619217</td>\n",
       "      <td></td>\n",
       "      <td></td>\n",
       "      <td></td>\n",
       "      <td>Sears WL, Goto-Mandeville R, Mirapuri M, Braun L</td>\n",
       "      <td></td>\n",
       "      <td></td>\n",
       "      <td></td>\n",
       "      <td>...</td>\n",
       "      <td></td>\n",
       "      <td>146-56</td>\n",
       "      <td></td>\n",
       "      <td></td>\n",
       "      <td></td>\n",
       "      <td></td>\n",
       "      <td></td>\n",
       "      <td></td>\n",
       "      <td></td>\n",
       "      <td>13</td>\n",
       "    </tr>\n",
       "    <tr>\n",
       "      <th>4</th>\n",
       "      <td>http://vivo.brown.edu/individual/n52835</td>\n",
       "      <td>10.1016/j.drugalcdep.2014.09.265</td>\n",
       "      <td></td>\n",
       "      <td></td>\n",
       "      <td></td>\n",
       "      <td></td>\n",
       "      <td>Graves, Hannah, Hernandez, Lynn, Kahler, Chris...</td>\n",
       "      <td></td>\n",
       "      <td></td>\n",
       "      <td></td>\n",
       "      <td>...</td>\n",
       "      <td></td>\n",
       "      <td>e127-e128</td>\n",
       "      <td></td>\n",
       "      <td></td>\n",
       "      <td></td>\n",
       "      <td></td>\n",
       "      <td></td>\n",
       "      <td></td>\n",
       "      <td></td>\n",
       "      <td>146</td>\n",
       "    </tr>\n",
       "  </tbody>\n",
       "</table>\n",
       "<p>5 rows × 33 columns</p>\n",
       "</div>"
      ],
      "text/plain": [
       "                                               rabid  \\\n",
       "0  http://vivo.brown.edu/individual/n5c6cae127059...   \n",
       "1            http://vivo.brown.edu/individual/n52747   \n",
       "2             http://vivo.brown.edu/individual/n8301   \n",
       "3            http://vivo.brown.edu/individual/n98528   \n",
       "4            http://vivo.brown.edu/individual/n52835   \n",
       "\n",
       "                                doi      pmid       pmcid issn eissn  \\\n",
       "0            10.3934/krm.2015.8.615                                    \n",
       "1        10.1037/0012-1649.40.4.595  15238046                          \n",
       "2         10.1007/s10461-012-0163-8  22323006  PMC3471653              \n",
       "3             10.1002/mc.2940130304   7619217                          \n",
       "4  10.1016/j.drugalcdep.2014.09.265                                    \n",
       "\n",
       "                                          authorList book chapter  \\\n",
       "0  Nguyen, Toan T., Nguyen, Truyen V., Strauss, W...                \n",
       "1                                            Li, Jin                \n",
       "2  Brown JL, Sales JM, DiClemente RJ, Salazar LF,...                \n",
       "3   Sears WL, Goto-Mandeville R, Mirapuri M, Braun L                \n",
       "4  Graves, Hannah, Hernandez, Lynn, Kahler, Chris...                \n",
       "\n",
       "  conferenceDate  ... number      pages patentNumber  \\\n",
       "0                 ...           615-616                \n",
       "1                 ...           595-605                \n",
       "2                 ...          1491-500                \n",
       "3                 ...            146-56                \n",
       "4                 ...         e127-e128                \n",
       "\n",
       "                  publishedIn reviewOf title url venueFor version volume  \n",
       "0  Kinetic and Related Models                                          8  \n",
       "1                                                                     40  \n",
       "2                                                                     16  \n",
       "3                                                                     13  \n",
       "4                                                                    146  \n",
       "\n",
       "[5 rows x 33 columns]"
      ]
     },
     "execution_count": 62,
     "metadata": {},
     "output_type": "execute_result"
    }
   ],
   "source": [
    "df_cites_rab = pd.DataFrame(rab_rows)\n",
    "\n",
    "cols = df_cites_rab.columns.tolist()\n",
    "id_atts = [ 'rabid','doi','pmid','pmcid','issn','eissn']\n",
    "cols = [ c for c in cols if c not in id_atts ]\n",
    "cols = id_atts + cols\n",
    "df_cites_rab = df_cites_rab[ cols ]\n",
    "df_cites_rab.head()"
   ]
  },
  {
   "cell_type": "code",
   "execution_count": null,
   "metadata": {},
   "outputs": [],
   "source": []
  }
 ],
 "metadata": {
  "kernelspec": {
   "display_name": "Python 3",
   "language": "python",
   "name": "python3"
  },
  "language_info": {
   "codemirror_mode": {
    "name": "ipython",
    "version": 3
   },
   "file_extension": ".py",
   "mimetype": "text/x-python",
   "name": "python",
   "nbconvert_exporter": "python",
   "pygments_lexer": "ipython3",
   "version": "3.7.5"
  }
 },
 "nbformat": 4,
 "nbformat_minor": 2
}
