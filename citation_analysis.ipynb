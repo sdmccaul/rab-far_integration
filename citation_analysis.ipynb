{
 "cells": [
  {
   "cell_type": "code",
   "execution_count": 1,
   "metadata": {},
   "outputs": [],
   "source": [
    "import csv\n",
    "\n",
    "import pandas as pd\n",
    "\n",
    "from collections import namedtuple, defaultdict\n",
    "from functools import reduce"
   ]
  },
  {
   "cell_type": "code",
   "execution_count": 2,
   "metadata": {},
   "outputs": [],
   "source": [
    "with open('data/rab/cite_properties.csv') as f:\n",
    "    data = f.readlines()\n",
    "    # skip header, strip trailing whitespace\n",
    "    fin_cite_props = [ d.strip() for d in data[1:] ]"
   ]
  },
  {
   "cell_type": "code",
   "execution_count": 3,
   "metadata": {},
   "outputs": [],
   "source": [
    "with open('data/rab/cite_data.nt') as f:\n",
    "    fin_rab_cites = f.readlines()"
   ]
  },
  {
   "cell_type": "code",
   "execution_count": 24,
   "metadata": {},
   "outputs": [],
   "source": [
    "with open('data/far/articles.csv') as f:\n",
    "    rdr = csv.reader(f, escapechar='\\\\')\n",
    "    far_cites_header = next(rdr)\n",
    "    fin_far_arts = [ r for r in rdr ]"
   ]
  },
  {
   "cell_type": "code",
   "execution_count": 27,
   "metadata": {},
   "outputs": [
    {
     "data": {
      "text/html": [
       "<div>\n",
       "<style scoped>\n",
       "    .dataframe tbody tr th:only-of-type {\n",
       "        vertical-align: middle;\n",
       "    }\n",
       "\n",
       "    .dataframe tbody tr th {\n",
       "        vertical-align: top;\n",
       "    }\n",
       "\n",
       "    .dataframe thead th {\n",
       "        text-align: right;\n",
       "    }\n",
       "</style>\n",
       "<table border=\"1\" class=\"dataframe\">\n",
       "  <thead>\n",
       "    <tr style=\"text-align: right;\">\n",
       "      <th></th>\n",
       "      <th>id</th>\n",
       "      <th>activity_report_id</th>\n",
       "      <th>article_type_id</th>\n",
       "      <th>identifier</th>\n",
       "      <th>created_at</th>\n",
       "      <th>updated_at</th>\n",
       "      <th>title</th>\n",
       "      <th>journal</th>\n",
       "      <th>number</th>\n",
       "      <th>volume</th>\n",
       "      <th>date</th>\n",
       "      <th>coauthors</th>\n",
       "      <th>book_status_id</th>\n",
       "      <th>article_id_type_id</th>\n",
       "      <th>page_numbers</th>\n",
       "    </tr>\n",
       "  </thead>\n",
       "  <tbody>\n",
       "    <tr>\n",
       "      <th>0</th>\n",
       "      <td>6</td>\n",
       "      <td>15</td>\n",
       "      <td>PEER</td>\n",
       "      <td>10.1117/1.nph.2.3.031202</td>\n",
       "      <td>2016-01-07 16:51:12</td>\n",
       "      <td>2016-01-07 16:51:12</td>\n",
       "      <td>Modified toolbox for optogenetics in the nonhu...</td>\n",
       "      <td>Neurophotonics</td>\n",
       "      <td>3</td>\n",
       "      <td>2</td>\n",
       "      <td>2015-05-29</td>\n",
       "      <td>Dai, Ji and Ozden, Ilker and Brooks, Daniel I....</td>\n",
       "      <td>PUB</td>\n",
       "      <td>DOI</td>\n",
       "      <td>031202</td>\n",
       "    </tr>\n",
       "    <tr>\n",
       "      <th>1</th>\n",
       "      <td>7</td>\n",
       "      <td>25</td>\n",
       "      <td>PEER</td>\n",
       "      <td>10.1162/neco_a_00681</td>\n",
       "      <td>2016-01-07 17:07:06</td>\n",
       "      <td>2016-01-07 17:07:58</td>\n",
       "      <td>Spatiotemporal Conditional Inference and Hypot...</td>\n",
       "      <td>Neural Computation</td>\n",
       "      <td>1</td>\n",
       "      <td>27</td>\n",
       "      <td>0000-00-00</td>\n",
       "      <td>Harrison, Matthew T. and Amarasingham, Asohan ...</td>\n",
       "      <td>PUB</td>\n",
       "      <td>DOI</td>\n",
       "      <td>104-150</td>\n",
       "    </tr>\n",
       "    <tr>\n",
       "      <th>2</th>\n",
       "      <td>9</td>\n",
       "      <td>760</td>\n",
       "      <td>PEER</td>\n",
       "      <td>10.1038/nature14105</td>\n",
       "      <td>2016-01-07 17:08:08</td>\n",
       "      <td>2016-01-07 17:08:08</td>\n",
       "      <td>Impact jetting as the origin of chondrules</td>\n",
       "      <td>Nature</td>\n",
       "      <td>7534</td>\n",
       "      <td>517</td>\n",
       "      <td>2015-01-14</td>\n",
       "      <td>Johnson, Brandon C. and Minton, David A. and M...</td>\n",
       "      <td>PUB</td>\n",
       "      <td>DOI</td>\n",
       "      <td>339-341</td>\n",
       "    </tr>\n",
       "    <tr>\n",
       "      <th>3</th>\n",
       "      <td>10</td>\n",
       "      <td>760</td>\n",
       "      <td>PEER</td>\n",
       "      <td>10.1002/2015gl065022</td>\n",
       "      <td>2016-01-07 17:08:19</td>\n",
       "      <td>2016-01-07 17:10:52</td>\n",
       "      <td>The fractured Moon: Production and saturation ...</td>\n",
       "      <td>Geophysical Research Letters</td>\n",
       "      <td>17</td>\n",
       "      <td>42</td>\n",
       "      <td>2015-09-10</td>\n",
       "      <td>Soderblom, Jason M. and Evans, Alexander J. an...</td>\n",
       "      <td>PUB</td>\n",
       "      <td>DOI</td>\n",
       "      <td>6939-6944</td>\n",
       "    </tr>\n",
       "    <tr>\n",
       "      <th>4</th>\n",
       "      <td>11</td>\n",
       "      <td>25</td>\n",
       "      <td>PEER</td>\n",
       "      <td>10.1073/pnas.1506400112</td>\n",
       "      <td>2016-01-07 17:08:37</td>\n",
       "      <td>2016-01-07 17:08:50</td>\n",
       "      <td>Ambiguity and nonidentifiability in the statis...</td>\n",
       "      <td>Proc Natl Acad Sci USA</td>\n",
       "      <td>20</td>\n",
       "      <td>112</td>\n",
       "      <td>0000-00-00</td>\n",
       "      <td>Amarasingham, Asohan and Geman, Stuart and Har...</td>\n",
       "      <td>PUB</td>\n",
       "      <td>DOI</td>\n",
       "      <td>6455-6460</td>\n",
       "    </tr>\n",
       "  </tbody>\n",
       "</table>\n",
       "</div>"
      ],
      "text/plain": [
       "   id activity_report_id article_type_id                identifier  \\\n",
       "0   6                 15            PEER  10.1117/1.nph.2.3.031202   \n",
       "1   7                 25            PEER      10.1162/neco_a_00681   \n",
       "2   9                760            PEER       10.1038/nature14105   \n",
       "3  10                760            PEER      10.1002/2015gl065022   \n",
       "4  11                 25            PEER   10.1073/pnas.1506400112   \n",
       "\n",
       "            created_at           updated_at  \\\n",
       "0  2016-01-07 16:51:12  2016-01-07 16:51:12   \n",
       "1  2016-01-07 17:07:06  2016-01-07 17:07:58   \n",
       "2  2016-01-07 17:08:08  2016-01-07 17:08:08   \n",
       "3  2016-01-07 17:08:19  2016-01-07 17:10:52   \n",
       "4  2016-01-07 17:08:37  2016-01-07 17:08:50   \n",
       "\n",
       "                                               title  \\\n",
       "0  Modified toolbox for optogenetics in the nonhu...   \n",
       "1  Spatiotemporal Conditional Inference and Hypot...   \n",
       "2         Impact jetting as the origin of chondrules   \n",
       "3  The fractured Moon: Production and saturation ...   \n",
       "4  Ambiguity and nonidentifiability in the statis...   \n",
       "\n",
       "                        journal number volume        date  \\\n",
       "0                Neurophotonics      3      2  2015-05-29   \n",
       "1            Neural Computation      1     27  0000-00-00   \n",
       "2                        Nature   7534    517  2015-01-14   \n",
       "3  Geophysical Research Letters     17     42  2015-09-10   \n",
       "4        Proc Natl Acad Sci USA     20    112  0000-00-00   \n",
       "\n",
       "                                           coauthors book_status_id  \\\n",
       "0  Dai, Ji and Ozden, Ilker and Brooks, Daniel I....            PUB   \n",
       "1  Harrison, Matthew T. and Amarasingham, Asohan ...            PUB   \n",
       "2  Johnson, Brandon C. and Minton, David A. and M...            PUB   \n",
       "3  Soderblom, Jason M. and Evans, Alexander J. an...            PUB   \n",
       "4  Amarasingham, Asohan and Geman, Stuart and Har...            PUB   \n",
       "\n",
       "  article_id_type_id page_numbers  \n",
       "0                DOI       031202  \n",
       "1                DOI      104-150  \n",
       "2                DOI      339-341  \n",
       "3                DOI    6939-6944  \n",
       "4                DOI    6455-6460  "
      ]
     },
     "execution_count": 27,
     "metadata": {},
     "output_type": "execute_result"
    }
   ],
   "source": [
    "df_cites_far = pd.DataFrame(fin_far_arts, columns=far_cites_header)\n",
    "df_cites_far.head()"
   ]
  },
  {
   "cell_type": "code",
   "execution_count": 44,
   "metadata": {},
   "outputs": [
    {
     "data": {
      "text/plain": [
       "dict_values(['date', 'volume', 'hasContributor', 'authorList', 'pmid', 'issue', 'doi', 'hasVenue', 'pages', 'pmcid', 'issn', 'venueFor', 'eissn', 'publishedIn', 'book', 'hasLocation', 'editorList', 'chapter', 'hasPublisher', 'isbn', 'url', 'hasConferenceLocation', 'conferenceDate', 'hasConference', 'reviewOf', 'title', 'number', 'version', 'hasAssignee', 'hasCountry', 'hasAuthority', 'patentNumber', 'rabid', 'type'])"
      ]
     },
     "execution_count": 44,
     "metadata": {},
     "output_type": "execute_result"
    }
   ],
   "source": [
    "cite_prop_map = { c: c[40:] for c in fin_cite_props if c.startswith('http://vivo.brown.edu/ontology/citation#') }\n",
    "cite_prop_map['rabid'] = 'rabid'\n",
    "cite_prop_map['http://vitro.mannlib.cornell.edu/ns/vitro/0.7#mostSpecificType'] = 'type'\n",
    "cite_prop_map.values()"
   ]
  },
  {
   "cell_type": "code",
   "execution_count": 45,
   "metadata": {},
   "outputs": [],
   "source": [
    "RABCitation = namedtuple('RABCitation', sorted(cite_prop_map.values()))"
   ]
  },
  {
   "cell_type": "code",
   "execution_count": 46,
   "metadata": {},
   "outputs": [],
   "source": [
    "def clean_data_prop(oData):\n",
    "    return oData.rsplit('\"^^<http://www.w3.org/2001/XMLSchema#', maxsplit=1)[0].strip('\\\"\\n .<>')"
   ]
  },
  {
   "cell_type": "code",
   "execution_count": 47,
   "metadata": {},
   "outputs": [],
   "source": [
    "def parse_triple(rawRow):\n",
    "    s,p,o = rawRow.split(' ',maxsplit=2)\n",
    "    s = s.strip('<>')\n",
    "    p = p.strip('<>')\n",
    "    o = clean_data_prop(o)\n",
    "    return (s,p,o)"
   ]
  },
  {
   "cell_type": "code",
   "execution_count": 48,
   "metadata": {},
   "outputs": [
    {
     "data": {
      "text/plain": [
       "('http://vivo.brown.edu/individual/n5c6cae127059414ca258636cd3dc482b',\n",
       " 'http://www.w3.org/2000/01/rdf-schema#label',\n",
       " 'Erratum to: Global magnetic confinement for the 1.5D Vlasov-Maxwell system')"
      ]
     },
     "execution_count": 48,
     "metadata": {},
     "output_type": "execute_result"
    }
   ],
   "source": [
    "cite_triples = []\n",
    "for t in fin_rab_cites:\n",
    "    cite_triples.append(parse_triple(t))\n",
    "\n",
    "cite_triples[0]"
   ]
  },
  {
   "cell_type": "code",
   "execution_count": 49,
   "metadata": {},
   "outputs": [],
   "source": [
    "cite_dicts = defaultdict(dict)\n",
    "for t in cite_triples:\n",
    "    if t[1] in cite_prop_map:\n",
    "        cite_dicts[t[0]][cite_prop_map[t[1]]] = t[2]"
   ]
  },
  {
   "cell_type": "code",
   "execution_count": 50,
   "metadata": {},
   "outputs": [
    {
     "name": "stdout",
     "output_type": "stream",
     "text": [
      "RABCitation(authorList='Nguyen, Toan T., Nguyen, Truyen V., Strauss, Walter A', book='', chapter='', conferenceDate='', date='2015-06-01', doi='10.3934/krm.2015.8.615', editorList='', eissn='', hasAssignee='', hasAuthority='', hasConference='', hasConferenceLocation='', hasContributor='http://vivo.brown.edu/individual/wstrauss', hasCountry='', hasLocation='', hasPublisher='', hasVenue='http://vivo.brown.edu/individual/n6086eb8fe7824cad9423547d403a958d', isbn='', issn='', issue='3', number='', pages='615-616', patentNumber='', pmcid='', pmid='', publishedIn='Kinetic and Related Models', rabid='http://vivo.brown.edu/individual/n5c6cae127059414ca258636cd3dc482b', reviewOf='', title='', type='http://vivo.brown.edu/ontology/citation#Article', url='', venueFor='', version='', volume='8')\n"
     ]
    }
   ],
   "source": [
    "empty_row = { cite_prop_map[p]: '' for p in cite_prop_map }\n",
    "rab_rows = []\n",
    "for c in cite_dicts:\n",
    "    d = cite_dicts[c]\n",
    "    d['rabid'] = c\n",
    "    row = empty_row.copy()\n",
    "    row.update(d)\n",
    "    rab_rows.append(RABCitation(**row))\n",
    "\n",
    "print(rab_rows[0])"
   ]
  },
  {
   "cell_type": "code",
   "execution_count": 97,
   "metadata": {},
   "outputs": [
    {
     "data": {
      "text/html": [
       "<div>\n",
       "<style scoped>\n",
       "    .dataframe tbody tr th:only-of-type {\n",
       "        vertical-align: middle;\n",
       "    }\n",
       "\n",
       "    .dataframe tbody tr th {\n",
       "        vertical-align: top;\n",
       "    }\n",
       "\n",
       "    .dataframe thead th {\n",
       "        text-align: right;\n",
       "    }\n",
       "</style>\n",
       "<table border=\"1\" class=\"dataframe\">\n",
       "  <thead>\n",
       "    <tr style=\"text-align: right;\">\n",
       "      <th></th>\n",
       "      <th>rabid</th>\n",
       "      <th>type</th>\n",
       "      <th>doi</th>\n",
       "      <th>pmid</th>\n",
       "      <th>pmcid</th>\n",
       "      <th>issn</th>\n",
       "      <th>eissn</th>\n",
       "      <th>authorList</th>\n",
       "      <th>book</th>\n",
       "      <th>chapter</th>\n",
       "      <th>...</th>\n",
       "      <th>number</th>\n",
       "      <th>pages</th>\n",
       "      <th>patentNumber</th>\n",
       "      <th>publishedIn</th>\n",
       "      <th>reviewOf</th>\n",
       "      <th>title</th>\n",
       "      <th>url</th>\n",
       "      <th>venueFor</th>\n",
       "      <th>version</th>\n",
       "      <th>volume</th>\n",
       "    </tr>\n",
       "  </thead>\n",
       "  <tbody>\n",
       "    <tr>\n",
       "      <th>0</th>\n",
       "      <td>http://vivo.brown.edu/individual/n5c6cae127059...</td>\n",
       "      <td>Article</td>\n",
       "      <td>10.3934/krm.2015.8.615</td>\n",
       "      <td></td>\n",
       "      <td></td>\n",
       "      <td></td>\n",
       "      <td></td>\n",
       "      <td>Nguyen, Toan T., Nguyen, Truyen V., Strauss, W...</td>\n",
       "      <td></td>\n",
       "      <td></td>\n",
       "      <td>...</td>\n",
       "      <td></td>\n",
       "      <td>615-616</td>\n",
       "      <td></td>\n",
       "      <td>Kinetic and Related Models</td>\n",
       "      <td></td>\n",
       "      <td></td>\n",
       "      <td></td>\n",
       "      <td></td>\n",
       "      <td></td>\n",
       "      <td>8</td>\n",
       "    </tr>\n",
       "    <tr>\n",
       "      <th>1</th>\n",
       "      <td>http://vivo.brown.edu/individual/n52747</td>\n",
       "      <td>Article</td>\n",
       "      <td>10.1037/0012-1649.40.4.595</td>\n",
       "      <td>15238046</td>\n",
       "      <td></td>\n",
       "      <td></td>\n",
       "      <td></td>\n",
       "      <td>Li, Jin</td>\n",
       "      <td></td>\n",
       "      <td></td>\n",
       "      <td>...</td>\n",
       "      <td></td>\n",
       "      <td>595-605</td>\n",
       "      <td></td>\n",
       "      <td></td>\n",
       "      <td></td>\n",
       "      <td></td>\n",
       "      <td></td>\n",
       "      <td></td>\n",
       "      <td></td>\n",
       "      <td>40</td>\n",
       "    </tr>\n",
       "    <tr>\n",
       "      <th>2</th>\n",
       "      <td>http://vivo.brown.edu/individual/n8301</td>\n",
       "      <td>Article</td>\n",
       "      <td>10.1007/s10461-012-0163-8</td>\n",
       "      <td>22323006</td>\n",
       "      <td>PMC3471653</td>\n",
       "      <td></td>\n",
       "      <td></td>\n",
       "      <td>Brown JL, Sales JM, DiClemente RJ, Salazar LF,...</td>\n",
       "      <td></td>\n",
       "      <td></td>\n",
       "      <td>...</td>\n",
       "      <td></td>\n",
       "      <td>1491-500</td>\n",
       "      <td></td>\n",
       "      <td></td>\n",
       "      <td></td>\n",
       "      <td></td>\n",
       "      <td></td>\n",
       "      <td></td>\n",
       "      <td></td>\n",
       "      <td>16</td>\n",
       "    </tr>\n",
       "    <tr>\n",
       "      <th>3</th>\n",
       "      <td>http://vivo.brown.edu/individual/n98528</td>\n",
       "      <td>Article</td>\n",
       "      <td>10.1002/mc.2940130304</td>\n",
       "      <td>7619217</td>\n",
       "      <td></td>\n",
       "      <td></td>\n",
       "      <td></td>\n",
       "      <td>Sears WL, Goto-Mandeville R, Mirapuri M, Braun L</td>\n",
       "      <td></td>\n",
       "      <td></td>\n",
       "      <td>...</td>\n",
       "      <td></td>\n",
       "      <td>146-56</td>\n",
       "      <td></td>\n",
       "      <td></td>\n",
       "      <td></td>\n",
       "      <td></td>\n",
       "      <td></td>\n",
       "      <td></td>\n",
       "      <td></td>\n",
       "      <td>13</td>\n",
       "    </tr>\n",
       "    <tr>\n",
       "      <th>4</th>\n",
       "      <td>http://vivo.brown.edu/individual/n52835</td>\n",
       "      <td>Article</td>\n",
       "      <td>10.1016/j.drugalcdep.2014.09.265</td>\n",
       "      <td></td>\n",
       "      <td></td>\n",
       "      <td></td>\n",
       "      <td></td>\n",
       "      <td>Graves, Hannah, Hernandez, Lynn, Kahler, Chris...</td>\n",
       "      <td></td>\n",
       "      <td></td>\n",
       "      <td>...</td>\n",
       "      <td></td>\n",
       "      <td>e127-e128</td>\n",
       "      <td></td>\n",
       "      <td></td>\n",
       "      <td></td>\n",
       "      <td></td>\n",
       "      <td></td>\n",
       "      <td></td>\n",
       "      <td></td>\n",
       "      <td>146</td>\n",
       "    </tr>\n",
       "  </tbody>\n",
       "</table>\n",
       "<p>5 rows × 34 columns</p>\n",
       "</div>"
      ],
      "text/plain": [
       "                                               rabid     type  \\\n",
       "0  http://vivo.brown.edu/individual/n5c6cae127059...  Article   \n",
       "1            http://vivo.brown.edu/individual/n52747  Article   \n",
       "2             http://vivo.brown.edu/individual/n8301  Article   \n",
       "3            http://vivo.brown.edu/individual/n98528  Article   \n",
       "4            http://vivo.brown.edu/individual/n52835  Article   \n",
       "\n",
       "                                doi      pmid       pmcid issn eissn  \\\n",
       "0            10.3934/krm.2015.8.615                                    \n",
       "1        10.1037/0012-1649.40.4.595  15238046                          \n",
       "2         10.1007/s10461-012-0163-8  22323006  PMC3471653              \n",
       "3             10.1002/mc.2940130304   7619217                          \n",
       "4  10.1016/j.drugalcdep.2014.09.265                                    \n",
       "\n",
       "                                          authorList book chapter  ... number  \\\n",
       "0  Nguyen, Toan T., Nguyen, Truyen V., Strauss, W...               ...          \n",
       "1                                            Li, Jin               ...          \n",
       "2  Brown JL, Sales JM, DiClemente RJ, Salazar LF,...               ...          \n",
       "3   Sears WL, Goto-Mandeville R, Mirapuri M, Braun L               ...          \n",
       "4  Graves, Hannah, Hernandez, Lynn, Kahler, Chris...               ...          \n",
       "\n",
       "       pages patentNumber                 publishedIn reviewOf title url  \\\n",
       "0    615-616               Kinetic and Related Models                      \n",
       "1    595-605                                                               \n",
       "2   1491-500                                                               \n",
       "3     146-56                                                               \n",
       "4  e127-e128                                                               \n",
       "\n",
       "  venueFor version volume  \n",
       "0                       8  \n",
       "1                      40  \n",
       "2                      16  \n",
       "3                      13  \n",
       "4                     146  \n",
       "\n",
       "[5 rows x 34 columns]"
      ]
     },
     "execution_count": 97,
     "metadata": {},
     "output_type": "execute_result"
    }
   ],
   "source": [
    "df_cites_rab = pd.DataFrame(rab_rows)\n",
    "\n",
    "cols = df_cites_rab.columns.tolist()\n",
    "id_atts = [ 'rabid','type','doi','pmid','pmcid','issn','eissn' ]\n",
    "cols = [ c for c in cols if c not in id_atts ]\n",
    "cols = id_atts + cols\n",
    "df_cites_rab = df_cites_rab[ cols ]\n",
    "df_cites_rab.type = df_cites_rab.type.str.rsplit('#').str.get(1)\n",
    "df_cites_rab.head()"
   ]
  },
  {
   "cell_type": "code",
   "execution_count": 98,
   "metadata": {},
   "outputs": [
    {
     "data": {
      "text/plain": [
       "Article            42162\n",
       "Citation            3548\n",
       "ConferencePaper      837\n",
       "NoID                 823\n",
       "BookSection          513\n",
       "Book                 496\n",
       "Review               165\n",
       "Abstract              71\n",
       "WorkingPaper          23\n",
       "Venue                 13\n",
       "Patent                 3\n",
       "Name: type, dtype: int64"
      ]
     },
     "execution_count": 98,
     "metadata": {},
     "output_type": "execute_result"
    }
   ],
   "source": [
    "df_cites_rab.type.value_counts()"
   ]
  },
  {
   "cell_type": "code",
   "execution_count": 104,
   "metadata": {},
   "outputs": [
    {
     "name": "stdout",
     "output_type": "stream",
     "text": [
      "<class 'pandas.core.frame.DataFrame'>\n",
      "RangeIndex: 6392 entries, 0 to 6391\n",
      "Data columns (total 15 columns):\n",
      "id                    6392 non-null object\n",
      "activity_report_id    6392 non-null object\n",
      "article_type_id       6392 non-null object\n",
      "identifier            6392 non-null object\n",
      "created_at            6392 non-null object\n",
      "updated_at            6392 non-null object\n",
      "title                 6392 non-null object\n",
      "journal               6392 non-null object\n",
      "number                6392 non-null object\n",
      "volume                6392 non-null object\n",
      "date                  6392 non-null object\n",
      "coauthors             6392 non-null object\n",
      "book_status_id        6392 non-null object\n",
      "article_id_type_id    6392 non-null object\n",
      "page_numbers          6392 non-null object\n",
      "dtypes: object(15)\n",
      "memory usage: 749.2+ KB\n"
     ]
    }
   ],
   "source": [
    "df_cites_far.info()"
   ]
  },
  {
   "cell_type": "code",
   "execution_count": 102,
   "metadata": {},
   "outputs": [
    {
     "data": {
      "text/plain": [
       "1830"
      ]
     },
     "execution_count": 102,
     "metadata": {},
     "output_type": "execute_result"
    }
   ],
   "source": [
    "len(set(df_cites_rab[ (df_cites_rab.type=='Article') | (df_cites_rab.type=='Citation')].doi) & set(df_cites_far[ df_cites_far.article_id_type_id == 'DOI' ].identifier))"
   ]
  },
  {
   "cell_type": "code",
   "execution_count": 101,
   "metadata": {},
   "outputs": [
    {
     "data": {
      "text/plain": [
       "Citation           3258\n",
       "ConferencePaper     803\n",
       "Review               98\n",
       "BookSection          86\n",
       "Book                 32\n",
       "Venue                13\n",
       "Abstract             10\n",
       "WorkingPaper          3\n",
       "Name: type, dtype: int64"
      ]
     },
     "execution_count": 101,
     "metadata": {},
     "output_type": "execute_result"
    }
   ],
   "source": [
    "df_cites_rab[ (df_cites_rab.type !='Article') & (df_cites_rab.doi != '') ].type.value_counts()"
   ]
  },
  {
   "cell_type": "code",
   "execution_count": null,
   "metadata": {},
   "outputs": [],
   "source": []
  }
 ],
 "metadata": {
  "kernelspec": {
   "display_name": "Python 3",
   "language": "python",
   "name": "python3"
  },
  "language_info": {
   "codemirror_mode": {
    "name": "ipython",
    "version": 3
   },
   "file_extension": ".py",
   "mimetype": "text/x-python",
   "name": "python",
   "nbconvert_exporter": "python",
   "pygments_lexer": "ipython3",
   "version": "3.7.5"
  }
 },
 "nbformat": 4,
 "nbformat_minor": 2
}
