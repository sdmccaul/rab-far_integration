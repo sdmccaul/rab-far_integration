{
 "cells": [
  {
   "cell_type": "code",
   "execution_count": 26,
   "metadata": {},
   "outputs": [],
   "source": [
    "import pandas as pd\n",
    "from collections import namedtuple, defaultdict\n",
    "import csv"
   ]
  },
  {
   "cell_type": "code",
   "execution_count": 6,
   "metadata": {},
   "outputs": [
    {
     "data": {
      "text/plain": [
       "['http://vivo.brown.edu/ontology/citation#date',\n",
       " 'http://vivo.brown.edu/ontology/citation#volume',\n",
       " 'http://www.w3.org/1999/02/22-rdf-syntax-ns#type',\n",
       " 'http://vivo.brown.edu/ontology/citation#hasContributor',\n",
       " 'http://vitro.mannlib.cornell.edu/ns/vitro/0.7#mostSpecificType',\n",
       " 'http://vivo.brown.edu/ontology/citation#authorList',\n",
       " 'http://vivo.brown.edu/ontology/citation#pmid',\n",
       " 'http://vivo.brown.edu/ontology/citation#issue',\n",
       " 'http://vivo.brown.edu/ontology/citation#doi',\n",
       " 'http://vivo.brown.edu/ontology/citation#hasVenue',\n",
       " 'http://vivo.brown.edu/ontology/citation#pages',\n",
       " 'http://www.w3.org/2000/01/rdf-schema#label',\n",
       " 'http://vivo.brown.edu/ontology/citation#pmcid',\n",
       " 'http://vivo.brown.edu/ontology/citation#issn',\n",
       " 'http://vivo.brown.edu/ontology/citation#venueFor',\n",
       " 'http://vivo.brown.edu/ontology/citation#eissn',\n",
       " 'http://vivo.brown.edu/ontology/citation#publishedIn',\n",
       " 'http://vivo.brown.edu/ontology/citation#book',\n",
       " 'http://vivo.brown.edu/ontology/citation#hasLocation',\n",
       " 'http://vivo.brown.edu/ontology/citation#editorList',\n",
       " 'http://vivo.brown.edu/ontology/citation#chapter',\n",
       " 'http://vivo.brown.edu/ontology/citation#hasPublisher',\n",
       " 'http://vivo.brown.edu/ontology/citation#isbn',\n",
       " 'http://vivo.brown.edu/ontology/citation#url',\n",
       " 'http://vivo.brown.edu/ontology/citation#hasConferenceLocation',\n",
       " 'http://vivo.brown.edu/ontology/citation#conferenceDate',\n",
       " 'http://vivo.brown.edu/ontology/citation#hasConference',\n",
       " 'http://vivo.brown.edu/ontology/citation#reviewOf',\n",
       " 'http://vivo.brown.edu/ontology/citation#title',\n",
       " 'http://vivo.brown.edu/ontology/citation#number',\n",
       " 'http://vivo.brown.edu/ontology/citation#version',\n",
       " 'http://vivo.brown.edu/ontology/citation#hasAssignee',\n",
       " 'http://vivo.brown.edu/ontology/citation#hasCountry',\n",
       " 'http://vivo.brown.edu/ontology/citation#hasAuthority',\n",
       " 'http://vivo.brown.edu/ontology/citation#patentNumber',\n",
       " 'http://vitro.mannlib.cornell.edu/ns/vitro/public#filename',\n",
       " 'http://vitro.mannlib.cornell.edu/ns/vitro/public#downloadLocation',\n",
       " 'http://vitro.mannlib.cornell.edu/ns/vitro/public#modTime',\n",
       " 'http://vitro.mannlib.cornell.edu/ns/vitro/public#mimeType']"
      ]
     },
     "execution_count": 6,
     "metadata": {},
     "output_type": "execute_result"
    }
   ],
   "source": [
    "with open('data/cite_properties.csv') as f:\n",
    "    data = f.readlines()\n",
    "    # skip header, strip trailing whitespace\n",
    "    cite_props = [ d.strip() for d in data[1:] ]\n",
    "\n",
    "cite_props"
   ]
  },
  {
   "cell_type": "code",
   "execution_count": 27,
   "metadata": {},
   "outputs": [
    {
     "data": {
      "text/plain": [
       "dict_values(['date', 'volume', 'hasContributor', 'authorList', 'pmid', 'issue', 'doi', 'hasVenue', 'pages', 'pmcid', 'issn', 'venueFor', 'eissn', 'publishedIn', 'book', 'hasLocation', 'editorList', 'chapter', 'hasPublisher', 'isbn', 'url', 'hasConferenceLocation', 'conferenceDate', 'hasConference', 'reviewOf', 'title', 'number', 'version', 'hasAssignee', 'hasCountry', 'hasAuthority', 'patentNumber', 'rabid'])"
      ]
     },
     "execution_count": 27,
     "metadata": {},
     "output_type": "execute_result"
    }
   ],
   "source": [
    "cite_prop_map = { c: c[40:] for c in cite_props if c.startswith('http://vivo.brown.edu/ontology/citation#') }\n",
    "cite_prop_map['rabid'] = 'rabid'\n",
    "cite_prop_map.values()"
   ]
  },
  {
   "cell_type": "code",
   "execution_count": 34,
   "metadata": {},
   "outputs": [],
   "source": [
    "RABCitation = namedtuple('RABCitation', cite_prop_map.values())"
   ]
  },
  {
   "cell_type": "code",
   "execution_count": 14,
   "metadata": {},
   "outputs": [],
   "source": [
    "with open('data/cite_data.nt') as f:\n",
    "    data = f.readlines()"
   ]
  },
  {
   "cell_type": "code",
   "execution_count": 24,
   "metadata": {},
   "outputs": [],
   "source": [
    "def parse_triple(rawRow):\n",
    "    s,p,o = rawRow.split(' ',maxsplit=2)\n",
    "    s = s.strip('<>')\n",
    "    p = p.strip('<>')\n",
    "    o = o.strip(' .\\n')\n",
    "    return (s,p,o)"
   ]
  },
  {
   "cell_type": "code",
   "execution_count": 25,
   "metadata": {},
   "outputs": [
    {
     "data": {
      "text/plain": [
       "('http://vivo.brown.edu/individual/n5c6cae127059414ca258636cd3dc482b',\n",
       " 'http://www.w3.org/2000/01/rdf-schema#label',\n",
       " '\"Erratum to: Global magnetic confinement for the 1.5D Vlasov-Maxwell system\"')"
      ]
     },
     "execution_count": 25,
     "metadata": {},
     "output_type": "execute_result"
    }
   ],
   "source": [
    "cite_triples = []\n",
    "for t in data:\n",
    "    cite_triples.append(parse_triple(t))\n",
    "\n",
    "cite_triples[0]"
   ]
  },
  {
   "cell_type": "code",
   "execution_count": 35,
   "metadata": {},
   "outputs": [
    {
     "ename": "TypeError",
     "evalue": "__new__() missing 23 required positional arguments: 'pmid', 'pmcid', 'issn', 'venueFor', 'eissn', 'book', 'hasLocation', 'editorList', 'chapter', 'hasPublisher', 'isbn', 'url', 'hasConferenceLocation', 'conferenceDate', 'hasConference', 'reviewOf', 'title', 'number', 'version', 'hasAssignee', 'hasCountry', 'hasAuthority', and 'patentNumber'",
     "output_type": "error",
     "traceback": [
      "\u001b[0;31m---------------------------------------------------------------------------\u001b[0m",
      "\u001b[0;31mTypeError\u001b[0m                                 Traceback (most recent call last)",
      "\u001b[0;32m<ipython-input-35-6dc32a85aef4>\u001b[0m in \u001b[0;36m<module>\u001b[0;34m\u001b[0m\n\u001b[1;32m      8\u001b[0m     \u001b[0mdata\u001b[0m \u001b[0;34m=\u001b[0m \u001b[0mcite_dicts\u001b[0m\u001b[0;34m[\u001b[0m\u001b[0mc\u001b[0m\u001b[0;34m]\u001b[0m\u001b[0;34m\u001b[0m\u001b[0;34m\u001b[0m\u001b[0m\n\u001b[1;32m      9\u001b[0m     \u001b[0mdata\u001b[0m\u001b[0;34m[\u001b[0m\u001b[0;34m'rabid'\u001b[0m\u001b[0;34m]\u001b[0m \u001b[0;34m=\u001b[0m \u001b[0mc\u001b[0m\u001b[0;34m\u001b[0m\u001b[0;34m\u001b[0m\u001b[0m\n\u001b[0;32m---> 10\u001b[0;31m     \u001b[0mrab_rows\u001b[0m\u001b[0;34m.\u001b[0m\u001b[0mappend\u001b[0m\u001b[0;34m(\u001b[0m\u001b[0mRABCitation\u001b[0m\u001b[0;34m(\u001b[0m\u001b[0;34m**\u001b[0m\u001b[0mdata\u001b[0m\u001b[0;34m)\u001b[0m\u001b[0;34m)\u001b[0m\u001b[0;34m\u001b[0m\u001b[0;34m\u001b[0m\u001b[0m\n\u001b[0m\u001b[1;32m     11\u001b[0m \u001b[0;34m\u001b[0m\u001b[0m\n\u001b[1;32m     12\u001b[0m \u001b[0mrab_rows\u001b[0m\u001b[0;34m[\u001b[0m\u001b[0;34m:\u001b[0m\u001b[0;36m10\u001b[0m\u001b[0;34m]\u001b[0m\u001b[0;34m\u001b[0m\u001b[0;34m\u001b[0m\u001b[0m\n",
      "\u001b[0;31mTypeError\u001b[0m: __new__() missing 23 required positional arguments: 'pmid', 'pmcid', 'issn', 'venueFor', 'eissn', 'book', 'hasLocation', 'editorList', 'chapter', 'hasPublisher', 'isbn', 'url', 'hasConferenceLocation', 'conferenceDate', 'hasConference', 'reviewOf', 'title', 'number', 'version', 'hasAssignee', 'hasCountry', 'hasAuthority', and 'patentNumber'"
     ]
    }
   ],
   "source": [
    "cite_dicts = defaultdict(dict)\n",
    "for t in cite_triples:\n",
    "    if t[1] in cite_prop_map:\n",
    "        cite_dicts[t[0]][cite_prop_map[t[1]]] = t[2]\n",
    "\n",
    "empty_row = { cite_prop_map[p]: '' for }\n",
    "rab_rows = []\n",
    "for c in cite_dicts:\n",
    "    data = cite_dicts[c]\n",
    "    data['rabid'] = c\n",
    "    row = { citep: '' for }\n",
    "    rab_rows.append(RABCitation(**data))\n",
    "\n",
    "rab_rows[:10]"
   ]
  },
  {
   "cell_type": "code",
   "execution_count": null,
   "metadata": {},
   "outputs": [],
   "source": []
  }
 ],
 "metadata": {
  "kernelspec": {
   "display_name": "Python 3",
   "language": "python",
   "name": "python3"
  },
  "language_info": {
   "codemirror_mode": {
    "name": "ipython",
    "version": 3
   },
   "file_extension": ".py",
   "mimetype": "text/x-python",
   "name": "python",
   "nbconvert_exporter": "python",
   "pygments_lexer": "ipython3",
   "version": "3.7.5"
  }
 },
 "nbformat": 4,
 "nbformat_minor": 2
}
