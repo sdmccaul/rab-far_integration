{
 "cells": [
  {
   "cell_type": "markdown",
   "metadata": {},
   "source": [
    "# FAR-VIVO Citation Data Analysis"
   ]
  },
  {
   "cell_type": "code",
   "execution_count": 2,
   "metadata": {},
   "outputs": [],
   "source": [
    "import csv\n",
    "\n",
    "import requests\n",
    "import pandas as pd\n",
    "\n",
    "from collections import namedtuple, defaultdict\n",
    "from functools import reduce\n",
    "\n",
    "vprod = %env VIVO_PRODUCTION\n",
    "vstage = %env VIVO_STAGING\n",
    "vuser = %env VIVO_USER\n",
    "vpass = %env VIVO_PASSWORD"
   ]
  },
  {
   "cell_type": "markdown",
   "metadata": {},
   "source": [
    "## Contents\n",
    "* [Acquire](#Acquire)\n",
    "* [Load FAR Data](#FAR-Publication-Data)\n",
    "* [Load VIVO Data](#VIVO-Data)"
   ]
  },
  {
   "cell_type": "markdown",
   "metadata": {},
   "source": [
    "# Acquire\n",
    "[back](#Contents)"
   ]
  },
  {
   "cell_type": "code",
   "execution_count": 2,
   "metadata": {},
   "outputs": [],
   "source": [
    "def get_citation_properties(endpoint):\n",
    "    query = \"\"\"\n",
    "    SELECT DISTINCT ?prop\n",
    "    WHERE {{\n",
    "        ?cite a <http://vivo.brown.edu/ontology/citation#Citation> .\n",
    "        ?cite ?prop ?o.\n",
    "    }}\n",
    "    \"\"\"\n",
    "    data = { 'email': vuser, 'password': vpass, 'query': query }\n",
    "    headers = { 'Accept': 'text/csv', 'charset': 'utf-8' }\n",
    "    resp = requests.post(endpoint, data=data, headers=headers)\n",
    "    if resp.status_code == 200:\n",
    "        return resp.text\n",
    "    else:\n",
    "        print(resp.text)\n",
    "        return False"
   ]
  },
  {
   "cell_type": "code",
   "execution_count": 3,
   "metadata": {},
   "outputs": [],
   "source": [
    "with open('data/rab/query_properties.csv','w+') as f:\n",
    "    f.write(get_citation_properties(vstage))"
   ]
  },
  {
   "cell_type": "code",
   "execution_count": 4,
   "metadata": {},
   "outputs": [],
   "source": [
    "def get_citation_data(endpoint):\n",
    "    query = \"\"\"\n",
    "    DESCRIBE ?cite\n",
    "    WHERE {{ ?cite a <http://vivo.brown.edu/ontology/citation#Citation> .}}\n",
    "    \"\"\"\n",
    "    data = { 'email': vuser, 'password': vpass, 'query': query }\n",
    "    headers = { 'Accept': 'text/plain', 'charset': 'utf-8' }\n",
    "    resp = requests.post(endpoint, data=data, headers=headers)\n",
    "    if resp.status_code == 200:\n",
    "        return resp.text\n",
    "    else:\n",
    "        print(resp.text)\n",
    "        return False"
   ]
  },
  {
   "cell_type": "code",
   "execution_count": 5,
   "metadata": {},
   "outputs": [],
   "source": [
    "with open('data/rab/query_citations.nt', 'w+') as f:\n",
    "    f.write(get_citation_data(vstage))"
   ]
  },
  {
   "cell_type": "markdown",
   "metadata": {},
   "source": [
    "## FAR Publication Data\n",
    "[back](#Contents)"
   ]
  },
  {
   "cell_type": "code",
   "execution_count": 6,
   "metadata": {},
   "outputs": [],
   "source": [
    "with open('data/far/articles.csv') as f:\n",
    "    rdr = csv.reader(f, escapechar='\\\\')\n",
    "    far_arts_header = next(rdr)\n",
    "    fin_far_arts = [ r for r in rdr ]\n",
    "df_articles_far = pd.DataFrame(fin_far_arts, columns=far_arts_header)"
   ]
  },
  {
   "cell_type": "code",
   "execution_count": 7,
   "metadata": {},
   "outputs": [],
   "source": [
    "with open('data/far/books.csv') as f:\n",
    "    rdr = csv.reader(f, escapechar='\\\\')\n",
    "    far_books_header = next(rdr)\n",
    "    fin_far_books = [ r for r in rdr ]\n",
    "df_books_far = pd.DataFrame(fin_far_books, columns=far_books_header)"
   ]
  },
  {
   "cell_type": "code",
   "execution_count": 8,
   "metadata": {},
   "outputs": [],
   "source": [
    "with open('data/far/chapters.csv') as f:\n",
    "    rdr = csv.reader(f, escapechar='\\\\')\n",
    "    far_chapters_header = next(rdr)\n",
    "    fin_far_chapters = [ r for r in rdr ]\n",
    "df_chaps_far = pd.DataFrame(fin_far_chapters, columns=far_chapters_header)"
   ]
  },
  {
   "cell_type": "code",
   "execution_count": 9,
   "metadata": {},
   "outputs": [],
   "source": [
    "with open('data/far/critical_reviews.csv') as f:\n",
    "    rdr = csv.reader(f, escapechar='\\\\')\n",
    "    far_revs_header = next(rdr)\n",
    "    fin_far_revs = [ r for r in rdr ]\n",
    "df_revs_far = pd.DataFrame(fin_far_revs, columns=far_revs_header)"
   ]
  },
  {
   "cell_type": "code",
   "execution_count": 10,
   "metadata": {},
   "outputs": [],
   "source": [
    "with open('data/far/papers.csv') as f:\n",
    "    rdr = csv.reader(f, escapechar='\\\\')\n",
    "    far_papers_header = next(rdr)\n",
    "    fin_far_papers = [ r for r in rdr ]\n",
    "df_papers_far = pd.DataFrame(fin_far_papers, columns=far_papers_header)"
   ]
  },
  {
   "cell_type": "code",
   "execution_count": 11,
   "metadata": {},
   "outputs": [],
   "source": [
    "with open('data/far/patents.csv') as f:\n",
    "    rdr = csv.reader(f, escapechar='\\\\')\n",
    "    far_patents_header = next(rdr)\n",
    "    fin_far_patents = [ r for r in rdr ]\n",
    "df_patents_far = pd.DataFrame(fin_far_patents, columns=far_patents_header)"
   ]
  },
  {
   "cell_type": "code",
   "execution_count": 12,
   "metadata": {},
   "outputs": [],
   "source": [
    "with open('data/far/ph_abstracts.csv') as f:\n",
    "    rdr = csv.reader(f, escapechar='\\\\')\n",
    "    far_abst_header = next(rdr)\n",
    "    fin_far_abst = [ r for r in rdr ]\n",
    "df_abst_far = pd.DataFrame(fin_far_abst, columns=far_abst_header)"
   ]
  },
  {
   "cell_type": "code",
   "execution_count": 13,
   "metadata": {},
   "outputs": [
    {
     "name": "stdout",
     "output_type": "stream",
     "text": [
      "Abstracts: 314\n",
      "Columns:\n",
      "\tid\n",
      "\tactivity_report_id\n",
      "\tpresentation_type_id\n",
      "\tconference\n",
      "\tcoauthors\n",
      "\ttitle\n",
      "\tabstract_date\n",
      "\tcreated_at\n",
      "\tupdated_at\n",
      "Sample:\n",
      "\t2 | 530 | CO | CROI (Conference on Retroviruses and Opportunistic Infections) | Agaba P, Genberg BL, Sagay S, Agbaji O, Dadem N, Kolawole G, Okonkwo P, Meloni S, Kanki P, Ware N. | Retention in a decentralized HIV care and treatment program in north central Nigeria.  | 2015-02-25 | 2016-01-19 15:57:00 | 2016-01-19 15:57:16\n",
      "\n",
      "----------------------------------------------------------------------------------------------------\n",
      "\n",
      "Articles: 6392\n",
      "Columns:\n",
      "\tid\n",
      "\tactivity_report_id\n",
      "\tarticle_type_id\n",
      "\tidentifier\n",
      "\tcreated_at\n",
      "\tupdated_at\n",
      "\ttitle\n",
      "\tjournal\n",
      "\tnumber\n",
      "\tvolume\n",
      "\tdate\n",
      "\tcoauthors\n",
      "\tbook_status_id\n",
      "\tarticle_id_type_id\n",
      "\tpage_numbers\n",
      "Sample:\n",
      "\t6 | 15 | PEER | 10.1117/1.nph.2.3.031202 | 2016-01-07 16:51:12 | 2016-01-07 16:51:12 | Modified toolbox for optogenetics in the nonhuman primate | Neurophotonics | 3 | 2 | 2015-05-29 | Dai, Ji and Ozden, Ilker and Brooks, Daniel I. and Wagner, Fabien and May, Travis and Agha, Naubahar S. and Brush, Benjamin and Borton, David and Nurmikko, Arto V. and Sheinberg, David L. | PUB | DOI | 031202\n",
      "\n",
      "----------------------------------------------------------------------------------------------------\n",
      "\n",
      "Books: 467\n",
      "Columns:\n",
      "\tid\n",
      "\tactivity_report_id\n",
      "\tbook_type_id\n",
      "\tbook_status_id\n",
      "\ttitle\n",
      "\tpress\n",
      "\tcoauthors\n",
      "\tdoi\n",
      "\tcreated_at\n",
      "\tupdated_at\n",
      "\tbook_role_id\n",
      "Sample:\n",
      "\t3 | 535 | MONO | PUB | From Slavery to the Cooperative Commonwealth: Labor and Republican Liberty in the Nineteenth Century | Cambridge University Press |  |  | 2016-01-07 17:52:20 | 2016-01-07 17:52:20 | SINGLE\n",
      "\n",
      "----------------------------------------------------------------------------------------------------\n",
      "\n",
      "Chapters: 1012\n",
      "Columns:\n",
      "\tid\n",
      "\tactivity_report_id\n",
      "\ttitle\n",
      "\tbook_title\n",
      "\tpress\n",
      "\teditor\n",
      "\tbook_status_id\n",
      "\tcreated_at\n",
      "\tupdated_at\n",
      "\tdoi\n",
      "\tcoauthors\n",
      "Sample:\n",
      "\t3 | 25 | Significance Evaluation | Encyclopedia of Computational Neuroscience | Springer Science + Business Media |  | PUB | 2016-01-07 17:06:28 | 2016-01-07 17:06:28 | 10.1007/978-1-4614-6675-8_404 | \n",
      "\n",
      "----------------------------------------------------------------------------------------------------\n",
      "\n",
      "Papers: 1371\n",
      "Columns:\n",
      "\tid\n",
      "\tactivity_report_id\n",
      "\tconference\n",
      "\ttitle\n",
      "\tpaper_date\n",
      "\tcreated_at\n",
      "\tupdated_at\n",
      "Sample:\n",
      "\t1 | 1296 | APSA 2016 | Territory and the IT Revolution: Drones and Territorial Governance | 2016-09-01 | 2017-01-05 16:51:58 | 2017-01-05 16:51:58\n",
      "\n",
      "----------------------------------------------------------------------------------------------------\n",
      "\n",
      "Patents: 96\n",
      "Columns:\n",
      "\tid\n",
      "\tactivity_report_id\n",
      "\tpatent_status_id\n",
      "\tpatent_number\n",
      "\tpatent_title\n",
      "\tcoauthors\n",
      "\tpatent_date\n",
      "\tcreated_at\n",
      "\tupdated_at\n",
      "Sample:\n",
      "\t4 | 718 | PENDING | 62/232,183 | TREATMENT OF DISEASE BY REDUCING APOB EXPRESSION | N/A | 2015-09-24 | 2016-01-09 01:01:30 | 2016-01-09 01:01:30\n",
      "\n",
      "----------------------------------------------------------------------------------------------------\n",
      "\n",
      "Reviews: 37\n",
      "Columns:\n",
      "\tid\n",
      "\tactivity_report_id\n",
      "\tauthor\n",
      "\ttitle\n",
      "\tjournal\n",
      "\treview_date\n",
      "\tcreated_at\n",
      "\tupdated_at\n",
      "\tother\n",
      "Sample:\n",
      "\t1 | 1132 | Multiple | many reviews of Neruda and Yoshimasu translations & reviews of La Trace (in French) available on my website | The Washington Post, The Hindu, NPR interview, NYTimes Arts Beat, Publishers Weekly, Library Journal, Boston Globe  | 2016-09-01T07:00:00.000Z | 2017-01-10 14:04:42 | 2017-01-10 15:00:20 | N\n",
      "\n",
      "----------------------------------------------------------------------------------------------------\n",
      "\n"
     ]
    }
   ],
   "source": [
    "far_dfs = [ df_abst_far, df_articles_far, df_books_far, df_chaps_far,\n",
    "           df_papers_far, df_patents_far, df_revs_far]\n",
    "far_types = ['Abstracts', 'Articles', 'Books', 'Chapters', 'Papers', 'Patents', 'Reviews' ]\n",
    "for e, df in enumerate(far_dfs):\n",
    "    print(\"{}: {}\".format(far_types[e], df.shape[0]))\n",
    "    print(\"Columns:\\n\\t{}\".format('\\n\\t'.join(df.columns)))\n",
    "    print(\"Sample:\\n\\t{}\".format(' | '.join(df.iloc[0].values)))\n",
    "    print(\"\\n\" + '-'*100 + '\\n')"
   ]
  },
  {
   "cell_type": "markdown",
   "metadata": {},
   "source": [
    "## VIVO Data\n",
    "[back](#Contents)"
   ]
  },
  {
   "cell_type": "code",
   "execution_count": 3,
   "metadata": {},
   "outputs": [],
   "source": [
    "with open('data/rab/query_properties.csv') as f:\n",
    "    data = f.readlines()\n",
    "    # skip header, strip trailing whitespace\n",
    "    fin_cite_props = [ d.strip() for d in data[1:] ]"
   ]
  },
  {
   "cell_type": "code",
   "execution_count": 4,
   "metadata": {},
   "outputs": [],
   "source": [
    "with open('data/rab/query_citations.nt') as f:\n",
    "    fin_rab_cites = f.readlines()"
   ]
  },
  {
   "cell_type": "code",
   "execution_count": 5,
   "metadata": {},
   "outputs": [
    {
     "data": {
      "text/plain": [
       "dict_values(['date', 'volume', 'hasContributor', 'authorList', 'pmid', 'issue', 'doi', 'hasVenue', 'pages', 'pmcid', 'publishedIn', 'book', 'hasLocation', 'editorList', 'chapter', 'hasPublisher', 'isbn', 'url', 'hasConferenceLocation', 'conferenceDate', 'hasConference', 'issn', 'reviewOf', 'title', 'number', 'version', 'hasAssignee', 'hasCountry', 'hasAuthority', 'patentNumber', 'venueFor', 'rabid', 'type'])"
      ]
     },
     "execution_count": 5,
     "metadata": {},
     "output_type": "execute_result"
    }
   ],
   "source": [
    "cite_prop_map = { c: c[40:] for c in fin_cite_props if c.startswith('http://vivo.brown.edu/ontology/citation#') }\n",
    "cite_prop_map['rabid'] = 'rabid'\n",
    "cite_prop_map['http://vitro.mannlib.cornell.edu/ns/vitro/0.7#mostSpecificType'] = 'type'\n",
    "cite_prop_map.values()"
   ]
  },
  {
   "cell_type": "code",
   "execution_count": 6,
   "metadata": {},
   "outputs": [],
   "source": [
    "RABCitation = namedtuple('RABCitation', sorted(cite_prop_map.values()))"
   ]
  },
  {
   "cell_type": "code",
   "execution_count": 7,
   "metadata": {},
   "outputs": [],
   "source": [
    "def clean_data_prop(oData):\n",
    "    return oData.rsplit('\"^^<http://www.w3.org/2001/XMLSchema#', maxsplit=1)[0].strip('\\\"\\n .<>')"
   ]
  },
  {
   "cell_type": "code",
   "execution_count": 8,
   "metadata": {},
   "outputs": [],
   "source": [
    "def parse_triple(rawRow):\n",
    "    s,p,o = rawRow.split(' ',maxsplit=2)\n",
    "    s = s.strip('<>')\n",
    "    p = p.strip('<>')\n",
    "    o = clean_data_prop(o)\n",
    "    return (s,p,o)"
   ]
  },
  {
   "cell_type": "code",
   "execution_count": 9,
   "metadata": {},
   "outputs": [
    {
     "data": {
      "text/plain": [
       "('http://vivo.brown.edu/individual/n5c6cae127059414ca258636cd3dc482b',\n",
       " 'http://www.w3.org/2000/01/rdf-schema#label',\n",
       " 'Erratum to: Global magnetic confinement for the 1.5D Vlasov-Maxwell system')"
      ]
     },
     "execution_count": 9,
     "metadata": {},
     "output_type": "execute_result"
    }
   ],
   "source": [
    "cite_triples = []\n",
    "for t in fin_rab_cites:\n",
    "    cite_triples.append(parse_triple(t))\n",
    "\n",
    "cite_triples[0]"
   ]
  },
  {
   "cell_type": "code",
   "execution_count": 10,
   "metadata": {},
   "outputs": [
    {
     "name": "stdout",
     "output_type": "stream",
     "text": [
      "With NoID:  ['http://vivo.brown.edu/ontology/citation#Citation']\n",
      "With NoID:  ['http://vivo.brown.edu/ontology/citation#Abstract']\n",
      "With NoID:  ['http://vivo.brown.edu/ontology/citation#Book']\n",
      "With NoID:  ['http://vivo.brown.edu/ontology/citation#ConferencePaper']\n",
      "With NoID:  ['http://vivo.brown.edu/ontology/citation#Review']\n",
      "With NoID:  ['http://vivo.brown.edu/ontology/citation#Patent']\n",
      "With NoID:  ['http://vivo.brown.edu/ontology/citation#Article']\n",
      "With NoID:  ['http://vivo.brown.edu/ontology/citation#BookSection']\n",
      "With NoID:  ['http://vivo.brown.edu/ontology/citation#WorkingPaper']\n"
     ]
    }
   ],
   "source": [
    "# Analyzing citations with more than 1 most specific type\n",
    "\n",
    "no_ids = [ c for c in cite_triples\n",
    "          if c[1] == 'http://vitro.mannlib.cornell.edu/ns/vitro/0.7#mostSpecificType' \n",
    "          and c[2] == 'http://vivo.brown.edu/ontology/citation#NoID' ]\n",
    "msts = defaultdict(set)\n",
    "for c in cite_triples:\n",
    "    if c[1] == 'http://vitro.mannlib.cornell.edu/ns/vitro/0.7#mostSpecificType':\n",
    "        msts[c[0]].add(c[2])\n",
    "mlts = set()\n",
    "for m,v in msts.items():\n",
    "    if len(v) != 1:\n",
    "        mlts.add(frozenset(v))\n",
    "\n",
    "no_id = 'http://vivo.brown.edu/ontology/citation#NoID'        \n",
    "for m in mlts:\n",
    "    if no_id in m:\n",
    "        print(\"With NoID: \", [ a for a in m if a != no_id])\n",
    "    else:\n",
    "        print(\"Redundant types: \". sorted(list(m)))"
   ]
  },
  {
   "cell_type": "code",
   "execution_count": 11,
   "metadata": {},
   "outputs": [],
   "source": [
    "def triple_match(triple, prop=None, obj=None):\n",
    "    if prop and obj:\n",
    "        return triple[1] == prop and triple[2] == obj\n",
    "    if prop:\n",
    "        return triple[1] == prop\n",
    "    if obj:\n",
    "        return triple[2] == obj\n",
    "    return True"
   ]
  },
  {
   "cell_type": "code",
   "execution_count": 12,
   "metadata": {},
   "outputs": [],
   "source": [
    "def filter_mst_no_id(triple):\n",
    "    return not triple_match(triple,\n",
    "                            'http://vitro.mannlib.cornell.edu/ns/vitro/0.7#mostSpecificType',\n",
    "                            'http://vivo.brown.edu/ontology/citation#NoID')\n",
    "\n",
    "good_triple = ('foo', 'http://vitro.mannlib.cornell.edu/ns/vitro/0.7#mostSpecificType', 'bar')\n",
    "bad_triple = ('foo', 'http://vitro.mannlib.cornell.edu/ns/vitro/0.7#mostSpecificType',\n",
    "              'http://vivo.brown.edu/ontology/citation#NoID')\n",
    "assert filter_mst_no_id(good_triple) == True\n",
    "assert filter_mst_no_id(bad_triple) == False"
   ]
  },
  {
   "cell_type": "code",
   "execution_count": 13,
   "metadata": {},
   "outputs": [],
   "source": [
    "strip_msts = [ t for t in cite_triples if filter_mst_no_id(t) ]"
   ]
  },
  {
   "cell_type": "code",
   "execution_count": 14,
   "metadata": {},
   "outputs": [],
   "source": [
    "cite_dicts = defaultdict(dict)\n",
    "for t in strip_msts:\n",
    "    if t[1] in cite_prop_map:\n",
    "        cite_dicts[t[0]][cite_prop_map[t[1]]] = t[2]"
   ]
  },
  {
   "cell_type": "code",
   "execution_count": 15,
   "metadata": {},
   "outputs": [
    {
     "name": "stdout",
     "output_type": "stream",
     "text": [
      "RABCitation(authorList='Nguyen, Toan T., Nguyen, Truyen V., Strauss, Walter A', book='', chapter='', conferenceDate='', date='2015-06-01', doi='10.3934/krm.2015.8.615', editorList='', hasAssignee='', hasAuthority='', hasConference='', hasConferenceLocation='', hasContributor='http://vivo.brown.edu/individual/wstrauss', hasCountry='', hasLocation='', hasPublisher='', hasVenue='http://vivo.brown.edu/individual/n6086eb8fe7824cad9423547d403a958d', isbn='', issn='', issue='3', number='', pages='615-616', patentNumber='', pmcid='', pmid='', publishedIn='Kinetic and Related Models', rabid='http://vivo.brown.edu/individual/n5c6cae127059414ca258636cd3dc482b', reviewOf='', title='', type='http://vivo.brown.edu/ontology/citation#Article', url='', venueFor='', version='', volume='8')\n"
     ]
    }
   ],
   "source": [
    "empty_row = { cite_prop_map[p]: '' for p in cite_prop_map }\n",
    "rab_rows = []\n",
    "for c in cite_dicts:\n",
    "    d = cite_dicts[c]\n",
    "    d['rabid'] = c\n",
    "    row = empty_row.copy()\n",
    "    row.update(d)\n",
    "    rab_rows.append(RABCitation(**row))\n",
    "\n",
    "print(rab_rows[0])"
   ]
  },
  {
   "cell_type": "code",
   "execution_count": 16,
   "metadata": {},
   "outputs": [
    {
     "data": {
      "text/html": [
       "<div>\n",
       "<style scoped>\n",
       "    .dataframe tbody tr th:only-of-type {\n",
       "        vertical-align: middle;\n",
       "    }\n",
       "\n",
       "    .dataframe tbody tr th {\n",
       "        vertical-align: top;\n",
       "    }\n",
       "\n",
       "    .dataframe thead th {\n",
       "        text-align: right;\n",
       "    }\n",
       "</style>\n",
       "<table border=\"1\" class=\"dataframe\">\n",
       "  <thead>\n",
       "    <tr style=\"text-align: right;\">\n",
       "      <th></th>\n",
       "      <th>rabid</th>\n",
       "      <th>type</th>\n",
       "      <th>doi</th>\n",
       "      <th>pmid</th>\n",
       "      <th>pmcid</th>\n",
       "      <th>issn</th>\n",
       "      <th>authorList</th>\n",
       "      <th>book</th>\n",
       "      <th>chapter</th>\n",
       "      <th>conferenceDate</th>\n",
       "      <th>...</th>\n",
       "      <th>number</th>\n",
       "      <th>pages</th>\n",
       "      <th>patentNumber</th>\n",
       "      <th>publishedIn</th>\n",
       "      <th>reviewOf</th>\n",
       "      <th>title</th>\n",
       "      <th>url</th>\n",
       "      <th>venueFor</th>\n",
       "      <th>version</th>\n",
       "      <th>volume</th>\n",
       "    </tr>\n",
       "  </thead>\n",
       "  <tbody>\n",
       "    <tr>\n",
       "      <th>0</th>\n",
       "      <td>http://vivo.brown.edu/individual/n5c6cae127059...</td>\n",
       "      <td>Article</td>\n",
       "      <td>10.3934/krm.2015.8.615</td>\n",
       "      <td></td>\n",
       "      <td></td>\n",
       "      <td></td>\n",
       "      <td>Nguyen, Toan T., Nguyen, Truyen V., Strauss, W...</td>\n",
       "      <td></td>\n",
       "      <td></td>\n",
       "      <td></td>\n",
       "      <td>...</td>\n",
       "      <td></td>\n",
       "      <td>615-616</td>\n",
       "      <td></td>\n",
       "      <td>Kinetic and Related Models</td>\n",
       "      <td></td>\n",
       "      <td></td>\n",
       "      <td></td>\n",
       "      <td></td>\n",
       "      <td></td>\n",
       "      <td>8</td>\n",
       "    </tr>\n",
       "    <tr>\n",
       "      <th>1</th>\n",
       "      <td>http://vivo.brown.edu/individual/n52747</td>\n",
       "      <td>Article</td>\n",
       "      <td>10.1037/0012-1649.40.4.595</td>\n",
       "      <td>15238046</td>\n",
       "      <td></td>\n",
       "      <td></td>\n",
       "      <td>Li, Jin</td>\n",
       "      <td></td>\n",
       "      <td></td>\n",
       "      <td></td>\n",
       "      <td>...</td>\n",
       "      <td></td>\n",
       "      <td>595-605</td>\n",
       "      <td></td>\n",
       "      <td></td>\n",
       "      <td></td>\n",
       "      <td></td>\n",
       "      <td></td>\n",
       "      <td></td>\n",
       "      <td></td>\n",
       "      <td>40</td>\n",
       "    </tr>\n",
       "    <tr>\n",
       "      <th>2</th>\n",
       "      <td>http://vivo.brown.edu/individual/n8301</td>\n",
       "      <td>Article</td>\n",
       "      <td>10.1007/s10461-012-0163-8</td>\n",
       "      <td>22323006</td>\n",
       "      <td>PMC3471653</td>\n",
       "      <td></td>\n",
       "      <td>Brown JL, Sales JM, DiClemente RJ, Salazar LF,...</td>\n",
       "      <td></td>\n",
       "      <td></td>\n",
       "      <td></td>\n",
       "      <td>...</td>\n",
       "      <td></td>\n",
       "      <td>1491-500</td>\n",
       "      <td></td>\n",
       "      <td></td>\n",
       "      <td></td>\n",
       "      <td></td>\n",
       "      <td></td>\n",
       "      <td></td>\n",
       "      <td></td>\n",
       "      <td>16</td>\n",
       "    </tr>\n",
       "    <tr>\n",
       "      <th>3</th>\n",
       "      <td>http://vivo.brown.edu/individual/n98528</td>\n",
       "      <td>Article</td>\n",
       "      <td>10.1002/mc.2940130304</td>\n",
       "      <td>7619217</td>\n",
       "      <td></td>\n",
       "      <td></td>\n",
       "      <td>Sears WL, Goto-Mandeville R, Mirapuri M, Braun L</td>\n",
       "      <td></td>\n",
       "      <td></td>\n",
       "      <td></td>\n",
       "      <td>...</td>\n",
       "      <td></td>\n",
       "      <td>146-56</td>\n",
       "      <td></td>\n",
       "      <td></td>\n",
       "      <td></td>\n",
       "      <td></td>\n",
       "      <td></td>\n",
       "      <td></td>\n",
       "      <td></td>\n",
       "      <td>13</td>\n",
       "    </tr>\n",
       "    <tr>\n",
       "      <th>4</th>\n",
       "      <td>http://vivo.brown.edu/individual/n52835</td>\n",
       "      <td>Article</td>\n",
       "      <td>10.1016/j.drugalcdep.2014.09.265</td>\n",
       "      <td></td>\n",
       "      <td></td>\n",
       "      <td></td>\n",
       "      <td>Graves, Hannah, Hernandez, Lynn, Kahler, Chris...</td>\n",
       "      <td></td>\n",
       "      <td></td>\n",
       "      <td></td>\n",
       "      <td>...</td>\n",
       "      <td></td>\n",
       "      <td>e127-e128</td>\n",
       "      <td></td>\n",
       "      <td></td>\n",
       "      <td></td>\n",
       "      <td></td>\n",
       "      <td></td>\n",
       "      <td></td>\n",
       "      <td></td>\n",
       "      <td>146</td>\n",
       "    </tr>\n",
       "  </tbody>\n",
       "</table>\n",
       "<p>5 rows × 33 columns</p>\n",
       "</div>"
      ],
      "text/plain": [
       "                                               rabid     type  \\\n",
       "0  http://vivo.brown.edu/individual/n5c6cae127059...  Article   \n",
       "1            http://vivo.brown.edu/individual/n52747  Article   \n",
       "2             http://vivo.brown.edu/individual/n8301  Article   \n",
       "3            http://vivo.brown.edu/individual/n98528  Article   \n",
       "4            http://vivo.brown.edu/individual/n52835  Article   \n",
       "\n",
       "                                doi      pmid       pmcid issn  \\\n",
       "0            10.3934/krm.2015.8.615                              \n",
       "1        10.1037/0012-1649.40.4.595  15238046                    \n",
       "2         10.1007/s10461-012-0163-8  22323006  PMC3471653        \n",
       "3             10.1002/mc.2940130304   7619217                    \n",
       "4  10.1016/j.drugalcdep.2014.09.265                              \n",
       "\n",
       "                                          authorList book chapter  \\\n",
       "0  Nguyen, Toan T., Nguyen, Truyen V., Strauss, W...                \n",
       "1                                            Li, Jin                \n",
       "2  Brown JL, Sales JM, DiClemente RJ, Salazar LF,...                \n",
       "3   Sears WL, Goto-Mandeville R, Mirapuri M, Braun L                \n",
       "4  Graves, Hannah, Hernandez, Lynn, Kahler, Chris...                \n",
       "\n",
       "  conferenceDate  ... number      pages patentNumber  \\\n",
       "0                 ...           615-616                \n",
       "1                 ...           595-605                \n",
       "2                 ...          1491-500                \n",
       "3                 ...            146-56                \n",
       "4                 ...         e127-e128                \n",
       "\n",
       "                  publishedIn reviewOf title url venueFor version volume  \n",
       "0  Kinetic and Related Models                                          8  \n",
       "1                                                                     40  \n",
       "2                                                                     16  \n",
       "3                                                                     13  \n",
       "4                                                                    146  \n",
       "\n",
       "[5 rows x 33 columns]"
      ]
     },
     "execution_count": 16,
     "metadata": {},
     "output_type": "execute_result"
    }
   ],
   "source": [
    "df_cites_rab = pd.DataFrame(rab_rows)\n",
    "\n",
    "cols = df_cites_rab.columns.tolist()\n",
    "id_atts = [ 'rabid','type','doi','pmid','pmcid','issn' ]\n",
    "cols = [ c for c in cols if c not in id_atts ]\n",
    "cols = id_atts + cols\n",
    "df_cites_rab = df_cites_rab[ cols ]\n",
    "df_cites_rab.type = df_cites_rab.type.str.rsplit('#').str.get(1)\n",
    "df_cites_rab.head()"
   ]
  },
  {
   "cell_type": "code",
   "execution_count": 17,
   "metadata": {},
   "outputs": [
    {
     "name": "stdout",
     "output_type": "stream",
     "text": [
      "<class 'pandas.core.frame.DataFrame'>\n",
      "RangeIndex: 49044 entries, 0 to 49043\n",
      "Data columns (total 33 columns):\n",
      "rabid                    49044 non-null object\n",
      "type                     49044 non-null object\n",
      "doi                      49044 non-null object\n",
      "pmid                     49044 non-null object\n",
      "pmcid                    49044 non-null object\n",
      "issn                     49044 non-null object\n",
      "authorList               49044 non-null object\n",
      "book                     49044 non-null object\n",
      "chapter                  49044 non-null object\n",
      "conferenceDate           49044 non-null object\n",
      "date                     49044 non-null object\n",
      "editorList               49044 non-null object\n",
      "hasAssignee              49044 non-null object\n",
      "hasAuthority             49044 non-null object\n",
      "hasConference            49044 non-null object\n",
      "hasConferenceLocation    49044 non-null object\n",
      "hasContributor           49044 non-null object\n",
      "hasCountry               49044 non-null object\n",
      "hasLocation              49044 non-null object\n",
      "hasPublisher             49044 non-null object\n",
      "hasVenue                 49044 non-null object\n",
      "isbn                     49044 non-null object\n",
      "issue                    49044 non-null object\n",
      "number                   49044 non-null object\n",
      "pages                    49044 non-null object\n",
      "patentNumber             49044 non-null object\n",
      "publishedIn              49044 non-null object\n",
      "reviewOf                 49044 non-null object\n",
      "title                    49044 non-null object\n",
      "url                      49044 non-null object\n",
      "venueFor                 49044 non-null object\n",
      "version                  49044 non-null object\n",
      "volume                   49044 non-null object\n",
      "dtypes: object(33)\n",
      "memory usage: 12.3+ MB\n"
     ]
    }
   ],
   "source": [
    "df_cites_rab.info()"
   ]
  },
  {
   "cell_type": "markdown",
   "metadata": {},
   "source": [
    "## 3rd-party IDs"
   ]
  },
  {
   "cell_type": "code",
   "execution_count": 18,
   "metadata": {},
   "outputs": [
    {
     "data": {
      "text/plain": [
       "Article            42700\n",
       "Citation            3708\n",
       "ConferencePaper      930\n",
       "BookSection          774\n",
       "Book                 520\n",
       "Review               245\n",
       "Abstract             128\n",
       "WorkingPaper          30\n",
       "Patent                 9\n",
       "Name: type, dtype: int64"
      ]
     },
     "execution_count": 18,
     "metadata": {},
     "output_type": "execute_result"
    }
   ],
   "source": [
    "df_cites_rab.type.value_counts()"
   ]
  },
  {
   "cell_type": "code",
   "execution_count": 22,
   "metadata": {},
   "outputs": [
    {
     "data": {
      "text/plain": [
       "46799"
      ]
     },
     "execution_count": 22,
     "metadata": {},
     "output_type": "execute_result"
    }
   ],
   "source": [
    "len(df_cites_rab[ ((df_cites_rab.pmid != '') | (df_cites_rab.doi != '')) ])"
   ]
  },
  {
   "cell_type": "code",
   "execution_count": 24,
   "metadata": {},
   "outputs": [
    {
     "data": {
      "text/plain": [
       "BookSection        678\n",
       "Article            644\n",
       "Book               461\n",
       "Abstract           118\n",
       "Review             115\n",
       "Citation           101\n",
       "ConferencePaper     92\n",
       "WorkingPaper        27\n",
       "Patent               9\n",
       "Name: type, dtype: int64"
      ]
     },
     "execution_count": 24,
     "metadata": {},
     "output_type": "execute_result"
    }
   ],
   "source": [
    "df_cites_rab[ ((df_cites_rab.pmid == '') & (df_cites_rab.doi == '')) ].type.value_counts()"
   ]
  },
  {
   "cell_type": "code",
   "execution_count": 25,
   "metadata": {},
   "outputs": [
    {
     "data": {
      "text/plain": [
       "Book           452\n",
       "BookSection    224\n",
       "Article          7\n",
       "Name: type, dtype: int64"
      ]
     },
     "execution_count": 25,
     "metadata": {},
     "output_type": "execute_result"
    }
   ],
   "source": [
    "df_cites_rab[ df_cites_rab.isbn != '' ].type.value_counts()"
   ]
  },
  {
   "cell_type": "code",
   "execution_count": 39,
   "metadata": {},
   "outputs": [
    {
     "data": {
      "text/plain": [
       "Article            42700\n",
       "Citation            3708\n",
       "ConferencePaper      930\n",
       "BookSection          774\n",
       "Book                 520\n",
       "Review               245\n",
       "Abstract             128\n",
       "WorkingPaper          30\n",
       "Patent                 9\n",
       "Name: type, dtype: int64"
      ]
     },
     "execution_count": 39,
     "metadata": {},
     "output_type": "execute_result"
    }
   ],
   "source": [
    "df_cites_rab.type.value_counts()"
   ]
  },
  {
   "cell_type": "code",
   "execution_count": 29,
   "metadata": {},
   "outputs": [
    {
     "ename": "NameError",
     "evalue": "name 'df_cites_far' is not defined",
     "output_type": "error",
     "traceback": [
      "\u001b[0;31m---------------------------------------------------------------------------\u001b[0m",
      "\u001b[0;31mNameError\u001b[0m                                 Traceback (most recent call last)",
      "\u001b[0;32m<ipython-input-29-b30c8e046b86>\u001b[0m in \u001b[0;36m<module>\u001b[0;34m\u001b[0m\n\u001b[0;32m----> 1\u001b[0;31m \u001b[0mdf_cites_far\u001b[0m\u001b[0;34m.\u001b[0m\u001b[0minfo\u001b[0m\u001b[0;34m(\u001b[0m\u001b[0;34m)\u001b[0m\u001b[0;34m\u001b[0m\u001b[0;34m\u001b[0m\u001b[0m\n\u001b[0m",
      "\u001b[0;31mNameError\u001b[0m: name 'df_cites_far' is not defined"
     ]
    }
   ],
   "source": [
    "df_cites_far.info()"
   ]
  },
  {
   "cell_type": "code",
   "execution_count": 30,
   "metadata": {},
   "outputs": [
    {
     "data": {
      "text/plain": [
       "1830"
      ]
     },
     "execution_count": 30,
     "metadata": {},
     "output_type": "execute_result"
    }
   ],
   "source": [
    "len(set(df_cites_rab[ (df_cites_rab.type=='Article') | (df_cites_rab.type=='Citation')].doi) & set(df_articles_far[ df_articles_far.article_id_type_id == 'DOI' ].identifier))"
   ]
  },
  {
   "cell_type": "code",
   "execution_count": 31,
   "metadata": {},
   "outputs": [
    {
     "data": {
      "text/plain": [
       "Citation           3361\n",
       "ConferencePaper     838\n",
       "Review              110\n",
       "BookSection          90\n",
       "Book                 32\n",
       "Abstract             10\n",
       "WorkingPaper          3\n",
       "Name: type, dtype: int64"
      ]
     },
     "execution_count": 31,
     "metadata": {},
     "output_type": "execute_result"
    }
   ],
   "source": [
    "df_cites_rab[ (df_cites_rab.type !='Article') & (df_cites_rab.doi != '') ].type.value_counts()"
   ]
  },
  {
   "cell_type": "code",
   "execution_count": 32,
   "metadata": {},
   "outputs": [
    {
     "data": {
      "text/plain": [
       "Article            42354\n",
       "Citation            3661\n",
       "ConferencePaper      882\n",
       "NoID                 843\n",
       "BookSection          528\n",
       "Book                 499\n",
       "Review               177\n",
       "Abstract              72\n",
       "WorkingPaper          24\n",
       "Patent                 4\n",
       "Name: type, dtype: int64"
      ]
     },
     "execution_count": 32,
     "metadata": {},
     "output_type": "execute_result"
    }
   ],
   "source": [
    "df_cites_rab.type.value_counts()"
   ]
  },
  {
   "cell_type": "code",
   "execution_count": null,
   "metadata": {},
   "outputs": [],
   "source": []
  }
 ],
 "metadata": {
  "kernelspec": {
   "display_name": "Python 3",
   "language": "python",
   "name": "python3"
  },
  "language_info": {
   "codemirror_mode": {
    "name": "ipython",
    "version": 3
   },
   "file_extension": ".py",
   "mimetype": "text/x-python",
   "name": "python",
   "nbconvert_exporter": "python",
   "pygments_lexer": "ipython3",
   "version": "3.7.5"
  }
 },
 "nbformat": 4,
 "nbformat_minor": 2
}
