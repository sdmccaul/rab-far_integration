{
 "cells": [
  {
   "cell_type": "markdown",
   "metadata": {},
   "source": [
    "# FAR-VIVO Citation Data Analysis"
   ]
  },
  {
   "cell_type": "code",
   "execution_count": 33,
   "metadata": {},
   "outputs": [],
   "source": [
    "import csv\n",
    "\n",
    "import pandas as pd\n",
    "\n",
    "from collections import namedtuple, defaultdict\n",
    "from functools import reduce"
   ]
  },
  {
   "cell_type": "markdown",
   "metadata": {},
   "source": [
    "## FAR Publication Data"
   ]
  },
  {
   "cell_type": "code",
   "execution_count": 34,
   "metadata": {},
   "outputs": [],
   "source": [
    "with open('data/far/articles.csv') as f:\n",
    "    rdr = csv.reader(f, escapechar='\\\\')\n",
    "    far_arts_header = next(rdr)\n",
    "    fin_far_arts = [ r for r in rdr ]\n",
    "df_articles_far = pd.DataFrame(fin_far_arts, columns=far_arts_header)"
   ]
  },
  {
   "cell_type": "code",
   "execution_count": 35,
   "metadata": {},
   "outputs": [],
   "source": [
    "with open('data/far/books.csv') as f:\n",
    "    rdr = csv.reader(f, escapechar='\\\\')\n",
    "    far_books_header = next(rdr)\n",
    "    fin_far_books = [ r for r in rdr ]\n",
    "df_books_far = pd.DataFrame(fin_far_books, columns=far_books_header)"
   ]
  },
  {
   "cell_type": "code",
   "execution_count": 36,
   "metadata": {},
   "outputs": [],
   "source": [
    "with open('data/far/chapters.csv') as f:\n",
    "    rdr = csv.reader(f, escapechar='\\\\')\n",
    "    far_chapters_header = next(rdr)\n",
    "    fin_far_chapters = [ r for r in rdr ]\n",
    "df_chaps_far = pd.DataFrame(fin_far_chapters, columns=far_chapters_header)"
   ]
  },
  {
   "cell_type": "code",
   "execution_count": 37,
   "metadata": {},
   "outputs": [],
   "source": [
    "with open('data/far/critical_reviews.csv') as f:\n",
    "    rdr = csv.reader(f, escapechar='\\\\')\n",
    "    far_revs_header = next(rdr)\n",
    "    fin_far_revs = [ r for r in rdr ]\n",
    "df_revs_far = pd.DataFrame(fin_far_revs, columns=far_revs_header)"
   ]
  },
  {
   "cell_type": "code",
   "execution_count": 38,
   "metadata": {},
   "outputs": [],
   "source": [
    "with open('data/far/papers.csv') as f:\n",
    "    rdr = csv.reader(f, escapechar='\\\\')\n",
    "    far_papers_header = next(rdr)\n",
    "    fin_far_papers = [ r for r in rdr ]\n",
    "df_papers_far = pd.DataFrame(fin_far_papers, columns=far_papers_header)"
   ]
  },
  {
   "cell_type": "code",
   "execution_count": 39,
   "metadata": {},
   "outputs": [],
   "source": [
    "with open('data/far/patents.csv') as f:\n",
    "    rdr = csv.reader(f, escapechar='\\\\')\n",
    "    far_patents_header = next(rdr)\n",
    "    fin_far_patents = [ r for r in rdr ]\n",
    "df_patents_far = pd.DataFrame(fin_far_patents, columns=far_patents_header)"
   ]
  },
  {
   "cell_type": "code",
   "execution_count": 40,
   "metadata": {},
   "outputs": [],
   "source": [
    "with open('data/far/ph_abstracts.csv') as f:\n",
    "    rdr = csv.reader(f, escapechar='\\\\')\n",
    "    far_abst_header = next(rdr)\n",
    "    fin_far_abst = [ r for r in rdr ]\n",
    "df_abst_far = pd.DataFrame(fin_far_abst, columns=far_abst_header)"
   ]
  },
  {
   "cell_type": "code",
   "execution_count": 41,
   "metadata": {},
   "outputs": [
    {
     "name": "stdout",
     "output_type": "stream",
     "text": [
      "Abstracts: 314\n",
      "Columns:\n",
      "\tid\n",
      "\tactivity_report_id\n",
      "\tpresentation_type_id\n",
      "\tconference\n",
      "\tcoauthors\n",
      "\ttitle\n",
      "\tabstract_date\n",
      "\tcreated_at\n",
      "\tupdated_at\n",
      "Sample:\n",
      "\t2 | 530 | CO | CROI (Conference on Retroviruses and Opportunistic Infections) | Agaba P, Genberg BL, Sagay S, Agbaji O, Dadem N, Kolawole G, Okonkwo P, Meloni S, Kanki P, Ware N. | Retention in a decentralized HIV care and treatment program in north central Nigeria.  | 2015-02-25 | 2016-01-19 15:57:00 | 2016-01-19 15:57:16\n",
      "\n",
      "----------------------------------------------------------------------------------------------------\n",
      "\n",
      "Articles: 6392\n",
      "Columns:\n",
      "\tid\n",
      "\tactivity_report_id\n",
      "\tarticle_type_id\n",
      "\tidentifier\n",
      "\tcreated_at\n",
      "\tupdated_at\n",
      "\ttitle\n",
      "\tjournal\n",
      "\tnumber\n",
      "\tvolume\n",
      "\tdate\n",
      "\tcoauthors\n",
      "\tbook_status_id\n",
      "\tarticle_id_type_id\n",
      "\tpage_numbers\n",
      "Sample:\n",
      "\t6 | 15 | PEER | 10.1117/1.nph.2.3.031202 | 2016-01-07 16:51:12 | 2016-01-07 16:51:12 | Modified toolbox for optogenetics in the nonhuman primate | Neurophotonics | 3 | 2 | 2015-05-29 | Dai, Ji and Ozden, Ilker and Brooks, Daniel I. and Wagner, Fabien and May, Travis and Agha, Naubahar S. and Brush, Benjamin and Borton, David and Nurmikko, Arto V. and Sheinberg, David L. | PUB | DOI | 031202\n",
      "\n",
      "----------------------------------------------------------------------------------------------------\n",
      "\n",
      "Books: 467\n",
      "Columns:\n",
      "\tid\n",
      "\tactivity_report_id\n",
      "\tbook_type_id\n",
      "\tbook_status_id\n",
      "\ttitle\n",
      "\tpress\n",
      "\tcoauthors\n",
      "\tdoi\n",
      "\tcreated_at\n",
      "\tupdated_at\n",
      "\tbook_role_id\n",
      "Sample:\n",
      "\t3 | 535 | MONO | PUB | From Slavery to the Cooperative Commonwealth: Labor and Republican Liberty in the Nineteenth Century | Cambridge University Press |  |  | 2016-01-07 17:52:20 | 2016-01-07 17:52:20 | SINGLE\n",
      "\n",
      "----------------------------------------------------------------------------------------------------\n",
      "\n",
      "Chapters: 1012\n",
      "Columns:\n",
      "\tid\n",
      "\tactivity_report_id\n",
      "\ttitle\n",
      "\tbook_title\n",
      "\tpress\n",
      "\teditor\n",
      "\tbook_status_id\n",
      "\tcreated_at\n",
      "\tupdated_at\n",
      "\tdoi\n",
      "\tcoauthors\n",
      "Sample:\n",
      "\t3 | 25 | Significance Evaluation | Encyclopedia of Computational Neuroscience | Springer Science + Business Media |  | PUB | 2016-01-07 17:06:28 | 2016-01-07 17:06:28 | 10.1007/978-1-4614-6675-8_404 | \n",
      "\n",
      "----------------------------------------------------------------------------------------------------\n",
      "\n",
      "Papers: 1371\n",
      "Columns:\n",
      "\tid\n",
      "\tactivity_report_id\n",
      "\tconference\n",
      "\ttitle\n",
      "\tpaper_date\n",
      "\tcreated_at\n",
      "\tupdated_at\n",
      "Sample:\n",
      "\t1 | 1296 | APSA 2016 | Territory and the IT Revolution: Drones and Territorial Governance | 2016-09-01 | 2017-01-05 16:51:58 | 2017-01-05 16:51:58\n",
      "\n",
      "----------------------------------------------------------------------------------------------------\n",
      "\n",
      "Patents: 96\n",
      "Columns:\n",
      "\tid\n",
      "\tactivity_report_id\n",
      "\tpatent_status_id\n",
      "\tpatent_number\n",
      "\tpatent_title\n",
      "\tcoauthors\n",
      "\tpatent_date\n",
      "\tcreated_at\n",
      "\tupdated_at\n",
      "Sample:\n",
      "\t4 | 718 | PENDING | 62/232,183 | TREATMENT OF DISEASE BY REDUCING APOB EXPRESSION | N/A | 2015-09-24 | 2016-01-09 01:01:30 | 2016-01-09 01:01:30\n",
      "\n",
      "----------------------------------------------------------------------------------------------------\n",
      "\n",
      "Reviews: 37\n",
      "Columns:\n",
      "\tid\n",
      "\tactivity_report_id\n",
      "\tauthor\n",
      "\ttitle\n",
      "\tjournal\n",
      "\treview_date\n",
      "\tcreated_at\n",
      "\tupdated_at\n",
      "\tother\n",
      "Sample:\n",
      "\t1 | 1132 | Multiple | many reviews of Neruda and Yoshimasu translations & reviews of La Trace (in French) available on my website | The Washington Post, The Hindu, NPR interview, NYTimes Arts Beat, Publishers Weekly, Library Journal, Boston Globe  | 2016-09-01T07:00:00.000Z | 2017-01-10 14:04:42 | 2017-01-10 15:00:20 | N\n",
      "\n",
      "----------------------------------------------------------------------------------------------------\n",
      "\n"
     ]
    }
   ],
   "source": [
    "far_dfs = [ df_abst_far, df_articles_far, df_books_far, df_chaps_far,\n",
    "           df_papers_far, df_patents_far, df_revs_far]\n",
    "far_types = ['Abstracts', 'Articles', 'Books', 'Chapters', 'Papers', 'Patents', 'Reviews' ]\n",
    "for e, df in enumerate(far_dfs):\n",
    "    print(\"{}: {}\".format(far_types[e], df.shape[0]))\n",
    "    print(\"Columns:\\n\\t{}\".format('\\n\\t'.join(df.columns)))\n",
    "    print(\"Sample:\\n\\t{}\".format(' | '.join(df.iloc[0].values)))\n",
    "    print(\"\\n\" + '-'*100 + '\\n')"
   ]
  },
  {
   "cell_type": "markdown",
   "metadata": {},
   "source": [
    "## VIVO Data"
   ]
  },
  {
   "cell_type": "code",
   "execution_count": 57,
   "metadata": {},
   "outputs": [],
   "source": [
    "with open('data/rab/cite_properties.csv') as f:\n",
    "    data = f.readlines()\n",
    "    # skip header, strip trailing whitespace\n",
    "    fin_cite_props = [ d.strip() for d in data[1:] ]"
   ]
  },
  {
   "cell_type": "code",
   "execution_count": 58,
   "metadata": {},
   "outputs": [],
   "source": [
    "with open('data/rab/cite_data.nt') as f:\n",
    "    fin_rab_cites = f.readlines()"
   ]
  },
  {
   "cell_type": "code",
   "execution_count": 59,
   "metadata": {},
   "outputs": [
    {
     "data": {
      "text/plain": [
       "dict_values(['date', 'volume', 'hasContributor', 'authorList', 'pmid', 'issue', 'doi', 'hasVenue', 'pages', 'pmcid', 'issn', 'venueFor', 'eissn', 'publishedIn', 'book', 'hasLocation', 'editorList', 'chapter', 'hasPublisher', 'isbn', 'url', 'hasConferenceLocation', 'conferenceDate', 'hasConference', 'reviewOf', 'title', 'number', 'version', 'hasAssignee', 'hasCountry', 'hasAuthority', 'patentNumber', 'rabid', 'type'])"
      ]
     },
     "execution_count": 59,
     "metadata": {},
     "output_type": "execute_result"
    }
   ],
   "source": [
    "cite_prop_map = { c: c[40:] for c in fin_cite_props if c.startswith('http://vivo.brown.edu/ontology/citation#') }\n",
    "cite_prop_map['rabid'] = 'rabid'\n",
    "cite_prop_map['http://vitro.mannlib.cornell.edu/ns/vitro/0.7#mostSpecificType'] = 'type'\n",
    "cite_prop_map.values()"
   ]
  },
  {
   "cell_type": "code",
   "execution_count": 60,
   "metadata": {},
   "outputs": [],
   "source": [
    "RABCitation = namedtuple('RABCitation', sorted(cite_prop_map.values()))"
   ]
  },
  {
   "cell_type": "code",
   "execution_count": 61,
   "metadata": {},
   "outputs": [],
   "source": [
    "def clean_data_prop(oData):\n",
    "    return oData.rsplit('\"^^<http://www.w3.org/2001/XMLSchema#', maxsplit=1)[0].strip('\\\"\\n .<>')"
   ]
  },
  {
   "cell_type": "code",
   "execution_count": 62,
   "metadata": {},
   "outputs": [],
   "source": [
    "def parse_triple(rawRow):\n",
    "    s,p,o = rawRow.split(' ',maxsplit=2)\n",
    "    s = s.strip('<>')\n",
    "    p = p.strip('<>')\n",
    "    o = clean_data_prop(o)\n",
    "    return (s,p,o)"
   ]
  },
  {
   "cell_type": "code",
   "execution_count": 63,
   "metadata": {},
   "outputs": [
    {
     "data": {
      "text/plain": [
       "('http://vivo.brown.edu/individual/n5c6cae127059414ca258636cd3dc482b',\n",
       " 'http://www.w3.org/2000/01/rdf-schema#label',\n",
       " 'Erratum to: Global magnetic confinement for the 1.5D Vlasov-Maxwell system')"
      ]
     },
     "execution_count": 63,
     "metadata": {},
     "output_type": "execute_result"
    }
   ],
   "source": [
    "cite_triples = []\n",
    "for t in fin_rab_cites:\n",
    "    cite_triples.append(parse_triple(t))\n",
    "\n",
    "cite_triples[0]"
   ]
  },
  {
   "cell_type": "code",
   "execution_count": 77,
   "metadata": {},
   "outputs": [
    {
     "name": "stdout",
     "output_type": "stream",
     "text": [
      "['http://vivo.brown.edu/ontology/citation#NoID', 'http://vivo.brown.edu/ontology/citation#Patent']\n",
      "['http://vivo.brown.edu/ontology/citation#BookSection', 'http://vivo.brown.edu/ontology/citation#NoID']\n",
      "['http://vivo.brown.edu/ontology/citation#Article', 'http://vitro.mannlib.cornell.edu/ns/vitro/public#File']\n",
      "['http://vivo.brown.edu/ontology/citation#NoID', 'http://vivo.brown.edu/ontology/citation#Review']\n",
      "['http://vivo.brown.edu/ontology/citation#Article', 'http://vivo.brown.edu/ontology/citation#Review']\n",
      "['http://vivo.brown.edu/ontology/citation#NoID', 'http://vivo.brown.edu/ontology/citation#WorkingPaper']\n",
      "['http://vivo.brown.edu/ontology/citation#NoID', 'http://vivo.brown.edu/ontology/citation#Article']\n",
      "['http://vivo.brown.edu/ontology/citation#Citation', 'http://vivo.brown.edu/ontology/citation#Venue']\n",
      "['http://vivo.brown.edu/ontology/citation#NoID', 'http://vivo.brown.edu/ontology/citation#Abstract']\n",
      "['http://vivo.brown.edu/ontology/citation#Book', 'http://vivo.brown.edu/ontology/citation#Review']\n",
      "['http://vivo.brown.edu/ontology/citation#NoID', 'http://vivo.brown.edu/ontology/citation#Review', 'http://vivo.brown.edu/ontology/citation#Venue']\n",
      "['http://vivo.brown.edu/ontology/citation#NoID', 'http://vivo.brown.edu/ontology/citation#Article', 'http://vivo.brown.edu/ontology/citation#BookSection']\n",
      "['http://vivo.brown.edu/ontology/citation#NoID', 'http://vivo.brown.edu/ontology/citation#ConferencePaper']\n",
      "['http://vivo.brown.edu/ontology/citation#Article', 'http://vivo.brown.edu/ontology/citation#ConferencePaper']\n",
      "['http://vivo.brown.edu/ontology/citation#NoID', 'http://vivo.brown.edu/ontology/citation#Citation']\n",
      "['http://vivo.brown.edu/ontology/citation#Article', 'http://vivo.brown.edu/ontology/citation#Venue']\n",
      "['http://vivo.brown.edu/ontology/citation#Book', 'http://vivo.brown.edu/ontology/citation#NoID']\n",
      "['http://vivo.brown.edu/ontology/citation#Book', 'http://vivo.brown.edu/ontology/citation#Article']\n"
     ]
    }
   ],
   "source": [
    "# Analyzing citations with more than 1 most specific type\n",
    "\n",
    "no_ids = [ c for c in cite_triples\n",
    "          if c[1] == 'http://vitro.mannlib.cornell.edu/ns/vitro/0.7#mostSpecificType' \n",
    "          and c[2] == 'http://vivo.brown.edu/ontology/citation#NoID' ]\n",
    "msts = defaultdict(set)\n",
    "for c in cite_triples:\n",
    "    if c[1] == 'http://vitro.mannlib.cornell.edu/ns/vitro/0.7#mostSpecificType':\n",
    "        msts[c[0]].add(c[2])\n",
    "mlts = set()\n",
    "for m,v in msts.items():\n",
    "    if len(v) != 1:\n",
    "        mlts.add(frozenset(v))\n",
    "for m in mlts:\n",
    "    print(list(m))"
   ]
  },
  {
   "cell_type": "code",
   "execution_count": 64,
   "metadata": {},
   "outputs": [],
   "source": [
    "cite_dicts = defaultdict(dict)\n",
    "for t in cite_triples:\n",
    "    if t[1] in cite_prop_map:\n",
    "        cite_dicts[t[0]][cite_prop_map[t[1]]] = t[2]"
   ]
  },
  {
   "cell_type": "code",
   "execution_count": 65,
   "metadata": {},
   "outputs": [
    {
     "name": "stdout",
     "output_type": "stream",
     "text": [
      "RABCitation(authorList='Nguyen, Toan T., Nguyen, Truyen V., Strauss, Walter A', book='', chapter='', conferenceDate='', date='2015-06-01', doi='10.3934/krm.2015.8.615', editorList='', eissn='', hasAssignee='', hasAuthority='', hasConference='', hasConferenceLocation='', hasContributor='http://vivo.brown.edu/individual/wstrauss', hasCountry='', hasLocation='', hasPublisher='', hasVenue='http://vivo.brown.edu/individual/n6086eb8fe7824cad9423547d403a958d', isbn='', issn='', issue='3', number='', pages='615-616', patentNumber='', pmcid='', pmid='', publishedIn='Kinetic and Related Models', rabid='http://vivo.brown.edu/individual/n5c6cae127059414ca258636cd3dc482b', reviewOf='', title='', type='http://vivo.brown.edu/ontology/citation#Article', url='', venueFor='', version='', volume='8')\n"
     ]
    }
   ],
   "source": [
    "empty_row = { cite_prop_map[p]: '' for p in cite_prop_map }\n",
    "rab_rows = []\n",
    "for c in cite_dicts:\n",
    "    d = cite_dicts[c]\n",
    "    d['rabid'] = c\n",
    "    row = empty_row.copy()\n",
    "    row.update(d)\n",
    "    rab_rows.append(RABCitation(**row))\n",
    "\n",
    "print(rab_rows[0])"
   ]
  },
  {
   "cell_type": "code",
   "execution_count": 66,
   "metadata": {},
   "outputs": [
    {
     "data": {
      "text/html": [
       "<div>\n",
       "<style scoped>\n",
       "    .dataframe tbody tr th:only-of-type {\n",
       "        vertical-align: middle;\n",
       "    }\n",
       "\n",
       "    .dataframe tbody tr th {\n",
       "        vertical-align: top;\n",
       "    }\n",
       "\n",
       "    .dataframe thead th {\n",
       "        text-align: right;\n",
       "    }\n",
       "</style>\n",
       "<table border=\"1\" class=\"dataframe\">\n",
       "  <thead>\n",
       "    <tr style=\"text-align: right;\">\n",
       "      <th></th>\n",
       "      <th>rabid</th>\n",
       "      <th>type</th>\n",
       "      <th>doi</th>\n",
       "      <th>pmid</th>\n",
       "      <th>pmcid</th>\n",
       "      <th>issn</th>\n",
       "      <th>eissn</th>\n",
       "      <th>authorList</th>\n",
       "      <th>book</th>\n",
       "      <th>chapter</th>\n",
       "      <th>...</th>\n",
       "      <th>number</th>\n",
       "      <th>pages</th>\n",
       "      <th>patentNumber</th>\n",
       "      <th>publishedIn</th>\n",
       "      <th>reviewOf</th>\n",
       "      <th>title</th>\n",
       "      <th>url</th>\n",
       "      <th>venueFor</th>\n",
       "      <th>version</th>\n",
       "      <th>volume</th>\n",
       "    </tr>\n",
       "  </thead>\n",
       "  <tbody>\n",
       "    <tr>\n",
       "      <th>0</th>\n",
       "      <td>http://vivo.brown.edu/individual/n5c6cae127059...</td>\n",
       "      <td>Article</td>\n",
       "      <td>10.3934/krm.2015.8.615</td>\n",
       "      <td></td>\n",
       "      <td></td>\n",
       "      <td></td>\n",
       "      <td></td>\n",
       "      <td>Nguyen, Toan T., Nguyen, Truyen V., Strauss, W...</td>\n",
       "      <td></td>\n",
       "      <td></td>\n",
       "      <td>...</td>\n",
       "      <td></td>\n",
       "      <td>615-616</td>\n",
       "      <td></td>\n",
       "      <td>Kinetic and Related Models</td>\n",
       "      <td></td>\n",
       "      <td></td>\n",
       "      <td></td>\n",
       "      <td></td>\n",
       "      <td></td>\n",
       "      <td>8</td>\n",
       "    </tr>\n",
       "    <tr>\n",
       "      <th>1</th>\n",
       "      <td>http://vivo.brown.edu/individual/n52747</td>\n",
       "      <td>Article</td>\n",
       "      <td>10.1037/0012-1649.40.4.595</td>\n",
       "      <td>15238046</td>\n",
       "      <td></td>\n",
       "      <td></td>\n",
       "      <td></td>\n",
       "      <td>Li, Jin</td>\n",
       "      <td></td>\n",
       "      <td></td>\n",
       "      <td>...</td>\n",
       "      <td></td>\n",
       "      <td>595-605</td>\n",
       "      <td></td>\n",
       "      <td></td>\n",
       "      <td></td>\n",
       "      <td></td>\n",
       "      <td></td>\n",
       "      <td></td>\n",
       "      <td></td>\n",
       "      <td>40</td>\n",
       "    </tr>\n",
       "    <tr>\n",
       "      <th>2</th>\n",
       "      <td>http://vivo.brown.edu/individual/n8301</td>\n",
       "      <td>Article</td>\n",
       "      <td>10.1007/s10461-012-0163-8</td>\n",
       "      <td>22323006</td>\n",
       "      <td>PMC3471653</td>\n",
       "      <td></td>\n",
       "      <td></td>\n",
       "      <td>Brown JL, Sales JM, DiClemente RJ, Salazar LF,...</td>\n",
       "      <td></td>\n",
       "      <td></td>\n",
       "      <td>...</td>\n",
       "      <td></td>\n",
       "      <td>1491-500</td>\n",
       "      <td></td>\n",
       "      <td></td>\n",
       "      <td></td>\n",
       "      <td></td>\n",
       "      <td></td>\n",
       "      <td></td>\n",
       "      <td></td>\n",
       "      <td>16</td>\n",
       "    </tr>\n",
       "    <tr>\n",
       "      <th>3</th>\n",
       "      <td>http://vivo.brown.edu/individual/n98528</td>\n",
       "      <td>Article</td>\n",
       "      <td>10.1002/mc.2940130304</td>\n",
       "      <td>7619217</td>\n",
       "      <td></td>\n",
       "      <td></td>\n",
       "      <td></td>\n",
       "      <td>Sears WL, Goto-Mandeville R, Mirapuri M, Braun L</td>\n",
       "      <td></td>\n",
       "      <td></td>\n",
       "      <td>...</td>\n",
       "      <td></td>\n",
       "      <td>146-56</td>\n",
       "      <td></td>\n",
       "      <td></td>\n",
       "      <td></td>\n",
       "      <td></td>\n",
       "      <td></td>\n",
       "      <td></td>\n",
       "      <td></td>\n",
       "      <td>13</td>\n",
       "    </tr>\n",
       "    <tr>\n",
       "      <th>4</th>\n",
       "      <td>http://vivo.brown.edu/individual/n52835</td>\n",
       "      <td>Article</td>\n",
       "      <td>10.1016/j.drugalcdep.2014.09.265</td>\n",
       "      <td></td>\n",
       "      <td></td>\n",
       "      <td></td>\n",
       "      <td></td>\n",
       "      <td>Graves, Hannah, Hernandez, Lynn, Kahler, Chris...</td>\n",
       "      <td></td>\n",
       "      <td></td>\n",
       "      <td>...</td>\n",
       "      <td></td>\n",
       "      <td>e127-e128</td>\n",
       "      <td></td>\n",
       "      <td></td>\n",
       "      <td></td>\n",
       "      <td></td>\n",
       "      <td></td>\n",
       "      <td></td>\n",
       "      <td></td>\n",
       "      <td>146</td>\n",
       "    </tr>\n",
       "  </tbody>\n",
       "</table>\n",
       "<p>5 rows × 34 columns</p>\n",
       "</div>"
      ],
      "text/plain": [
       "                                               rabid     type  \\\n",
       "0  http://vivo.brown.edu/individual/n5c6cae127059...  Article   \n",
       "1            http://vivo.brown.edu/individual/n52747  Article   \n",
       "2             http://vivo.brown.edu/individual/n8301  Article   \n",
       "3            http://vivo.brown.edu/individual/n98528  Article   \n",
       "4            http://vivo.brown.edu/individual/n52835  Article   \n",
       "\n",
       "                                doi      pmid       pmcid issn eissn  \\\n",
       "0            10.3934/krm.2015.8.615                                    \n",
       "1        10.1037/0012-1649.40.4.595  15238046                          \n",
       "2         10.1007/s10461-012-0163-8  22323006  PMC3471653              \n",
       "3             10.1002/mc.2940130304   7619217                          \n",
       "4  10.1016/j.drugalcdep.2014.09.265                                    \n",
       "\n",
       "                                          authorList book chapter  ... number  \\\n",
       "0  Nguyen, Toan T., Nguyen, Truyen V., Strauss, W...               ...          \n",
       "1                                            Li, Jin               ...          \n",
       "2  Brown JL, Sales JM, DiClemente RJ, Salazar LF,...               ...          \n",
       "3   Sears WL, Goto-Mandeville R, Mirapuri M, Braun L               ...          \n",
       "4  Graves, Hannah, Hernandez, Lynn, Kahler, Chris...               ...          \n",
       "\n",
       "       pages patentNumber                 publishedIn reviewOf title url  \\\n",
       "0    615-616               Kinetic and Related Models                      \n",
       "1    595-605                                                               \n",
       "2   1491-500                                                               \n",
       "3     146-56                                                               \n",
       "4  e127-e128                                                               \n",
       "\n",
       "  venueFor version volume  \n",
       "0                       8  \n",
       "1                      40  \n",
       "2                      16  \n",
       "3                      13  \n",
       "4                     146  \n",
       "\n",
       "[5 rows x 34 columns]"
      ]
     },
     "execution_count": 66,
     "metadata": {},
     "output_type": "execute_result"
    }
   ],
   "source": [
    "df_cites_rab = pd.DataFrame(rab_rows)\n",
    "\n",
    "cols = df_cites_rab.columns.tolist()\n",
    "id_atts = [ 'rabid','type','doi','pmid','pmcid','issn','eissn' ]\n",
    "cols = [ c for c in cols if c not in id_atts ]\n",
    "cols = id_atts + cols\n",
    "df_cites_rab = df_cites_rab[ cols ]\n",
    "df_cites_rab.type = df_cites_rab.type.str.rsplit('#').str.get(1)\n",
    "df_cites_rab.head()"
   ]
  },
  {
   "cell_type": "markdown",
   "metadata": {},
   "source": [
    "## 3rd-party IDs"
   ]
  },
  {
   "cell_type": "code",
   "execution_count": null,
   "metadata": {},
   "outputs": [],
   "source": [
    "pd.melt(df_cites_rab, id_vars=['rabid', 'type'], value_vars=['']"
   ]
  },
  {
   "cell_type": "code",
   "execution_count": 67,
   "metadata": {},
   "outputs": [
    {
     "data": {
      "text/plain": [
       "Article            42162\n",
       "Citation            3548\n",
       "ConferencePaper      837\n",
       "NoID                 823\n",
       "BookSection          513\n",
       "Book                 496\n",
       "Review               165\n",
       "Abstract              71\n",
       "WorkingPaper          23\n",
       "Venue                 13\n",
       "Patent                 3\n",
       "Name: type, dtype: int64"
      ]
     },
     "execution_count": 67,
     "metadata": {},
     "output_type": "execute_result"
    }
   ],
   "source": [
    "df_cites_rab.type.value_counts()"
   ]
  },
  {
   "cell_type": "code",
   "execution_count": 53,
   "metadata": {},
   "outputs": [
    {
     "ename": "NameError",
     "evalue": "name 'df_cites_far' is not defined",
     "output_type": "error",
     "traceback": [
      "\u001b[0;31m---------------------------------------------------------------------------\u001b[0m",
      "\u001b[0;31mNameError\u001b[0m                                 Traceback (most recent call last)",
      "\u001b[0;32m<ipython-input-53-b30c8e046b86>\u001b[0m in \u001b[0;36m<module>\u001b[0;34m\u001b[0m\n\u001b[0;32m----> 1\u001b[0;31m \u001b[0mdf_cites_far\u001b[0m\u001b[0;34m.\u001b[0m\u001b[0minfo\u001b[0m\u001b[0;34m(\u001b[0m\u001b[0;34m)\u001b[0m\u001b[0;34m\u001b[0m\u001b[0;34m\u001b[0m\u001b[0m\n\u001b[0m",
      "\u001b[0;31mNameError\u001b[0m: name 'df_cites_far' is not defined"
     ]
    }
   ],
   "source": [
    "df_cites_far.info()"
   ]
  },
  {
   "cell_type": "code",
   "execution_count": null,
   "metadata": {},
   "outputs": [],
   "source": [
    "len(set(df_cites_rab[ (df_cites_rab.type=='Article') | (df_cites_rab.type=='Citation')].doi) & set(df_articles_far[ df_articles_far.article_id_type_id == 'DOI' ].identifier))"
   ]
  },
  {
   "cell_type": "code",
   "execution_count": null,
   "metadata": {},
   "outputs": [],
   "source": [
    "df_cites_rab[ (df_cites_rab.type !='Article') & (df_cites_rab.doi != '') ].type.value_counts()"
   ]
  },
  {
   "cell_type": "code",
   "execution_count": null,
   "metadata": {},
   "outputs": [],
   "source": [
    "df_cites_rab.type.value_counts()"
   ]
  },
  {
   "cell_type": "code",
   "execution_count": null,
   "metadata": {},
   "outputs": [],
   "source": []
  }
 ],
 "metadata": {
  "kernelspec": {
   "display_name": "Python 3",
   "language": "python",
   "name": "python3"
  },
  "language_info": {
   "codemirror_mode": {
    "name": "ipython",
    "version": 3
   },
   "file_extension": ".py",
   "mimetype": "text/x-python",
   "name": "python",
   "nbconvert_exporter": "python",
   "pygments_lexer": "ipython3",
   "version": "3.7.5"
  }
 },
 "nbformat": 4,
 "nbformat_minor": 2
}
