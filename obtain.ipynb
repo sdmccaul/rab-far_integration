{
 "cells": [
  {
   "cell_type": "code",
   "execution_count": 6,
   "metadata": {},
   "outputs": [],
   "source": [
    "import os\n",
    "import sys\n",
    "import re\n",
    "\n",
    "STAGE_DIR = 'data/staging'\n",
    "LOG_DIR = 'data/rab/logs'"
   ]
  },
  {
   "cell_type": "code",
   "execution_count": 16,
   "metadata": {},
   "outputs": [],
   "source": [
    "edit_ptn = re.compile(\n",
    "    '^[A-Z]+ '\n",
    "    '(?P<date>\\d{4}-\\d{1,2}-\\d{1,2}) (?P<time>\\d{2}:\\d{2}:\\d{2}),.+'\n",
    "    'Authenticated user: (?P<auth_user>[\\w]{2,})\\..+'\n",
    "    'Local name: (?P<local_name>\\w{2,})\\.')\n",
    "\n",
    "sesh_ptn = re.compile(\n",
    "    '^[A-Z]+ '\n",
    "    '(?P<date>\\d{4}-\\d{1,2}-\\d{1,2}) (?P<time>\\d{2}:\\d{2}:\\d{2}),.+'\n",
    "    'Session created for (?P<session>\\w{2,})$')"
   ]
  },
  {
   "cell_type": "code",
   "execution_count": 18,
   "metadata": {},
   "outputs": [],
   "source": [
    "with open(os.path.join(STAGE_DIR,'logs','vmgr_edits.csv'), 'w') as f_edits, \\\n",
    "    open(os.path.join(STAGE_DIR,'logs','vmgr_sessions.csv'), 'w') as f_sesh, \\\n",
    "    open(os.path.join(STAGE_DIR,'logs','vmgr_log_errs.txt'), 'w') as f_errs, \\\n",
    "    open(os.path.join(LOG_DIR,'vivo_all.log'), 'r') as f_log:\n",
    "    \n",
    "    while True:\n",
    "        line = f_log.readline()\n",
    "        if not line:\n",
    "            break\n",
    "        if 'Authenticated user:' in line:\n",
    "            m = re.match(edit_ptn, line)\n",
    "        elif 'Session created' in line:\n",
    "            m = re.match(sesh_ptn, line)\n",
    "        else:\n",
    "            continue\n",
    "        if not m:\n",
    "            f_errs.write(line)\n",
    "            continue\n",
    "        \n",
    "        matches = m.groupdict()\n",
    "        if matches.get('session'):\n",
    "            f_sesh.write(\n",
    "                '{},{},{}\\n'.format(matches['date'],matches['time'], matches['session']))\n",
    "        elif matches.get('local_name') != 'None':\n",
    "            f_edits.write(\n",
    "                '{},{},{}\\n'.format(matches['date'],matches['time'],\n",
    "                    matches['auth_user'], matches['local_name']))"
   ]
  },
  {
   "cell_type": "code",
   "execution_count": null,
   "metadata": {},
   "outputs": [],
   "source": []
  }
 ],
 "metadata": {
  "kernelspec": {
   "display_name": "Python 3",
   "language": "python",
   "name": "python3"
  },
  "language_info": {
   "codemirror_mode": {
    "name": "ipython",
    "version": 3
   },
   "file_extension": ".py",
   "mimetype": "text/x-python",
   "name": "python",
   "nbconvert_exporter": "python",
   "pygments_lexer": "ipython3",
   "version": "3.7.6"
  }
 },
 "nbformat": 4,
 "nbformat_minor": 4
}
