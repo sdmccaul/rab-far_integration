{
 "cells": [
  {
   "cell_type": "code",
   "execution_count": 2,
   "metadata": {},
   "outputs": [],
   "source": [
    "import os\n",
    "import sys\n",
    "import re\n",
    "\n",
    "STAGE_DIR = 'data/staging'\n",
    "LOG_DIR = 'data/rab/logs'"
   ]
  },
  {
   "cell_type": "code",
   "execution_count": 3,
   "metadata": {},
   "outputs": [],
   "source": [
    "edit_ptn = re.compile(\n",
    "    '^[A-Z]+ '\n",
    "    '(?P<date_time>\\d{4}-\\d{1,2}-\\d{1,2} \\d{2}:\\d{2}:\\d{2}),.+')\n",
    "\n",
    "sesh_ptn = re.compile(\n",
    "    '^[A-Z]+ '\n",
    "    '(?P<date_time>\\d{4}-\\d{1,2}-\\d{1,2} \\d{2}:\\d{2}:\\d{2}),.+'\n",
    "    'Session created for (?P<session>\\w{2,})$')"
   ]
  },
  {
   "cell_type": "code",
   "execution_count": 12,
   "metadata": {},
   "outputs": [],
   "source": [
    "add_by_id = (\"confirmed add by ID\", \"pub_by_id\")\n",
    "approve_pub = (\"Approving pub\", \"pub_by_harvest\")\n",
    "cv_upload = (\"CV file uploaded\", \"cv\")\n",
    "pub_form = (\"Publication form additions\", \"pub_manual\")\n",
    "field_edit = (\"Adding:\", \"field_data\")\n",
    "session = (\"Session created\", \"session\")\n",
    "cred_edit = (\"Credential form additions:\", \"form_data\")\n",
    "train_edit = (\"Training form additions:\", \"form_data\")\n",
    "appt_edit = (\"Appointment form additions:\", \"form_data\")\n",
    "\n",
    "log_tests = [ session, add_by_id, approve_pub, cv_upload, pub_form, field_edit,\n",
    "            cred_edit, train_edit, appt_edit ]"
   ]
  },
  {
   "cell_type": "code",
   "execution_count": 13,
   "metadata": {},
   "outputs": [],
   "source": [
    "def parse_logline(line, tests):\n",
    "    matched = [ t[1] for t in tests if t[0] in line ]\n",
    "    if len(matched) > 1:\n",
    "        print(line)\n",
    "    if len(matched) != 1:\n",
    "        return False\n",
    "    return matched[0]"
   ]
  },
  {
   "cell_type": "code",
   "execution_count": 14,
   "metadata": {},
   "outputs": [],
   "source": [
    "with open(os.path.join(STAGE_DIR,'logs','vmgr_edits.csv'), 'w') as f_edits, \\\n",
    "    open(os.path.join(STAGE_DIR,'logs','vmgr_sessions.csv'), 'w') as f_sesh, \\\n",
    "    open(os.path.join(STAGE_DIR,'logs','vmgr_log_errs.txt'), 'w') as f_errs, \\\n",
    "    open(os.path.join(LOG_DIR,'vivo_all.log'), 'r') as f_log:\n",
    "    \n",
    "    while True:\n",
    "        line = f_log.readline()\n",
    "        if not line:\n",
    "            break\n",
    "        tested = parse_logline(line, log_tests)\n",
    "        if tested == 'session':\n",
    "            m = re.match(sesh_ptn, line)\n",
    "        elif tested:\n",
    "            m = re.match(edit_ptn, line)\n",
    "        else:\n",
    "            continue\n",
    "        if not m:\n",
    "            f_errs.write(line)\n",
    "            continue\n",
    "        \n",
    "        matches = m.groupdict()\n",
    "        if matches.get('session'):\n",
    "            f_sesh.write(\n",
    "                '{},{}\\n'.format(matches['date_time'], matches['session']))\n",
    "        elif matches.get('date_time'):\n",
    "            f_edits.write(\n",
    "                '{},{}\\n'.format(matches['date_time'], tested))"
   ]
  },
  {
   "cell_type": "code",
   "execution_count": null,
   "metadata": {},
   "outputs": [],
   "source": []
  }
 ],
 "metadata": {
  "kernelspec": {
   "display_name": "Python 3",
   "language": "python",
   "name": "python3"
  },
  "language_info": {
   "codemirror_mode": {
    "name": "ipython",
    "version": 3
   },
   "file_extension": ".py",
   "mimetype": "text/x-python",
   "name": "python",
   "nbconvert_exporter": "python",
   "pygments_lexer": "ipython3",
   "version": "3.7.6"
  }
 },
 "nbformat": 4,
 "nbformat_minor": 4
}
